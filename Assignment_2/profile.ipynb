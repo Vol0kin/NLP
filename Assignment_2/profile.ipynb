{
 "cells": [
  {
   "cell_type": "code",
   "execution_count": 1,
   "metadata": {},
   "outputs": [],
   "source": [
    "%load_ext autoreload\n",
    "%autoreload 2"
   ]
  },
  {
   "cell_type": "code",
   "execution_count": 2,
   "metadata": {},
   "outputs": [],
   "source": [
    "import scipy\n",
    "import numpy as np\n",
    "import pandas as pd\n",
    "\n",
    "import os,sys,inspect\n",
    "\n",
    "sys.path.insert(0,'../') \n",
    "import skseq\n",
    "\n",
    "from skseq.sequences.sequence import Sequence\n",
    "from skseq.sequences.sequence_list import SequenceList\n",
    "\n",
    "from skseq.sequences.label_dictionary import LabelDictionary\n",
    "\n",
    "import skseq.sequences.structured_perceptron as spc\n",
    "\n",
    "df_train = pd.read_csv('data/train_data_ner.csv')\n",
    "df_test = pd.read_csv('data/test_data_ner.csv')\n",
    "tag_dict = LabelDictionary(label_names=set(df_train.tags))\n",
    "word_dict = LabelDictionary(label_names=(set(df_train.words) | set(df_test.words)))  # Union of train and test sets of words\n",
    "\n",
    "train_seq = SequenceList(word_dict, tag_dict)\n",
    "\n",
    "for sentence_id, group in df_train.groupby('sentence_id'):\n",
    "    seq_x = []\n",
    "    seq_y = []\n",
    "    for i in range(len(group)):\n",
    "        seq_x.append(group.iloc[i].words)\n",
    "        seq_y.append(group.iloc[i].tags)\n",
    "    train_seq.add_sequence(seq_x, seq_y, train_seq.x_dict, train_seq.y_dict)\n",
    "\n",
    "feature_mapper = skseq.sequences.id_feature.IDFeatures(train_seq)\n",
    "feature_mapper.build_features()\n",
    "\n",
    "sp = spc.StructuredPerceptron(word_dict, tag_dict, feature_mapper)"
   ]
  },
  {
   "cell_type": "code",
   "execution_count": 2,
   "metadata": {},
   "outputs": [
    {
     "name": "stdout",
     "output_type": "stream",
     "text": [
      "Epoch: 0 Accuracy: 0.894070\n",
      "          688672086 function calls in 518.480 seconds\n",
      "\n",
      "   Ordered by: cumulative time\n",
      "\n",
      "   ncalls  tottime  percall  cumtime  percall filename:lineno(function)\n",
      "        1    0.000    0.000  518.480  518.480 {built-in method builtins.exec}\n",
      "        1    0.000    0.000  518.480  518.480 <string>:1(<module>)\n",
      "        1    0.000    0.000  518.480  518.480 structured_perceptron.py:25(fit)\n",
      "        1    0.115    0.115  518.479  518.479 structured_perceptron.py:58(fit_epoch)\n",
      "    38366    4.411    0.000  518.364    0.014 structured_perceptron.py:95(perceptron_update)\n",
      "    38366    0.224    0.000  513.243    0.013 sequence_classifier.py:124(viterbi_decode)\n",
      "    38366  164.527    0.004  306.158    0.008 discriminative_sequence_classifier.py:25(compute_scores)\n",
      "    38366   69.183    0.002  206.636    0.005 sequence_classification_decoder.py:83(run_viterbi)\n",
      "231708035  114.319    0.000  130.703    0.000 id_feature.py:113(get_transition_features)\n",
      " 27456818   15.912    0.000  114.814    0.000 {built-in method numpy.core._multiarray_umath.implement_array_function}\n",
      " 13651677    8.504    0.000   84.610    0.000 <__array_function__ internals>:177(amax)\n",
      " 13651677   12.457    0.000   66.556    0.000 fromnumeric.py:2675(amax)\n",
      " 13651677   16.512    0.000   54.099    0.000 fromnumeric.py:69(_wrapreduction)\n",
      " 13651677    9.243    0.000   51.338    0.000 <__array_function__ internals>:177(argmax)\n",
      " 13651677   11.253    0.000   32.260    0.000 fromnumeric.py:1127(argmax)\n",
      " 13651677   29.712    0.000   29.712    0.000 {method 'reduce' of 'numpy.ufunc' objects}\n",
      " 13651677    7.869    0.000   21.007    0.000 fromnumeric.py:51(_wrapfunc)\n",
      "231938524   16.432    0.000   16.432    0.000 {built-in method builtins.len}\n",
      " 14443315    8.853    0.000   10.930    0.000 id_feature.py:98(get_emission_features)\n",
      " 13651677   10.893    0.000   10.893    0.000 {method 'argmax' of 'numpy.ndarray' objects}\n",
      " 13651677    6.223    0.000    6.223    0.000 fromnumeric.py:70(<dictcomp>)\n",
      " 13651677    2.245    0.000    2.245    0.000 {built-in method builtins.getattr}\n",
      "   543643    1.013    0.000    2.077    0.000 id_feature.py:162(add_emission_features)\n",
      " 13651677    2.029    0.000    2.029    0.000 fromnumeric.py:1123(_argmax_dispatcher)\n",
      " 13651677    1.935    0.000    1.935    0.000 fromnumeric.py:2670(_amax_dispatcher)\n",
      " 13651677    1.652    0.000    1.652    0.000 {method 'items' of 'dict' objects}\n",
      "    76732    0.181    0.000    0.966    0.000 numeric.py:149(ones)\n",
      "    76732    0.154    0.000    0.574    0.000 <__array_function__ internals>:177(copyto)\n",
      "   191830    0.496    0.000    0.496    0.000 {built-in method numpy.zeros}\n",
      "   543966    0.427    0.000    0.427    0.000 id_feature.py:204(add_feature)\n",
      "    76732    0.114    0.000    0.314    0.000 <__array_function__ internals>:177(size)\n",
      "   543643    0.295    0.000    0.295    0.000 {method 'format' of 'str' objects}\n",
      "  1087898    0.227    0.000    0.227    0.000 label_dictionary.py:22(get_label_name)\n",
      "    38366    0.136    0.000    0.226    0.000 sequence.py:24(copy_sequence)\n",
      "    76732    0.211    0.000    0.211    0.000 {built-in method numpy.empty}\n",
      "   662448    0.199    0.000    0.199    0.000 id_feature.py:124(get_initial_features)\n",
      "   652314    0.150    0.000    0.150    0.000 id_feature.py:131(get_final_features)\n",
      "   543645    0.105    0.000    0.105    0.000 {built-in method builtins.isinstance}\n",
      "    38366    0.068    0.000    0.090    0.000 sequence.py:10(__init__)\n",
      "    76732    0.087    0.000    0.087    0.000 fromnumeric.py:3206(size)\n",
      "    38366    0.025    0.000    0.038    0.000 sequence_classifier.py:18(get_num_states)\n",
      "    38366    0.036    0.000    0.036    0.000 log_domain.py:8(logzero)\n",
      "    76732    0.024    0.000    0.024    0.000 multiarray.py:1071(copyto)\n",
      "    76732    0.020    0.000    0.020    0.000 fromnumeric.py:3202(_size_dispatcher)\n",
      "    39803    0.011    0.000    0.011    0.000 {method 'append' of 'list' objects}\n",
      "      289    0.000    0.000    0.001    0.000 id_feature.py:184(add_transition_features)\n",
      "        1    0.000    0.000    0.000    0.000 {built-in method builtins.print}\n",
      "        2    0.000    0.000    0.000    0.000 iostream.py:525(write)\n",
      "        2    0.000    0.000    0.000    0.000 iostream.py:455(_schedule_flush)\n",
      "        1    0.000    0.000    0.000    0.000 iostream.py:209(schedule)\n",
      "        1    0.000    0.000    0.000    0.000 socket.py:480(send)\n",
      "        1    0.000    0.000    0.000    0.000 {method 'copy' of 'numpy.ndarray' objects}\n",
      "       17    0.000    0.000    0.000    0.000 id_feature.py:138(add_initial_features)\n",
      "       17    0.000    0.000    0.000    0.000 id_feature.py:150(add_final_features)\n",
      "        1    0.000    0.000    0.000    0.000 threading.py:1113(is_alive)\n",
      "        2    0.000    0.000    0.000    0.000 iostream.py:436(_is_master_process)\n",
      "        1    0.000    0.000    0.000    0.000 threading.py:1059(_wait_for_tstate_lock)\n",
      "        1    0.000    0.000    0.000    0.000 sequence_list.py:47(size)\n",
      "        1    0.000    0.000    0.000    0.000 iostream.py:97(_event_pipe)\n",
      "        1    0.000    0.000    0.000    0.000 {method 'acquire' of '_thread.lock' objects}\n",
      "        2    0.000    0.000    0.000    0.000 {method 'write' of '_io.StringIO' objects}\n",
      "        2    0.000    0.000    0.000    0.000 {method '__exit__' of '_thread.RLock' objects}\n",
      "        2    0.000    0.000    0.000    0.000 {built-in method posix.getpid}\n",
      "        1    0.000    0.000    0.000    0.000 threading.py:529(is_set)\n",
      "        1    0.000    0.000    0.000    0.000 {method 'disable' of '_lsprof.Profiler' objects}\n",
      "        1    0.000    0.000    0.000    0.000 {method 'append' of 'collections.deque' objects}"
     ]
    }
   ],
   "source": [
    "%%prun -s cumulative\n",
    "sp.fit(feature_mapper.dataset, 1)"
   ]
  },
  {
   "cell_type": "code",
   "execution_count": 5,
   "metadata": {},
   "outputs": [
    {
     "name": "stdout",
     "output_type": "stream",
     "text": [
      " \n",
      "*** Profile printout saved to text file 'profile_output/compute_scores.txt'.\n"
     ]
    }
   ],
   "source": [
    "%%prun -s cumulative -T profile_output/compute_scores.txt\n",
    "np.random.seed(140)\n",
    "for i in np.random.randint(low=0, high=len(train_seq), size=1000):\n",
    "  sequence = train_seq[i]\n",
    "  initial_scores, transition_scores, final_scores, emission_scores = \\\n",
    "    sp.compute_scores(sequence)"
   ]
  },
  {
   "cell_type": "code",
   "execution_count": 4,
   "metadata": {},
   "outputs": [
    {
     "ename": "NameError",
     "evalue": "name 'initial_scores' is not defined",
     "output_type": "error",
     "traceback": [
      "\u001b[0;31m---------------------------------------------------------------------------\u001b[0m",
      "\u001b[0;31mNameError\u001b[0m                                 Traceback (most recent call last)",
      "Input \u001b[0;32mIn [4]\u001b[0m, in \u001b[0;36m<cell line: 1>\u001b[0;34m()\u001b[0m\n\u001b[0;32m----> 1\u001b[0m \u001b[43mget_ipython\u001b[49m\u001b[43m(\u001b[49m\u001b[43m)\u001b[49m\u001b[38;5;241;43m.\u001b[39;49m\u001b[43mrun_cell_magic\u001b[49m\u001b[43m(\u001b[49m\u001b[38;5;124;43m'\u001b[39;49m\u001b[38;5;124;43mprun\u001b[39;49m\u001b[38;5;124;43m'\u001b[39;49m\u001b[43m,\u001b[49m\u001b[43m \u001b[49m\u001b[38;5;124;43m'\u001b[39;49m\u001b[38;5;124;43m-s cumulative -T profile_output/run_viterbi.txt\u001b[39;49m\u001b[38;5;124;43m'\u001b[39;49m\u001b[43m,\u001b[49m\u001b[43m \u001b[49m\u001b[38;5;124;43m'\u001b[39;49m\u001b[38;5;124;43mfor i in range(1000):\u001b[39;49m\u001b[38;5;130;43;01m\\n\u001b[39;49;00m\u001b[38;5;124;43m  best_states, total_score = sp.decoder.run_viterbi(initial_scores,\u001b[39;49m\u001b[38;5;130;43;01m\\n\u001b[39;49;00m\u001b[38;5;124;43m                                                      transition_scores,\u001b[39;49m\u001b[38;5;130;43;01m\\n\u001b[39;49;00m\u001b[38;5;124;43m                                                      final_scores,\u001b[39;49m\u001b[38;5;130;43;01m\\n\u001b[39;49;00m\u001b[38;5;124;43m                                                      emission_scores)\u001b[39;49m\u001b[38;5;130;43;01m\\n\u001b[39;49;00m\u001b[38;5;124;43m'\u001b[39;49m\u001b[43m)\u001b[49m\n",
      "File \u001b[0;32m/usr/local/Caskroom/miniconda/base/lib/python3.9/site-packages/IPython/core/interactiveshell.py:2357\u001b[0m, in \u001b[0;36mInteractiveShell.run_cell_magic\u001b[0;34m(self, magic_name, line, cell)\u001b[0m\n\u001b[1;32m   2355\u001b[0m \u001b[38;5;28;01mwith\u001b[39;00m \u001b[38;5;28mself\u001b[39m\u001b[38;5;241m.\u001b[39mbuiltin_trap:\n\u001b[1;32m   2356\u001b[0m     args \u001b[38;5;241m=\u001b[39m (magic_arg_s, cell)\n\u001b[0;32m-> 2357\u001b[0m     result \u001b[38;5;241m=\u001b[39m \u001b[43mfn\u001b[49m\u001b[43m(\u001b[49m\u001b[38;5;241;43m*\u001b[39;49m\u001b[43margs\u001b[49m\u001b[43m,\u001b[49m\u001b[43m \u001b[49m\u001b[38;5;241;43m*\u001b[39;49m\u001b[38;5;241;43m*\u001b[39;49m\u001b[43mkwargs\u001b[49m\u001b[43m)\u001b[49m\n\u001b[1;32m   2358\u001b[0m \u001b[38;5;28;01mreturn\u001b[39;00m result\n",
      "File \u001b[0;32m/usr/local/Caskroom/miniconda/base/lib/python3.9/site-packages/IPython/core/magics/execution.py:296\u001b[0m, in \u001b[0;36mExecutionMagics.prun\u001b[0;34m(self, parameter_s, cell)\u001b[0m\n\u001b[1;32m    294\u001b[0m     arg_str \u001b[38;5;241m+\u001b[39m\u001b[38;5;241m=\u001b[39m \u001b[38;5;124m'\u001b[39m\u001b[38;5;130;01m\\n\u001b[39;00m\u001b[38;5;124m'\u001b[39m \u001b[38;5;241m+\u001b[39m cell\n\u001b[1;32m    295\u001b[0m arg_str \u001b[38;5;241m=\u001b[39m \u001b[38;5;28mself\u001b[39m\u001b[38;5;241m.\u001b[39mshell\u001b[38;5;241m.\u001b[39mtransform_cell(arg_str)\n\u001b[0;32m--> 296\u001b[0m \u001b[38;5;28;01mreturn\u001b[39;00m \u001b[38;5;28;43mself\u001b[39;49m\u001b[38;5;241;43m.\u001b[39;49m\u001b[43m_run_with_profiler\u001b[49m\u001b[43m(\u001b[49m\u001b[43marg_str\u001b[49m\u001b[43m,\u001b[49m\u001b[43m \u001b[49m\u001b[43mopts\u001b[49m\u001b[43m,\u001b[49m\u001b[43m \u001b[49m\u001b[38;5;28;43mself\u001b[39;49m\u001b[38;5;241;43m.\u001b[39;49m\u001b[43mshell\u001b[49m\u001b[38;5;241;43m.\u001b[39;49m\u001b[43muser_ns\u001b[49m\u001b[43m)\u001b[49m\n",
      "File \u001b[0;32m/usr/local/Caskroom/miniconda/base/lib/python3.9/site-packages/IPython/core/magics/execution.py:318\u001b[0m, in \u001b[0;36mExecutionMagics._run_with_profiler\u001b[0;34m(self, code, opts, namespace)\u001b[0m\n\u001b[1;32m    316\u001b[0m prof \u001b[38;5;241m=\u001b[39m profile\u001b[38;5;241m.\u001b[39mProfile()\n\u001b[1;32m    317\u001b[0m \u001b[38;5;28;01mtry\u001b[39;00m:\n\u001b[0;32m--> 318\u001b[0m     prof \u001b[38;5;241m=\u001b[39m \u001b[43mprof\u001b[49m\u001b[38;5;241;43m.\u001b[39;49m\u001b[43mrunctx\u001b[49m\u001b[43m(\u001b[49m\u001b[43mcode\u001b[49m\u001b[43m,\u001b[49m\u001b[43m \u001b[49m\u001b[43mnamespace\u001b[49m\u001b[43m,\u001b[49m\u001b[43m \u001b[49m\u001b[43mnamespace\u001b[49m\u001b[43m)\u001b[49m\n\u001b[1;32m    319\u001b[0m     sys_exit \u001b[38;5;241m=\u001b[39m \u001b[38;5;124m'\u001b[39m\u001b[38;5;124m'\u001b[39m\n\u001b[1;32m    320\u001b[0m \u001b[38;5;28;01mexcept\u001b[39;00m \u001b[38;5;167;01mSystemExit\u001b[39;00m:\n",
      "File \u001b[0;32m/usr/local/Caskroom/miniconda/base/lib/python3.9/cProfile.py:100\u001b[0m, in \u001b[0;36mProfile.runctx\u001b[0;34m(self, cmd, globals, locals)\u001b[0m\n\u001b[1;32m     98\u001b[0m \u001b[38;5;28mself\u001b[39m\u001b[38;5;241m.\u001b[39menable()\n\u001b[1;32m     99\u001b[0m \u001b[38;5;28;01mtry\u001b[39;00m:\n\u001b[0;32m--> 100\u001b[0m     \u001b[43mexec\u001b[49m\u001b[43m(\u001b[49m\u001b[43mcmd\u001b[49m\u001b[43m,\u001b[49m\u001b[43m \u001b[49m\u001b[38;5;28;43mglobals\u001b[39;49m\u001b[43m,\u001b[49m\u001b[43m \u001b[49m\u001b[38;5;28;43mlocals\u001b[39;49m\u001b[43m)\u001b[49m\n\u001b[1;32m    101\u001b[0m \u001b[38;5;28;01mfinally\u001b[39;00m:\n\u001b[1;32m    102\u001b[0m     \u001b[38;5;28mself\u001b[39m\u001b[38;5;241m.\u001b[39mdisable()\n",
      "File \u001b[0;32m<string>:2\u001b[0m, in \u001b[0;36m<module>\u001b[0;34m\u001b[0m\n",
      "\u001b[0;31mNameError\u001b[0m: name 'initial_scores' is not defined"
     ]
    }
   ],
   "source": [
    "%%prun -s cumulative -T profile_output/run_viterbi.txt\n",
    "for i in range(1000):\n",
    "  best_states, total_score = sp.decoder.run_viterbi(initial_scores,\n",
    "                                                      transition_scores,\n",
    "                                                      final_scores,\n",
    "                                                      emission_scores)"
   ]
  },
  {
   "cell_type": "code",
   "execution_count": 41,
   "metadata": {},
   "outputs": [
    {
     "name": "stdout",
     "output_type": "stream",
     "text": [
      "327 µs ± 9.43 µs per loop (mean ± std. dev. of 7 runs, 1,000 loops each)\n"
     ]
    }
   ],
   "source": [
    "%%timeit\n",
    "sp.decoder.run_viterbi(initial_scores,\n",
    "                       transition_scores,\n",
    "                       final_scores,\n",
    "                       emission_scores)"
   ]
  },
  {
   "cell_type": "code",
   "execution_count": 40,
   "metadata": {
    "scrolled": true
   },
   "outputs": [],
   "source": [
    "a = sp.decoder.run_viterbi(initial_scores,\n",
    "                       transition_scores,\n",
    "                       final_scores,\n",
    "                       emission_scores)"
   ]
  },
  {
   "cell_type": "code",
   "execution_count": 33,
   "metadata": {},
   "outputs": [],
   "source": [
    "b = sp.decoder.run_viterbi(initial_scores,\n",
    "                       transition_scores,\n",
    "                       final_scores,\n",
    "                       emission_scores)"
   ]
  },
  {
   "cell_type": "code",
   "execution_count": 32,
   "metadata": {},
   "outputs": [
    {
     "data": {
      "text/plain": [
       "(array([0, 0, 0, 0, 0, 0, 0, 0, 0, 0, 0, 0, 0, 0, 0, 0, 0, 0, 0, 0, 0]), 0.0)"
      ]
     },
     "execution_count": 32,
     "metadata": {},
     "output_type": "execute_result"
    }
   ],
   "source": [
    "a"
   ]
  },
  {
   "cell_type": "code",
   "execution_count": 36,
   "metadata": {},
   "outputs": [
    {
     "data": {
      "text/plain": [
       "(array([0, 0, 0, 0, 0, 0, 0, 0, 0, 0, 0, 0, 0, 0, 0, 0, 0, 0, 0, 0, 0]), 0.0)"
      ]
     },
     "execution_count": 36,
     "metadata": {},
     "output_type": "execute_result"
    }
   ],
   "source": [
    "b"
   ]
  },
  {
   "cell_type": "code",
   "execution_count": 26,
   "metadata": {},
   "outputs": [
    {
     "data": {
      "text/plain": [
       "(21, 17)"
      ]
     },
     "execution_count": 26,
     "metadata": {},
     "output_type": "execute_result"
    }
   ],
   "source": [
    "a.shape"
   ]
  },
  {
   "cell_type": "code",
   "execution_count": 27,
   "metadata": {},
   "outputs": [
    {
     "data": {
      "text/plain": [
       "(20, 17, 17)"
      ]
     },
     "execution_count": 27,
     "metadata": {},
     "output_type": "execute_result"
    }
   ],
   "source": [
    "b.shape"
   ]
  },
  {
   "cell_type": "code",
   "execution_count": 30,
   "metadata": {},
   "outputs": [
    {
     "data": {
      "text/plain": [
       "(17, 17)"
      ]
     },
     "execution_count": 30,
     "metadata": {},
     "output_type": "execute_result"
    }
   ],
   "source": [
    "(a[0] + b[0]).shape"
   ]
  },
  {
   "cell_type": "code",
   "execution_count": null,
   "metadata": {},
   "outputs": [],
   "source": []
  }
 ],
 "metadata": {
  "kernelspec": {
   "display_name": "Python 3 (ipykernel)",
   "language": "python",
   "name": "python3"
  },
  "language_info": {
   "codemirror_mode": {
    "name": "ipython",
    "version": 3
   },
   "file_extension": ".py",
   "mimetype": "text/x-python",
   "name": "python",
   "nbconvert_exporter": "python",
   "pygments_lexer": "ipython3",
   "version": "3.9.7"
  },
  "vscode": {
   "interpreter": {
    "hash": "c30f2af5f468e7f5b45bcc30fca5f4886c90d54777aed916ed5f6294dfb24bf2"
   }
  }
 },
 "nbformat": 4,
 "nbformat_minor": 2
}
