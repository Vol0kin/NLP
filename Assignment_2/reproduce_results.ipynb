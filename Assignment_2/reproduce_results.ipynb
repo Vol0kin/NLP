{
 "cells": [
  {
   "cell_type": "markdown",
   "metadata": {},
   "source": [
    "### Imports"
   ]
  },
  {
   "cell_type": "code",
   "execution_count": 1,
   "metadata": {
    "ExecuteTime": {
     "end_time": "2020-05-12T14:44:48.896179Z",
     "start_time": "2020-05-12T14:44:48.649812Z"
    }
   },
   "outputs": [],
   "source": [
    "%matplotlib inline\n",
    "%load_ext autoreload\n",
    "%autoreload 2"
   ]
  },
  {
   "cell_type": "code",
   "execution_count": 2,
   "metadata": {
    "ExecuteTime": {
     "end_time": "2020-05-12T14:44:49.049052Z",
     "start_time": "2020-05-12T14:44:48.998738Z"
    }
   },
   "outputs": [],
   "source": [
    "import scipy\n",
    "import numpy as np\n",
    "import pandas as pd\n",
    "import os,sys,inspect"
   ]
  },
  {
   "cell_type": "code",
   "execution_count": 3,
   "metadata": {
    "ExecuteTime": {
     "end_time": "2020-05-12T14:44:49.173923Z",
     "start_time": "2020-05-12T14:44:49.148685Z"
    }
   },
   "outputs": [],
   "source": [
    "# The skseq library must be previously installed. Here we assume it is in '../skseq'\n",
    "sys.path.insert(0,'../') \n",
    "import skseq\n",
    "\n",
    "from skseq.sequences.sequence import Sequence\n",
    "from skseq.sequences.sequence_list import SequenceList\n",
    "\n",
    "from skseq.sequences.label_dictionary import LabelDictionary\n",
    "\n",
    "import skseq.sequences.structured_perceptron as spc"
   ]
  },
  {
   "cell_type": "code",
   "execution_count": 4,
   "metadata": {},
   "outputs": [],
   "source": [
    "from utils.utils import build_sequence_list, evaluate_corpus, generate_tiny_test"
   ]
  },
  {
   "cell_type": "markdown",
   "metadata": {},
   "source": [
    "### Load data"
   ]
  },
  {
   "cell_type": "code",
   "execution_count": 5,
   "metadata": {},
   "outputs": [
    {
     "name": "stdout",
     "output_type": "stream",
     "text": [
      "(839149, 3)\n"
     ]
    }
   ],
   "source": [
    "df_train = pd.read_csv('data/train_data_ner.csv')\n",
    "print(df_train.shape)"
   ]
  },
  {
   "cell_type": "code",
   "execution_count": 6,
   "metadata": {},
   "outputs": [
    {
     "name": "stdout",
     "output_type": "stream",
     "text": [
      "(837339, 3)\n"
     ]
    },
    {
     "data": {
      "text/html": [
       "<div>\n",
       "<style scoped>\n",
       "    .dataframe tbody tr th:only-of-type {\n",
       "        vertical-align: middle;\n",
       "    }\n",
       "\n",
       "    .dataframe tbody tr th {\n",
       "        vertical-align: top;\n",
       "    }\n",
       "\n",
       "    .dataframe thead th {\n",
       "        text-align: right;\n",
       "    }\n",
       "</style>\n",
       "<table border=\"1\" class=\"dataframe\">\n",
       "  <thead>\n",
       "    <tr style=\"text-align: right;\">\n",
       "      <th></th>\n",
       "      <th>sentence_id</th>\n",
       "      <th>words</th>\n",
       "      <th>tags</th>\n",
       "    </tr>\n",
       "  </thead>\n",
       "  <tbody>\n",
       "    <tr>\n",
       "      <th>0</th>\n",
       "      <td>1</td>\n",
       "      <td>Iranian</td>\n",
       "      <td>B-gpe</td>\n",
       "    </tr>\n",
       "    <tr>\n",
       "      <th>1</th>\n",
       "      <td>1</td>\n",
       "      <td>officials</td>\n",
       "      <td>O</td>\n",
       "    </tr>\n",
       "    <tr>\n",
       "      <th>2</th>\n",
       "      <td>1</td>\n",
       "      <td>say</td>\n",
       "      <td>O</td>\n",
       "    </tr>\n",
       "    <tr>\n",
       "      <th>3</th>\n",
       "      <td>1</td>\n",
       "      <td>they</td>\n",
       "      <td>O</td>\n",
       "    </tr>\n",
       "    <tr>\n",
       "      <th>4</th>\n",
       "      <td>1</td>\n",
       "      <td>expect</td>\n",
       "      <td>O</td>\n",
       "    </tr>\n",
       "  </tbody>\n",
       "</table>\n",
       "</div>"
      ],
      "text/plain": [
       "   sentence_id      words   tags\n",
       "0            1    Iranian  B-gpe\n",
       "1            1  officials      O\n",
       "2            1        say      O\n",
       "3            1       they      O\n",
       "4            1     expect      O"
      ]
     },
     "execution_count": 6,
     "metadata": {},
     "output_type": "execute_result"
    }
   ],
   "source": [
    "df_test = pd.read_csv('data/test_data_ner.csv')\n",
    "print(df_test.shape)\n",
    "df_test.head(5)"
   ]
  },
  {
   "cell_type": "code",
   "execution_count": 7,
   "metadata": {},
   "outputs": [
    {
     "data": {
      "text/plain": [
       "['The programmers from Barcelona might write a sentence without a spell checker .',\n",
       " 'The programmers from Barchelona cannot write a sentence without a spell checker .',\n",
       " 'Jack London went to Parris .',\n",
       " 'Jack London went to Paris .',\n",
       " 'Bill gates and Steve jobs never though Microsoft would become such a big company .',\n",
       " 'Bill Gates and Steve Jobs never though Microsof would become such a big company .',\n",
       " 'The president of U.S.A though they could win the war .',\n",
       " 'The president of the United States of America though they could win the war .',\n",
       " 'The king of Saudi Arabia wanted total control .',\n",
       " 'Robin does not want to go to Saudi Arabia .',\n",
       " 'Apple is a great company .',\n",
       " 'I really love apples and oranges .',\n",
       " 'Alice and Henry went to the Microsoft store to buy a new computer during their trip to New York .']"
      ]
     },
     "execution_count": 7,
     "metadata": {},
     "output_type": "execute_result"
    }
   ],
   "source": [
    "tiny_test = generate_tiny_test()\n",
    "tiny_test"
   ]
  },
  {
   "cell_type": "markdown",
   "metadata": {},
   "source": [
    "### Dictionaries"
   ]
  },
  {
   "cell_type": "code",
   "execution_count": 8,
   "metadata": {},
   "outputs": [
    {
     "name": "stdout",
     "output_type": "stream",
     "text": [
      "Number of distinct tags: 17\n"
     ]
    },
    {
     "data": {
      "text/plain": [
       "{'I-nat': 0,\n",
       " 'I-geo': 1,\n",
       " 'B-nat': 2,\n",
       " 'B-eve': 3,\n",
       " 'I-tim': 4,\n",
       " 'B-per': 5,\n",
       " 'B-geo': 6,\n",
       " 'B-org': 7,\n",
       " 'B-tim': 8,\n",
       " 'O': 9,\n",
       " 'I-art': 10,\n",
       " 'I-eve': 11,\n",
       " 'B-gpe': 12,\n",
       " 'I-gpe': 13,\n",
       " 'I-per': 14,\n",
       " 'B-art': 15,\n",
       " 'I-org': 16}"
      ]
     },
     "execution_count": 8,
     "metadata": {},
     "output_type": "execute_result"
    }
   ],
   "source": [
    "# We assume that the training data includes all possible tags that may exist (17 tags)\n",
    "\n",
    "tag_dict = LabelDictionary(label_names=set(df_train.tags))\n",
    "print('Number of distinct tags:', len(tag_dict))\n",
    "tag_dict"
   ]
  },
  {
   "cell_type": "code",
   "execution_count": 9,
   "metadata": {},
   "outputs": [
    {
     "name": "stdout",
     "output_type": "stream",
     "text": [
      "Number of distinct words in train set:  31979\n"
     ]
    }
   ],
   "source": [
    "# Generate dictionary of words for training dataset\n",
    "word_dict_train = LabelDictionary(label_names=set(df_train.words))\n",
    "print('Number of distinct words in train set: ', len(word_dict_train))"
   ]
  },
  {
   "cell_type": "code",
   "execution_count": 10,
   "metadata": {},
   "outputs": [
    {
     "name": "stdout",
     "output_type": "stream",
     "text": [
      "Number of distinct words in test set:  43955\n"
     ]
    }
   ],
   "source": [
    "# Generate dictionary of words for test dataset\n",
    "word_dict_test = LabelDictionary(label_names=set(df_test.words))\n",
    "print('Number of distinct words in test set: ', len(word_dict_test))"
   ]
  },
  {
   "cell_type": "markdown",
   "metadata": {},
   "source": [
    "### Build train_seq and test_seq"
   ]
  },
  {
   "cell_type": "code",
   "execution_count": 11,
   "metadata": {},
   "outputs": [
    {
     "name": "stdout",
     "output_type": "stream",
     "text": [
      "CPU times: user 4.96 s, sys: 34.5 ms, total: 4.99 s\n",
      "Wall time: 4.99 s\n"
     ]
    }
   ],
   "source": [
    "%%time\n",
    "\n",
    "# Build sequence_list object with train data\n",
    "\n",
    "train_seq = build_sequence_list(df_train, word_dict_train, tag_dict)"
   ]
  },
  {
   "cell_type": "code",
   "execution_count": 12,
   "metadata": {},
   "outputs": [
    {
     "name": "stdout",
     "output_type": "stream",
     "text": [
      "CPU times: user 4.79 s, sys: 19.5 ms, total: 4.81 s\n",
      "Wall time: 4.81 s\n"
     ]
    }
   ],
   "source": [
    "%%time\n",
    "\n",
    "# Build sequence_list object with test data\n",
    "\n",
    "test_seq = build_sequence_list(df_test, word_dict_test, tag_dict, use_labels=True)"
   ]
  },
  {
   "cell_type": "code",
   "execution_count": 13,
   "metadata": {
    "ExecuteTime": {
     "end_time": "2020-05-12T14:45:00.787327Z",
     "start_time": "2020-05-12T14:45:00.771264Z"
    }
   },
   "outputs": [
    {
     "data": {
      "text/plain": [
       "(38366, 38367)"
      ]
     },
     "execution_count": 13,
     "metadata": {},
     "output_type": "execute_result"
    }
   ],
   "source": [
    "# Number of sequences in train and test\n",
    "len(train_seq), len(test_seq)"
   ]
  },
  {
   "cell_type": "code",
   "execution_count": 14,
   "metadata": {
    "ExecuteTime": {
     "end_time": "2020-05-12T14:45:01.866931Z",
     "start_time": "2020-05-12T14:45:01.851802Z"
    }
   },
   "outputs": [
    {
     "data": {
      "text/plain": [
       "(31979, 43955)"
      ]
     },
     "execution_count": 14,
     "metadata": {},
     "output_type": "execute_result"
    }
   ],
   "source": [
    "# vocabulary size\n",
    "len(train_seq.x_dict), len(test_seq.x_dict)"
   ]
  },
  {
   "cell_type": "code",
   "execution_count": 15,
   "metadata": {},
   "outputs": [
    {
     "data": {
      "text/plain": [
       "3298/9 11978/9 1565/9 11508/9 14682/9 25550/9 19553/6 28976/9 7421/9 31009/9 1960/9 23772/9 5971/6 16157/9 1861/9 31009/9 18631/9 11978/9 18273/12 29905/9 20283/9 4269/9 17062/9 11799/9 "
      ]
     },
     "execution_count": 15,
     "metadata": {},
     "output_type": "execute_result"
    }
   ],
   "source": [
    "train_seq[0]"
   ]
  },
  {
   "cell_type": "code",
   "execution_count": 16,
   "metadata": {},
   "outputs": [
    {
     "data": {
      "text/plain": [
       "'Thousands/O of/O demonstrators/O have/O marched/O through/O London/B-geo to/O protest/O the/O war/O in/O Iraq/B-geo and/O demand/O the/O withdrawal/O of/O British/B-gpe troops/O from/O that/O country/O ./O '"
      ]
     },
     "execution_count": 16,
     "metadata": {},
     "output_type": "execute_result"
    }
   ],
   "source": [
    "train_seq[0].to_words(sequence_list=train_seq)"
   ]
  },
  {
   "cell_type": "markdown",
   "metadata": {},
   "source": [
    "### Get feature mapper (from training data)"
   ]
  },
  {
   "cell_type": "code",
   "execution_count": 17,
   "metadata": {},
   "outputs": [],
   "source": [
    "feature_mapper = skseq.sequences.id_feature.IDFeatures(train_seq)\n",
    "feature_mapper.build_features()"
   ]
  },
  {
   "cell_type": "code",
   "execution_count": 19,
   "metadata": {},
   "outputs": [],
   "source": [
    "from skseq.sequences.extended_feature import ExtendedFeatures\n",
    "extended_feature_mapper = ExtendedFeatures(train_seq, \"fitted_models/cluster_dict.joblib\", 100)\n",
    "extended_feature_mapper.build_features()"
   ]
  },
  {
   "cell_type": "markdown",
   "metadata": {},
   "source": [
    "### Load saved model"
   ]
  },
  {
   "cell_type": "code",
   "execution_count": 20,
   "metadata": {},
   "outputs": [],
   "source": [
    "sp = spc.StructuredPerceptron(word_dict_train, tag_dict, feature_mapper)"
   ]
  },
  {
   "cell_type": "code",
   "execution_count": 21,
   "metadata": {},
   "outputs": [],
   "source": [
    "sp.load_model(dir=\"fitted_models/model1\")"
   ]
  },
  {
   "cell_type": "code",
   "execution_count": 24,
   "metadata": {},
   "outputs": [],
   "source": [
    "sp_features = spc.StructuredPerceptron(word_dict_train, tag_dict, extended_feature_mapper)\n",
    "sp_features.load_model(dir=\"fitted_models/model_features_\")"
   ]
  },
  {
   "cell_type": "markdown",
   "metadata": {},
   "source": [
    "## Evaluate model"
   ]
  },
  {
   "cell_type": "code",
   "execution_count": 25,
   "metadata": {},
   "outputs": [
    {
     "name": "stdout",
     "output_type": "stream",
     "text": [
      "CPU times: user 2min 12s, sys: 126 ms, total: 2min 12s\n",
      "Wall time: 2min 12s\n"
     ]
    }
   ],
   "source": [
    "%%time\n",
    "pred_train = sp.viterbi_decode_corpus(train_seq)"
   ]
  },
  {
   "cell_type": "code",
   "execution_count": 26,
   "metadata": {},
   "outputs": [
    {
     "name": "stdout",
     "output_type": "stream",
     "text": [
      "CPU times: user 2min 11s, sys: 126 ms, total: 2min 11s\n",
      "Wall time: 2min 11s\n"
     ]
    }
   ],
   "source": [
    "%%time\n",
    "pred_test = sp.viterbi_decode_corpus(test_seq)"
   ]
  },
  {
   "cell_type": "code",
   "execution_count": 27,
   "metadata": {},
   "outputs": [
    {
     "name": "stdout",
     "output_type": "stream",
     "text": [
      "Accuracy: 0.963\n",
      "Weighted F1 score: 0.963\n",
      "Accuracy (ignore tag excluded): 0.806\n",
      "Weighted F1 score (ignore tag excluded): 0.840\n"
     ]
    },
    {
     "data": {
      "text/html": [
       "\n",
       "<div id=\"altair-viz-85099fa289174a6fb18a729ee4171f8d\"></div>\n",
       "<script type=\"text/javascript\">\n",
       "  var VEGA_DEBUG = (typeof VEGA_DEBUG == \"undefined\") ? {} : VEGA_DEBUG;\n",
       "  (function(spec, embedOpt){\n",
       "    let outputDiv = document.currentScript.previousElementSibling;\n",
       "    if (outputDiv.id !== \"altair-viz-85099fa289174a6fb18a729ee4171f8d\") {\n",
       "      outputDiv = document.getElementById(\"altair-viz-85099fa289174a6fb18a729ee4171f8d\");\n",
       "    }\n",
       "    const paths = {\n",
       "      \"vega\": \"https://cdn.jsdelivr.net/npm//vega@5?noext\",\n",
       "      \"vega-lib\": \"https://cdn.jsdelivr.net/npm//vega-lib?noext\",\n",
       "      \"vega-lite\": \"https://cdn.jsdelivr.net/npm//vega-lite@4.17.0?noext\",\n",
       "      \"vega-embed\": \"https://cdn.jsdelivr.net/npm//vega-embed@6?noext\",\n",
       "    };\n",
       "\n",
       "    function maybeLoadScript(lib, version) {\n",
       "      var key = `${lib.replace(\"-\", \"\")}_version`;\n",
       "      return (VEGA_DEBUG[key] == version) ?\n",
       "        Promise.resolve(paths[lib]) :\n",
       "        new Promise(function(resolve, reject) {\n",
       "          var s = document.createElement('script');\n",
       "          document.getElementsByTagName(\"head\")[0].appendChild(s);\n",
       "          s.async = true;\n",
       "          s.onload = () => {\n",
       "            VEGA_DEBUG[key] = version;\n",
       "            return resolve(paths[lib]);\n",
       "          };\n",
       "          s.onerror = () => reject(`Error loading script: ${paths[lib]}`);\n",
       "          s.src = paths[lib];\n",
       "        });\n",
       "    }\n",
       "\n",
       "    function showError(err) {\n",
       "      outputDiv.innerHTML = `<div class=\"error\" style=\"color:red;\">${err}</div>`;\n",
       "      throw err;\n",
       "    }\n",
       "\n",
       "    function displayChart(vegaEmbed) {\n",
       "      vegaEmbed(outputDiv, spec, embedOpt)\n",
       "        .catch(err => showError(`Javascript Error: ${err.message}<br>This usually means there's a typo in your chart specification. See the javascript console for the full traceback.`));\n",
       "    }\n",
       "\n",
       "    if(typeof define === \"function\" && define.amd) {\n",
       "      requirejs.config({paths});\n",
       "      require([\"vega-embed\"], displayChart, err => showError(`Error loading script: ${err.message}`));\n",
       "    } else {\n",
       "      maybeLoadScript(\"vega\", \"5\")\n",
       "        .then(() => maybeLoadScript(\"vega-lite\", \"4.17.0\"))\n",
       "        .then(() => maybeLoadScript(\"vega-embed\", \"6\"))\n",
       "        .catch(showError)\n",
       "        .then(() => displayChart(vegaEmbed));\n",
       "    }\n",
       "  })({\"config\": {\"view\": {\"continuousWidth\": 400, \"continuousHeight\": 300}}, \"data\": {\"name\": \"data-b5caa3d2ed7f5738f6c721896bf056bc\"}, \"mark\": \"circle\", \"encoding\": {\"color\": {\"field\": \"pct_cases\", \"scale\": {\"domain\": [0, 1], \"scheme\": \"redblue\"}, \"type\": \"quantitative\"}, \"size\": {\"field\": \"pct_cases\", \"legend\": {\"title\": \"Percentage of words\"}, \"scale\": {\"domain\": [0, 1]}, \"type\": \"quantitative\"}, \"tooltip\": [{\"field\": \"value\", \"type\": \"nominal\"}, {\"field\": \"prediction\", \"type\": \"nominal\"}, {\"field\": \"pct_cases\", \"format\": \".2%\", \"type\": \"quantitative\"}, {\"field\": \"num_cases\", \"type\": \"quantitative\"}], \"x\": {\"field\": \"prediction\", \"type\": \"ordinal\"}, \"y\": {\"field\": \"value\", \"type\": \"ordinal\"}}, \"$schema\": \"https://vega.github.io/schema/vega-lite/v4.17.0.json\", \"datasets\": {\"data-b5caa3d2ed7f5738f6c721896bf056bc\": [{\"value\": \"O\", \"prediction\": \"O\", \"num_cases\": 704435, \"pct_cases\": 0.991615884773315}, {\"value\": \"B-geo\", \"prediction\": \"B-geo\", \"num_cases\": 26200, \"pct_cases\": 0.87005612194069}, {\"value\": \"B-tim\", \"prediction\": \"B-tim\", \"num_cases\": 12289, \"pct_cases\": 0.7531408959980389}, {\"value\": \"B-org\", \"prediction\": \"B-org\", \"num_cases\": 11635, \"pct_cases\": 0.7214609040739133}, {\"value\": \"B-per\", \"prediction\": \"B-per\", \"num_cases\": 11547, \"pct_cases\": 0.8510465801886793}, {\"value\": \"B-gpe\", \"prediction\": \"B-gpe\", \"num_cases\": 11498, \"pct_cases\": 0.9025826202998666}, {\"value\": \"I-per\", \"prediction\": \"I-per\", \"num_cases\": 11403, \"pct_cases\": 0.8236186348862405}, {\"value\": \"I-org\", \"prediction\": \"I-org\", \"num_cases\": 10310, \"pct_cases\": 0.7622356942185421}, {\"value\": \"I-geo\", \"prediction\": \"I-geo\", \"num_cases\": 4402, \"pct_cases\": 0.7463546965072906}, {\"value\": \"I-tim\", \"prediction\": \"I-tim\", \"num_cases\": 3978, \"pct_cases\": 0.7565614302015976}, {\"value\": \"B-tim\", \"prediction\": \"O\", \"num_cases\": 2965, \"pct_cases\": 0.18171232456946743}, {\"value\": \"B-org\", \"prediction\": \"B-geo\", \"num_cases\": 2141, \"pct_cases\": 0.13275872759967755}, {\"value\": \"B-geo\", \"prediction\": \"O\", \"num_cases\": 1690, \"pct_cases\": 0.056121940690067415}, {\"value\": \"I-org\", \"prediction\": \"O\", \"num_cases\": 1472, \"pct_cases\": 0.10882744344225935}, {\"value\": \"B-org\", \"prediction\": \"O\", \"num_cases\": 1408, \"pct_cases\": 0.08730700068208594}, {\"value\": \"B-geo\", \"prediction\": \"B-org\", \"num_cases\": 1258, \"pct_cases\": 0.041775977152724734}, {\"value\": \"O\", \"prediction\": \"B-org\", \"num_cases\": 1240, \"pct_cases\": 0.0017455176093165595}, {\"value\": \"O\", \"prediction\": \"I-org\", \"num_cases\": 1177, \"pct_cases\": 0.0016568340533593471}, {\"value\": \"I-tim\", \"prediction\": \"O\", \"num_cases\": 949, \"pct_cases\": 0.1804868771395968}, {\"value\": \"O\", \"prediction\": \"B-tim\", \"num_cases\": 843, \"pct_cases\": 0.0011866704392369835}, {\"value\": \"B-per\", \"prediction\": \"O\", \"num_cases\": 838, \"pct_cases\": 0.061762971698113206}, {\"value\": \"O\", \"prediction\": \"B-per\", \"num_cases\": 816, \"pct_cases\": 0.001148663200969607}, {\"value\": \"O\", \"prediction\": \"I-tim\", \"num_cases\": 800, \"pct_cases\": 0.0011261403931074577}, {\"value\": \"I-per\", \"prediction\": \"B-per\", \"num_cases\": 772, \"pct_cases\": 0.055760202239075476}, {\"value\": \"B-tim\", \"prediction\": \"I-tim\", \"num_cases\": 766, \"pct_cases\": 0.04694490408776123}, {\"value\": \"I-org\", \"prediction\": \"B-org\", \"num_cases\": 737, \"pct_cases\": 0.05448765340825078}, {\"value\": \"I-per\", \"prediction\": \"O\", \"num_cases\": 720, \"pct_cases\": 0.05200433369447454}, {\"value\": \"O\", \"prediction\": \"B-geo\", \"num_cases\": 720, \"pct_cases\": 0.001013526353796712}, {\"value\": \"B-gpe\", \"prediction\": \"B-geo\", \"num_cases\": 614, \"pct_cases\": 0.048198445717874246}, {\"value\": \"I-geo\", \"prediction\": \"I-org\", \"num_cases\": 580, \"pct_cases\": 0.09833841980332315}, {\"value\": \"B-per\", \"prediction\": \"B-org\", \"num_cases\": 532, \"pct_cases\": 0.03920990566037736}, {\"value\": \"I-per\", \"prediction\": \"I-org\", \"num_cases\": 483, \"pct_cases\": 0.034886240520043334}, {\"value\": \"I-geo\", \"prediction\": \"B-geo\", \"num_cases\": 424, \"pct_cases\": 0.07188877585622244}, {\"value\": \"B-geo\", \"prediction\": \"B-per\", \"num_cases\": 418, \"pct_cases\": 0.0138810480523362}, {\"value\": \"B-org\", \"prediction\": \"B-per\", \"num_cases\": 358, \"pct_cases\": 0.0221987970484281}, {\"value\": \"B-per\", \"prediction\": \"B-geo\", \"num_cases\": 354, \"pct_cases\": 0.026090801886792452}, {\"value\": \"I-org\", \"prediction\": \"I-geo\", \"num_cases\": 328, \"pct_cases\": 0.024249593375720833}, {\"value\": \"I-geo\", \"prediction\": \"O\", \"num_cases\": 303, \"pct_cases\": 0.05137334689725331}, {\"value\": \"B-gpe\", \"prediction\": \"B-org\", \"num_cases\": 275, \"pct_cases\": 0.021587251746604915}, {\"value\": \"I-org\", \"prediction\": \"B-geo\", \"num_cases\": 274, \"pct_cases\": 0.02025728227118143}, {\"value\": \"B-org\", \"prediction\": \"I-org\", \"num_cases\": 230, \"pct_cases\": 0.01426179698642029}, {\"value\": \"I-tim\", \"prediction\": \"B-tim\", \"num_cases\": 221, \"pct_cases\": 0.04203119056675542}, {\"value\": \"B-gpe\", \"prediction\": \"O\", \"num_cases\": 220, \"pct_cases\": 0.017269801397283933}, {\"value\": \"I-org\", \"prediction\": \"I-per\", \"num_cases\": 219, \"pct_cases\": 0.016191039479520924}, {\"value\": \"B-geo\", \"prediction\": \"I-geo\", \"num_cases\": 213, \"pct_cases\": 0.007073357021884236}, {\"value\": \"B-org\", \"prediction\": \"I-per\", \"num_cases\": 199, \"pct_cases\": 0.012339554783902772}, {\"value\": \"I-per\", \"prediction\": \"B-geo\", \"num_cases\": 187, \"pct_cases\": 0.013506681112314916}, {\"value\": \"B-per\", \"prediction\": \"I-per\", \"num_cases\": 165, \"pct_cases\": 0.012160966981132075}, {\"value\": \"I-per\", \"prediction\": \"I-geo\", \"num_cases\": 137, \"pct_cases\": 0.009895269050198628}, {\"value\": \"B-tim\", \"prediction\": \"B-geo\", \"num_cases\": 130, \"pct_cases\": 0.007967150824293681}, {\"value\": \"I-org\", \"prediction\": \"B-per\", \"num_cases\": 116, \"pct_cases\": 0.008576075706047612}, {\"value\": \"B-art\", \"prediction\": \"O\", \"num_cases\": 114, \"pct_cases\": 0.3630573248407643}, {\"value\": \"B-tim\", \"prediction\": \"B-org\", \"num_cases\": 112, \"pct_cases\": 0.006864006864006864}, {\"value\": \"I-geo\", \"prediction\": \"I-per\", \"num_cases\": 112, \"pct_cases\": 0.018989487962021025}, {\"value\": \"B-eve\", \"prediction\": \"B-eve\", \"num_cases\": 105, \"pct_cases\": 0.430327868852459}, {\"value\": \"B-geo\", \"prediction\": \"B-tim\", \"num_cases\": 103, \"pct_cases\": 0.0034204496396904992}, {\"value\": \"O\", \"prediction\": \"I-geo\", \"num_cases\": 100, \"pct_cases\": 0.0001407675491384322}, {\"value\": \"B-per\", \"prediction\": \"I-org\", \"num_cases\": 93, \"pct_cases\": 0.00685436320754717}, {\"value\": \"B-geo\", \"prediction\": \"I-per\", \"num_cases\": 88, \"pct_cases\": 0.0029223259057549896}, {\"value\": \"I-gpe\", \"prediction\": \"I-gpe\", \"num_cases\": 87, \"pct_cases\": 0.5403726708074534}, {\"value\": \"I-per\", \"prediction\": \"B-org\", \"num_cases\": 84, \"pct_cases\": 0.006067172264355363}, {\"value\": \"B-org\", \"prediction\": \"B-gpe\", \"num_cases\": 79, \"pct_cases\": 0.004898617225770447}, {\"value\": \"B-art\", \"prediction\": \"B-art\", \"num_cases\": 77, \"pct_cases\": 0.24522292993630573}, {\"value\": \"I-eve\", \"prediction\": \"I-eve\", \"num_cases\": 75, \"pct_cases\": 0.36585365853658536}, {\"value\": \"B-gpe\", \"prediction\": \"I-org\", \"num_cases\": 74, \"pct_cases\": 0.005808933197268232}, {\"value\": \"O\", \"prediction\": \"I-per\", \"num_cases\": 73, \"pct_cases\": 0.00010276031087105551}, {\"value\": \"I-art\", \"prediction\": \"I-art\", \"num_cases\": 72, \"pct_cases\": 0.2975206611570248}, {\"value\": \"B-geo\", \"prediction\": \"I-org\", \"num_cases\": 72, \"pct_cases\": 0.002390993922890446}, {\"value\": \"B-nat\", \"prediction\": \"O\", \"num_cases\": 71, \"pct_cases\": 0.45222929936305734}, {\"value\": \"B-nat\", \"prediction\": \"B-nat\", \"num_cases\": 64, \"pct_cases\": 0.40764331210191085}, {\"value\": \"I-art\", \"prediction\": \"I-org\", \"num_cases\": 63, \"pct_cases\": 0.2603305785123967}, {\"value\": \"B-art\", \"prediction\": \"B-org\", \"num_cases\": 57, \"pct_cases\": 0.18152866242038215}, {\"value\": \"B-geo\", \"prediction\": \"B-gpe\", \"num_cases\": 52, \"pct_cases\": 0.0017268289443097666}, {\"value\": \"I-eve\", \"prediction\": \"I-org\", \"num_cases\": 52, \"pct_cases\": 0.25365853658536586}, {\"value\": \"O\", \"prediction\": \"B-gpe\", \"num_cases\": 51, \"pct_cases\": 7.179145006060043e-05}, {\"value\": \"I-art\", \"prediction\": \"O\", \"num_cases\": 50, \"pct_cases\": 0.2066115702479339}, {\"value\": \"B-eve\", \"prediction\": \"B-org\", \"num_cases\": 49, \"pct_cases\": 0.20081967213114754}, {\"value\": \"I-geo\", \"prediction\": \"B-org\", \"num_cases\": 42, \"pct_cases\": 0.007121057985757884}, {\"value\": \"I-tim\", \"prediction\": \"B-geo\", \"num_cases\": 42, \"pct_cases\": 0.00798782807151008}, {\"value\": \"I-gpe\", \"prediction\": \"I-geo\", \"num_cases\": 41, \"pct_cases\": 0.2546583850931677}, {\"value\": \"O\", \"prediction\": \"B-nat\", \"num_cases\": 40, \"pct_cases\": 5.6307019655372885e-05}, {\"value\": \"B-tim\", \"prediction\": \"B-per\", \"num_cases\": 33, \"pct_cases\": 0.0020224305938591654}, {\"value\": \"I-tim\", \"prediction\": \"I-org\", \"num_cases\": 33, \"pct_cases\": 0.006276150627615063}, {\"value\": \"B-art\", \"prediction\": \"B-geo\", \"num_cases\": 30, \"pct_cases\": 0.09554140127388536}, {\"value\": \"B-eve\", \"prediction\": \"O\", \"num_cases\": 30, \"pct_cases\": 0.12295081967213115}, {\"value\": \"O\", \"prediction\": \"I-art\", \"num_cases\": 29, \"pct_cases\": 4.0822589250145344e-05}, {\"value\": \"O\", \"prediction\": \"B-eve\", \"num_cases\": 27, \"pct_cases\": 3.80072382673767e-05}, {\"value\": \"B-gpe\", \"prediction\": \"I-geo\", \"num_cases\": 26, \"pct_cases\": 0.0020409765287699192}, {\"value\": \"I-art\", \"prediction\": \"I-geo\", \"num_cases\": 25, \"pct_cases\": 0.10330578512396695}, {\"value\": \"O\", \"prediction\": \"I-eve\", \"num_cases\": 25, \"pct_cases\": 3.519188728460805e-05}, {\"value\": \"I-per\", \"prediction\": \"B-tim\", \"num_cases\": 24, \"pct_cases\": 0.001733477789815818}, {\"value\": \"I-org\", \"prediction\": \"I-tim\", \"num_cases\": 24, \"pct_cases\": 0.0017743604909064026}, {\"value\": \"I-geo\", \"prediction\": \"B-per\", \"num_cases\": 22, \"pct_cases\": 0.003730077992539844}, {\"value\": \"I-per\", \"prediction\": \"B-eve\", \"num_cases\": 21, \"pct_cases\": 0.0015167930660888408}, {\"value\": \"B-org\", \"prediction\": \"B-tim\", \"num_cases\": 21, \"pct_cases\": 0.0013021640726731567}, {\"value\": \"I-org\", \"prediction\": \"B-tim\", \"num_cases\": 21, \"pct_cases\": 0.0015525654295431022}, {\"value\": \"I-nat\", \"prediction\": \"B-nat\", \"num_cases\": 20, \"pct_cases\": 0.45454545454545453}, {\"value\": \"I-eve\", \"prediction\": \"O\", \"num_cases\": 19, \"pct_cases\": 0.09268292682926829}, {\"value\": \"I-eve\", \"prediction\": \"I-tim\", \"num_cases\": 19, \"pct_cases\": 0.09268292682926829}, {\"value\": \"B-org\", \"prediction\": \"B-art\", \"num_cases\": 18, \"pct_cases\": 0.0011161406337198488}, {\"value\": \"I-tim\", \"prediction\": \"B-org\", \"num_cases\": 18, \"pct_cases\": 0.003423354887790034}, {\"value\": \"B-art\", \"prediction\": \"B-gpe\", \"num_cases\": 17, \"pct_cases\": 0.054140127388535034}, {\"value\": \"I-nat\", \"prediction\": \"O\", \"num_cases\": 16, \"pct_cases\": 0.36363636363636365}, {\"value\": \"B-eve\", \"prediction\": \"I-tim\", \"num_cases\": 15, \"pct_cases\": 0.06147540983606557}, {\"value\": \"B-org\", \"prediction\": \"I-geo\", \"num_cases\": 15, \"pct_cases\": 0.0009301171947665406}, {\"value\": \"B-per\", \"prediction\": \"I-geo\", \"num_cases\": 14, \"pct_cases\": 0.0010318396226415094}, {\"value\": \"O\", \"prediction\": \"B-art\", \"num_cases\": 14, \"pct_cases\": 1.970745687938051e-05}, {\"value\": \"B-eve\", \"prediction\": \"B-tim\", \"num_cases\": 13, \"pct_cases\": 0.05327868852459016}, {\"value\": \"B-eve\", \"prediction\": \"B-geo\", \"num_cases\": 13, \"pct_cases\": 0.05327868852459016}, {\"value\": \"I-gpe\", \"prediction\": \"B-gpe\", \"num_cases\": 12, \"pct_cases\": 0.07453416149068323}, {\"value\": \"I-gpe\", \"prediction\": \"I-org\", \"num_cases\": 12, \"pct_cases\": 0.07453416149068323}, {\"value\": \"I-eve\", \"prediction\": \"B-eve\", \"num_cases\": 11, \"pct_cases\": 0.05365853658536585}, {\"value\": \"B-tim\", \"prediction\": \"I-per\", \"num_cases\": 11, \"pct_cases\": 0.0006741435312863885}, {\"value\": \"I-art\", \"prediction\": \"B-org\", \"num_cases\": 10, \"pct_cases\": 0.04132231404958678}, {\"value\": \"B-art\", \"prediction\": \"B-per\", \"num_cases\": 10, \"pct_cases\": 0.03184713375796178}, {\"value\": \"B-geo\", \"prediction\": \"B-nat\", \"num_cases\": 10, \"pct_cases\": 0.0003320824892903397}, {\"value\": \"B-org\", \"prediction\": \"I-tim\", \"num_cases\": 10, \"pct_cases\": 0.0006200781298443603}, {\"value\": \"B-gpe\", \"prediction\": \"B-eve\", \"num_cases\": 9, \"pct_cases\": 0.0007064918753434335}, {\"value\": \"B-per\", \"prediction\": \"B-tim\", \"num_cases\": 9, \"pct_cases\": 0.0006633254716981132}, {\"value\": \"B-gpe\", \"prediction\": \"B-per\", \"num_cases\": 9, \"pct_cases\": 0.0007064918753434335}, {\"value\": \"B-nat\", \"prediction\": \"B-org\", \"num_cases\": 9, \"pct_cases\": 0.05732484076433121}, {\"value\": \"I-org\", \"prediction\": \"B-gpe\", \"num_cases\": 9, \"pct_cases\": 0.000665385184089901}, {\"value\": \"I-tim\", \"prediction\": \"B-per\", \"num_cases\": 8, \"pct_cases\": 0.0015214910612400153}, {\"value\": \"B-org\", \"prediction\": \"I-eve\", \"num_cases\": 8, \"pct_cases\": 0.0004960625038754883}, {\"value\": \"B-gpe\", \"prediction\": \"B-art\", \"num_cases\": 8, \"pct_cases\": 0.000627992778083052}, {\"value\": \"I-per\", \"prediction\": \"I-tim\", \"num_cases\": 8, \"pct_cases\": 0.000577825929938606}, {\"value\": \"I-org\", \"prediction\": \"I-eve\", \"num_cases\": 7, \"pct_cases\": 0.0005175218098477007}, {\"value\": \"B-per\", \"prediction\": \"I-tim\", \"num_cases\": 7, \"pct_cases\": 0.0005159198113207547}, {\"value\": \"I-eve\", \"prediction\": \"I-geo\", \"num_cases\": 7, \"pct_cases\": 0.03414634146341464}, {\"value\": \"B-geo\", \"prediction\": \"I-tim\", \"num_cases\": 7, \"pct_cases\": 0.0002324577425032378}, {\"value\": \"I-geo\", \"prediction\": \"B-gpe\", \"num_cases\": 6, \"pct_cases\": 0.001017293997965412}, {\"value\": \"I-eve\", \"prediction\": \"B-nat\", \"num_cases\": 6, \"pct_cases\": 0.02926829268292683}, {\"value\": \"I-org\", \"prediction\": \"I-art\", \"num_cases\": 6, \"pct_cases\": 0.00044359012272660064}, {\"value\": \"B-eve\", \"prediction\": \"B-per\", \"num_cases\": 6, \"pct_cases\": 0.02459016393442623}, {\"value\": \"B-org\", \"prediction\": \"B-eve\", \"num_cases\": 5, \"pct_cases\": 0.00031003906492218017}, {\"value\": \"I-gpe\", \"prediction\": \"O\", \"num_cases\": 5, \"pct_cases\": 0.031055900621118012}, {\"value\": \"I-eve\", \"prediction\": \"B-org\", \"num_cases\": 5, \"pct_cases\": 0.024390243902439025}, {\"value\": \"B-eve\", \"prediction\": \"I-eve\", \"num_cases\": 5, \"pct_cases\": 0.020491803278688523}, {\"value\": \"I-eve\", \"prediction\": \"B-tim\", \"num_cases\": 5, \"pct_cases\": 0.024390243902439025}, {\"value\": \"I-nat\", \"prediction\": \"I-org\", \"num_cases\": 5, \"pct_cases\": 0.11363636363636363}, {\"value\": \"I-geo\", \"prediction\": \"I-tim\", \"num_cases\": 5, \"pct_cases\": 0.00084774499830451}, {\"value\": \"I-art\", \"prediction\": \"I-per\", \"num_cases\": 5, \"pct_cases\": 0.02066115702479339}, {\"value\": \"B-nat\", \"prediction\": \"B-geo\", \"num_cases\": 4, \"pct_cases\": 0.025477707006369428}, {\"value\": \"B-art\", \"prediction\": \"I-org\", \"num_cases\": 4, \"pct_cases\": 0.012738853503184714}, {\"value\": \"I-per\", \"prediction\": \"B-gpe\", \"num_cases\": 4, \"pct_cases\": 0.000288912964969303}, {\"value\": \"B-per\", \"prediction\": \"B-eve\", \"num_cases\": 4, \"pct_cases\": 0.00029481132075471697}, {\"value\": \"B-eve\", \"prediction\": \"I-org\", \"num_cases\": 4, \"pct_cases\": 0.01639344262295082}, {\"value\": \"B-tim\", \"prediction\": \"I-org\", \"num_cases\": 4, \"pct_cases\": 0.00024514310228595945}, {\"value\": \"I-art\", \"prediction\": \"B-art\", \"num_cases\": 4, \"pct_cases\": 0.01652892561983471}, {\"value\": \"I-art\", \"prediction\": \"B-geo\", \"num_cases\": 4, \"pct_cases\": 0.01652892561983471}, {\"value\": \"B-tim\", \"prediction\": \"I-geo\", \"num_cases\": 3, \"pct_cases\": 0.00018385732671446958}, {\"value\": \"I-eve\", \"prediction\": \"B-geo\", \"num_cases\": 3, \"pct_cases\": 0.014634146341463415}, {\"value\": \"I-tim\", \"prediction\": \"B-gpe\", \"num_cases\": 3, \"pct_cases\": 0.0005705591479650057}, {\"value\": \"B-art\", \"prediction\": \"B-tim\", \"num_cases\": 3, \"pct_cases\": 0.009554140127388535}, {\"value\": \"B-per\", \"prediction\": \"B-art\", \"num_cases\": 3, \"pct_cases\": 0.00022110849056603774}, {\"value\": \"I-art\", \"prediction\": \"B-per\", \"num_cases\": 3, \"pct_cases\": 0.012396694214876033}, {\"value\": \"I-tim\", \"prediction\": \"I-per\", \"num_cases\": 3, \"pct_cases\": 0.0005705591479650057}, {\"value\": \"B-nat\", \"prediction\": \"B-per\", \"num_cases\": 3, \"pct_cases\": 0.01910828025477707}, {\"value\": \"I-per\", \"prediction\": \"I-art\", \"num_cases\": 2, \"pct_cases\": 0.0001444564824846515}, {\"value\": \"I-geo\", \"prediction\": \"B-tim\", \"num_cases\": 2, \"pct_cases\": 0.00033909799932180403}, {\"value\": \"B-nat\", \"prediction\": \"B-eve\", \"num_cases\": 2, \"pct_cases\": 0.012738853503184714}, {\"value\": \"B-gpe\", \"prediction\": \"B-tim\", \"num_cases\": 2, \"pct_cases\": 0.000156998194520763}, {\"value\": \"I-art\", \"prediction\": \"I-tim\", \"num_cases\": 2, \"pct_cases\": 0.008264462809917356}, {\"value\": \"B-geo\", \"prediction\": \"B-art\", \"num_cases\": 2, \"pct_cases\": 6.641649785806795e-05}, {\"value\": \"I-gpe\", \"prediction\": \"B-geo\", \"num_cases\": 2, \"pct_cases\": 0.012422360248447204}, {\"value\": \"I-org\", \"prediction\": \"B-art\", \"num_cases\": 2, \"pct_cases\": 0.0001478633742422002}, {\"value\": \"I-tim\", \"prediction\": \"I-geo\", \"num_cases\": 2, \"pct_cases\": 0.0003803727653100038}, {\"value\": \"B-gpe\", \"prediction\": \"I-tim\", \"num_cases\": 2, \"pct_cases\": 0.000156998194520763}, {\"value\": \"B-tim\", \"prediction\": \"B-nat\", \"num_cases\": 2, \"pct_cases\": 0.00012257155114297973}, {\"value\": \"B-eve\", \"prediction\": \"B-gpe\", \"num_cases\": 2, \"pct_cases\": 0.00819672131147541}, {\"value\": \"I-eve\", \"prediction\": \"B-per\", \"num_cases\": 2, \"pct_cases\": 0.00975609756097561}, {\"value\": \"I-art\", \"prediction\": \"B-tim\", \"num_cases\": 2, \"pct_cases\": 0.008264462809917356}, {\"value\": \"B-eve\", \"prediction\": \"B-nat\", \"num_cases\": 2, \"pct_cases\": 0.00819672131147541}, {\"value\": \"I-org\", \"prediction\": \"B-eve\", \"num_cases\": 1, \"pct_cases\": 7.39316871211001e-05}, {\"value\": \"I-nat\", \"prediction\": \"I-tim\", \"num_cases\": 1, \"pct_cases\": 0.022727272727272728}, {\"value\": \"B-per\", \"prediction\": \"B-gpe\", \"num_cases\": 1, \"pct_cases\": 7.370283018867924e-05}, {\"value\": \"B-art\", \"prediction\": \"I-tim\", \"num_cases\": 1, \"pct_cases\": 0.0031847133757961785}, {\"value\": \"B-art\", \"prediction\": \"B-eve\", \"num_cases\": 1, \"pct_cases\": 0.0031847133757961785}, {\"value\": \"I-tim\", \"prediction\": \"B-nat\", \"num_cases\": 1, \"pct_cases\": 0.0001901863826550019}, {\"value\": \"B-tim\", \"prediction\": \"B-eve\", \"num_cases\": 1, \"pct_cases\": 6.128577557148986e-05}, {\"value\": \"B-tim\", \"prediction\": \"I-eve\", \"num_cases\": 1, \"pct_cases\": 6.128577557148986e-05}, {\"value\": \"I-nat\", \"prediction\": \"I-geo\", \"num_cases\": 1, \"pct_cases\": 0.022727272727272728}, {\"value\": \"B-nat\", \"prediction\": \"I-org\", \"num_cases\": 1, \"pct_cases\": 0.006369426751592357}, {\"value\": \"O\", \"prediction\": \"I-gpe\", \"num_cases\": 1, \"pct_cases\": 1.4076754913843222e-06}, {\"value\": \"B-nat\", \"prediction\": \"B-art\", \"num_cases\": 1, \"pct_cases\": 0.006369426751592357}, {\"value\": \"I-art\", \"prediction\": \"B-eve\", \"num_cases\": 1, \"pct_cases\": 0.004132231404958678}, {\"value\": \"I-art\", \"prediction\": \"I-eve\", \"num_cases\": 1, \"pct_cases\": 0.004132231404958678}, {\"value\": \"B-per\", \"prediction\": \"I-art\", \"num_cases\": 1, \"pct_cases\": 7.370283018867924e-05}, {\"value\": \"I-eve\", \"prediction\": \"I-per\", \"num_cases\": 1, \"pct_cases\": 0.004878048780487805}, {\"value\": \"B-nat\", \"prediction\": \"B-tim\", \"num_cases\": 1, \"pct_cases\": 0.006369426751592357}, {\"value\": \"B-gpe\", \"prediction\": \"I-gpe\", \"num_cases\": 1, \"pct_cases\": 7.84990972603815e-05}, {\"value\": \"B-gpe\", \"prediction\": \"I-per\", \"num_cases\": 1, \"pct_cases\": 7.84990972603815e-05}, {\"value\": \"I-gpe\", \"prediction\": \"B-org\", \"num_cases\": 1, \"pct_cases\": 0.006211180124223602}, {\"value\": \"I-gpe\", \"prediction\": \"I-per\", \"num_cases\": 1, \"pct_cases\": 0.006211180124223602}, {\"value\": \"B-nat\", \"prediction\": \"I-tim\", \"num_cases\": 1, \"pct_cases\": 0.006369426751592357}, {\"value\": \"I-nat\", \"prediction\": \"I-nat\", \"num_cases\": 1, \"pct_cases\": 0.022727272727272728}]}}, {\"mode\": \"vega-lite\"});\n",
       "</script>"
      ],
      "text/plain": [
       "alt.Chart(...)"
      ]
     },
     "metadata": {},
     "output_type": "display_data"
    }
   ],
   "source": [
    "# Evaluate train dataset\n",
    "O_value = train_seq.y_dict['O']  # code of 'O' value, to be ignored\n",
    "eval_train = evaluate_corpus(train_seq.seq_list, pred_train, train_seq.y_dict, ignore_tag_code=O_value)"
   ]
  },
  {
   "cell_type": "code",
   "execution_count": 28,
   "metadata": {},
   "outputs": [
    {
     "name": "stdout",
     "output_type": "stream",
     "text": [
      "Accuracy: 0.876\n",
      "Weighted F1 score: 0.847\n",
      "Accuracy (ignore tag excluded): 0.230\n",
      "Weighted F1 score (ignore tag excluded): 0.354\n"
     ]
    },
    {
     "data": {
      "text/html": [
       "\n",
       "<div id=\"altair-viz-d120eae00b06491aa1852e7980d9395a\"></div>\n",
       "<script type=\"text/javascript\">\n",
       "  var VEGA_DEBUG = (typeof VEGA_DEBUG == \"undefined\") ? {} : VEGA_DEBUG;\n",
       "  (function(spec, embedOpt){\n",
       "    let outputDiv = document.currentScript.previousElementSibling;\n",
       "    if (outputDiv.id !== \"altair-viz-d120eae00b06491aa1852e7980d9395a\") {\n",
       "      outputDiv = document.getElementById(\"altair-viz-d120eae00b06491aa1852e7980d9395a\");\n",
       "    }\n",
       "    const paths = {\n",
       "      \"vega\": \"https://cdn.jsdelivr.net/npm//vega@5?noext\",\n",
       "      \"vega-lib\": \"https://cdn.jsdelivr.net/npm//vega-lib?noext\",\n",
       "      \"vega-lite\": \"https://cdn.jsdelivr.net/npm//vega-lite@4.17.0?noext\",\n",
       "      \"vega-embed\": \"https://cdn.jsdelivr.net/npm//vega-embed@6?noext\",\n",
       "    };\n",
       "\n",
       "    function maybeLoadScript(lib, version) {\n",
       "      var key = `${lib.replace(\"-\", \"\")}_version`;\n",
       "      return (VEGA_DEBUG[key] == version) ?\n",
       "        Promise.resolve(paths[lib]) :\n",
       "        new Promise(function(resolve, reject) {\n",
       "          var s = document.createElement('script');\n",
       "          document.getElementsByTagName(\"head\")[0].appendChild(s);\n",
       "          s.async = true;\n",
       "          s.onload = () => {\n",
       "            VEGA_DEBUG[key] = version;\n",
       "            return resolve(paths[lib]);\n",
       "          };\n",
       "          s.onerror = () => reject(`Error loading script: ${paths[lib]}`);\n",
       "          s.src = paths[lib];\n",
       "        });\n",
       "    }\n",
       "\n",
       "    function showError(err) {\n",
       "      outputDiv.innerHTML = `<div class=\"error\" style=\"color:red;\">${err}</div>`;\n",
       "      throw err;\n",
       "    }\n",
       "\n",
       "    function displayChart(vegaEmbed) {\n",
       "      vegaEmbed(outputDiv, spec, embedOpt)\n",
       "        .catch(err => showError(`Javascript Error: ${err.message}<br>This usually means there's a typo in your chart specification. See the javascript console for the full traceback.`));\n",
       "    }\n",
       "\n",
       "    if(typeof define === \"function\" && define.amd) {\n",
       "      requirejs.config({paths});\n",
       "      require([\"vega-embed\"], displayChart, err => showError(`Error loading script: ${err.message}`));\n",
       "    } else {\n",
       "      maybeLoadScript(\"vega\", \"5\")\n",
       "        .then(() => maybeLoadScript(\"vega-lite\", \"4.17.0\"))\n",
       "        .then(() => maybeLoadScript(\"vega-embed\", \"6\"))\n",
       "        .catch(showError)\n",
       "        .then(() => displayChart(vegaEmbed));\n",
       "    }\n",
       "  })({\"config\": {\"view\": {\"continuousWidth\": 400, \"continuousHeight\": 300}}, \"data\": {\"name\": \"data-46d51f3f9b633bda51c28ac144043d5c\"}, \"mark\": \"circle\", \"encoding\": {\"color\": {\"field\": \"pct_cases\", \"scale\": {\"domain\": [0, 1], \"scheme\": \"redblue\"}, \"type\": \"quantitative\"}, \"size\": {\"field\": \"pct_cases\", \"legend\": {\"title\": \"Percentage of words\"}, \"scale\": {\"domain\": [0, 1]}, \"type\": \"quantitative\"}, \"tooltip\": [{\"field\": \"value\", \"type\": \"nominal\"}, {\"field\": \"prediction\", \"type\": \"nominal\"}, {\"field\": \"pct_cases\", \"format\": \".2%\", \"type\": \"quantitative\"}, {\"field\": \"num_cases\", \"type\": \"quantitative\"}], \"x\": {\"field\": \"prediction\", \"type\": \"ordinal\"}, \"y\": {\"field\": \"value\", \"type\": \"ordinal\"}}, \"$schema\": \"https://vega.github.io/schema/vega-lite/v4.17.0.json\", \"datasets\": {\"data-46d51f3f9b633bda51c28ac144043d5c\": [{\"value\": \"O\", \"prediction\": \"O\", \"num_cases\": 703669, \"pct_cases\": 0.9923325990754556}, {\"value\": \"B-geo\", \"prediction\": \"O\", \"num_cases\": 22621, \"pct_cases\": 0.7511788536893139}, {\"value\": \"B-tim\", \"prediction\": \"O\", \"num_cases\": 12151, \"pct_cases\": 0.7532701010476722}, {\"value\": \"B-org\", \"prediction\": \"O\", \"num_cases\": 11079, \"pct_cases\": 0.6916162057556652}, {\"value\": \"I-org\", \"prediction\": \"O\", \"num_cases\": 8725, \"pct_cases\": 0.6569535426549206}, {\"value\": \"B-gpe\", \"prediction\": \"O\", \"num_cases\": 8666, \"pct_cases\": 0.6851134477033758}, {\"value\": \"B-per\", \"prediction\": \"O\", \"num_cases\": 7998, \"pct_cases\": 0.5841793879190709}, {\"value\": \"I-per\", \"prediction\": \"O\", \"num_cases\": 7971, \"pct_cases\": 0.576355748373102}, {\"value\": \"B-geo\", \"prediction\": \"B-geo\", \"num_cases\": 6381, \"pct_cases\": 0.21189479976090855}, {\"value\": \"B-per\", \"prediction\": \"B-per\", \"num_cases\": 4336, \"pct_cases\": 0.3167044043532247}, {\"value\": \"I-geo\", \"prediction\": \"O\", \"num_cases\": 4288, \"pct_cases\": 0.7222502947616641}, {\"value\": \"I-per\", \"prediction\": \"I-per\", \"num_cases\": 4171, \"pct_cases\": 0.301590744757773}, {\"value\": \"B-tim\", \"prediction\": \"B-tim\", \"num_cases\": 3467, \"pct_cases\": 0.21492777881098507}, {\"value\": \"I-tim\", \"prediction\": \"O\", \"num_cases\": 3412, \"pct_cases\": 0.651766953199618}, {\"value\": \"B-org\", \"prediction\": \"B-org\", \"num_cases\": 3181, \"pct_cases\": 0.19857669018041077}, {\"value\": \"B-gpe\", \"prediction\": \"B-gpe\", \"num_cases\": 2781, \"pct_cases\": 0.21985927741323424}, {\"value\": \"I-org\", \"prediction\": \"I-org\", \"num_cases\": 2405, \"pct_cases\": 0.18108576161433626}, {\"value\": \"I-tim\", \"prediction\": \"I-tim\", \"num_cases\": 1573, \"pct_cases\": 0.30047755491881567}, {\"value\": \"O\", \"prediction\": \"B-org\", \"num_cases\": 1180, \"pct_cases\": 0.001664067149340155}, {\"value\": \"O\", \"prediction\": \"I-org\", \"num_cases\": 1173, \"pct_cases\": 0.001654195564555934}, {\"value\": \"I-org\", \"prediction\": \"I-art\", \"num_cases\": 1152, \"pct_cases\": 0.08674045629094194}, {\"value\": \"I-geo\", \"prediction\": \"I-geo\", \"num_cases\": 1072, \"pct_cases\": 0.18056257369041603}, {\"value\": \"I-per\", \"prediction\": \"I-art\", \"num_cases\": 1031, \"pct_cases\": 0.07454808387563268}, {\"value\": \"O\", \"prediction\": \"B-per\", \"num_cases\": 898, \"pct_cases\": 0.0012663833051758128}, {\"value\": \"O\", \"prediction\": \"B-geo\", \"num_cases\": 725, \"pct_cases\": 0.0010224141383657732}, {\"value\": \"B-org\", \"prediction\": \"B-per\", \"num_cases\": 589, \"pct_cases\": 0.03676883700605531}, {\"value\": \"B-org\", \"prediction\": \"B-geo\", \"num_cases\": 529, \"pct_cases\": 0.033023284849241524}, {\"value\": \"O\", \"prediction\": \"B-tim\", \"num_cases\": 520, \"pct_cases\": 0.000733317726827865}, {\"value\": \"B-per\", \"prediction\": \"I-per\", \"num_cases\": 501, \"pct_cases\": 0.03659338251406033}, {\"value\": \"I-org\", \"prediction\": \"I-per\", \"num_cases\": 493, \"pct_cases\": 0.037120698742564566}, {\"value\": \"O\", \"prediction\": \"I-tim\", \"num_cases\": 477, \"pct_cases\": 0.0006726779917247915}, {\"value\": \"B-geo\", \"prediction\": \"B-org\", \"num_cases\": 401, \"pct_cases\": 0.013316065617320847}, {\"value\": \"B-per\", \"prediction\": \"I-art\", \"num_cases\": 336, \"pct_cases\": 0.024541669710028486}, {\"value\": \"B-org\", \"prediction\": \"B-art\", \"num_cases\": 329, \"pct_cases\": 0.02053811099319558}, {\"value\": \"B-geo\", \"prediction\": \"B-per\", \"num_cases\": 316, \"pct_cases\": 0.010493458192202963}, {\"value\": \"B-gpe\", \"prediction\": \"B-per\", \"num_cases\": 301, \"pct_cases\": 0.023796347537354733}, {\"value\": \"B-gpe\", \"prediction\": \"B-org\", \"num_cases\": 262, \"pct_cases\": 0.020713099849790497}, {\"value\": \"B-art\", \"prediction\": \"O\", \"num_cases\": 251, \"pct_cases\": 0.7917981072555205}, {\"value\": \"B-tim\", \"prediction\": \"I-tim\", \"num_cases\": 241, \"pct_cases\": 0.014940177298369599}, {\"value\": \"I-per\", \"prediction\": \"B-per\", \"num_cases\": 237, \"pct_cases\": 0.017136659436008676}, {\"value\": \"I-org\", \"prediction\": \"B-org\", \"num_cases\": 220, \"pct_cases\": 0.01656501769445072}, {\"value\": \"I-per\", \"prediction\": \"I-org\", \"num_cases\": 218, \"pct_cases\": 0.015762834417932033}, {\"value\": \"B-per\", \"prediction\": \"B-org\", \"num_cases\": 211, \"pct_cases\": 0.015411584252428603}, {\"value\": \"I-geo\", \"prediction\": \"I-per\", \"num_cases\": 208, \"pct_cases\": 0.03503452922351356}, {\"value\": \"B-geo\", \"prediction\": \"I-geo\", \"num_cases\": 194, \"pct_cases\": 0.00644218635850435}, {\"value\": \"B-gpe\", \"prediction\": \"B-art\", \"num_cases\": 190, \"pct_cases\": 0.015020950272748834}, {\"value\": \"I-geo\", \"prediction\": \"I-org\", \"num_cases\": 186, \"pct_cases\": 0.031328954017180395}, {\"value\": \"B-gpe\", \"prediction\": \"B-geo\", \"num_cases\": 176, \"pct_cases\": 0.013914143410546288}, {\"value\": \"B-gpe\", \"prediction\": \"I-geo\", \"num_cases\": 168, \"pct_cases\": 0.013281682346430549}, {\"value\": \"B-nat\", \"prediction\": \"O\", \"num_cases\": 147, \"pct_cases\": 0.84}, {\"value\": \"I-eve\", \"prediction\": \"O\", \"num_cases\": 142, \"pct_cases\": 0.7208121827411168}, {\"value\": \"B-eve\", \"prediction\": \"O\", \"num_cases\": 142, \"pct_cases\": 0.5843621399176955}, {\"value\": \"I-art\", \"prediction\": \"O\", \"num_cases\": 138, \"pct_cases\": 0.6244343891402715}, {\"value\": \"B-org\", \"prediction\": \"I-per\", \"num_cases\": 123, \"pct_cases\": 0.0076783819214682565}, {\"value\": \"I-org\", \"prediction\": \"I-geo\", \"num_cases\": 112, \"pct_cases\": 0.008433099917174912}, {\"value\": \"B-per\", \"prediction\": \"I-org\", \"num_cases\": 111, \"pct_cases\": 0.008107515886348697}, {\"value\": \"I-geo\", \"prediction\": \"B-geo\", \"num_cases\": 109, \"pct_cases\": 0.018359440795014316}, {\"value\": \"O\", \"prediction\": \"I-geo\", \"num_cases\": 100, \"pct_cases\": 0.0001410226397745894}, {\"value\": \"B-per\", \"prediction\": \"B-geo\", \"num_cases\": 100, \"pct_cases\": 0.007304068366079906}, {\"value\": \"O\", \"prediction\": \"I-per\", \"num_cases\": 97, \"pct_cases\": 0.00013679196058135172}, {\"value\": \"I-gpe\", \"prediction\": \"O\", \"num_cases\": 96, \"pct_cases\": 0.6357615894039735}, {\"value\": \"B-org\", \"prediction\": \"I-org\", \"num_cases\": 87, \"pct_cases\": 0.005431050627379986}, {\"value\": \"I-tim\", \"prediction\": \"I-art\", \"num_cases\": 81, \"pct_cases\": 0.015472779369627506}, {\"value\": \"I-tim\", \"prediction\": \"B-tim\", \"num_cases\": 72, \"pct_cases\": 0.013753581661891117}, {\"value\": \"O\", \"prediction\": \"I-art\", \"num_cases\": 72, \"pct_cases\": 0.00010153630063770437}, {\"value\": \"B-geo\", \"prediction\": \"I-per\", \"num_cases\": 71, \"pct_cases\": 0.002357707378627881}, {\"value\": \"B-per\", \"prediction\": \"B-art\", \"num_cases\": 68, \"pct_cases\": 0.004966766488934337}, {\"value\": \"I-org\", \"prediction\": \"B-geo\", \"num_cases\": 66, \"pct_cases\": 0.004969505308335216}, {\"value\": \"B-eve\", \"prediction\": \"B-eve\", \"num_cases\": 60, \"pct_cases\": 0.24691358024691357}, {\"value\": \"B-tim\", \"prediction\": \"I-art\", \"num_cases\": 58, \"pct_cases\": 0.003595561341516335}, {\"value\": \"I-per\", \"prediction\": \"B-geo\", \"num_cases\": 58, \"pct_cases\": 0.004193781634128706}, {\"value\": \"B-tim\", \"prediction\": \"B-org\", \"num_cases\": 55, \"pct_cases\": 0.003409584030748249}, {\"value\": \"I-per\", \"prediction\": \"B-org\", \"num_cases\": 55, \"pct_cases\": 0.0039768618944323935}, {\"value\": \"I-per\", \"prediction\": \"I-geo\", \"num_cases\": 50, \"pct_cases\": 0.0036153289949385392}, {\"value\": \"B-tim\", \"prediction\": \"B-per\", \"num_cases\": 49, \"pct_cases\": 0.003037629409212076}, {\"value\": \"B-org\", \"prediction\": \"I-art\", \"num_cases\": 44, \"pct_cases\": 0.002746738248330108}, {\"value\": \"I-org\", \"prediction\": \"B-per\", \"num_cases\": 43, \"pct_cases\": 0.0032377080039153678}, {\"value\": \"O\", \"prediction\": \"I-eve\", \"num_cases\": 42, \"pct_cases\": 5.9229508705327555e-05}, {\"value\": \"O\", \"prediction\": \"B-nat\", \"num_cases\": 41, \"pct_cases\": 5.781928230758166e-05}, {\"value\": \"O\", \"prediction\": \"B-gpe\", \"num_cases\": 40, \"pct_cases\": 5.640905590983576e-05}, {\"value\": \"O\", \"prediction\": \"B-art\", \"num_cases\": 39, \"pct_cases\": 5.4998829512089874e-05}, {\"value\": \"B-geo\", \"prediction\": \"B-tim\", \"num_cases\": 39, \"pct_cases\": 0.0012950787009364416}, {\"value\": \"I-tim\", \"prediction\": \"I-per\", \"num_cases\": 38, \"pct_cases\": 0.00725883476599809}, {\"value\": \"I-nat\", \"prediction\": \"O\", \"num_cases\": 34, \"pct_cases\": 0.8095238095238095}, {\"value\": \"O\", \"prediction\": \"B-eve\", \"num_cases\": 33, \"pct_cases\": 4.6537471125614505e-05}, {\"value\": \"B-tim\", \"prediction\": \"B-geo\", \"num_cases\": 33, \"pct_cases\": 0.0020457504184489494}, {\"value\": \"B-gpe\", \"prediction\": \"I-org\", \"num_cases\": 31, \"pct_cases\": 0.002450786623448494}, {\"value\": \"I-tim\", \"prediction\": \"I-org\", \"num_cases\": 29, \"pct_cases\": 0.0055396370582617}, {\"value\": \"I-geo\", \"prediction\": \"B-org\", \"num_cases\": 29, \"pct_cases\": 0.004884621862893717}, {\"value\": \"B-geo\", \"prediction\": \"I-org\", \"num_cases\": 29, \"pct_cases\": 0.0009630072391578668}, {\"value\": \"B-art\", \"prediction\": \"B-org\", \"num_cases\": 28, \"pct_cases\": 0.08832807570977919}, {\"value\": \"I-art\", \"prediction\": \"I-org\", \"num_cases\": 28, \"pct_cases\": 0.12669683257918551}, {\"value\": \"B-geo\", \"prediction\": \"B-art\", \"num_cases\": 27, \"pct_cases\": 0.0008965929468021519}, {\"value\": \"B-gpe\", \"prediction\": \"I-per\", \"num_cases\": 27, \"pct_cases\": 0.002134556091390624}, {\"value\": \"I-art\", \"prediction\": \"I-art\", \"num_cases\": 27, \"pct_cases\": 0.12217194570135746}, {\"value\": \"I-org\", \"prediction\": \"I-tim\", \"num_cases\": 25, \"pct_cases\": 0.0018823883743693999}, {\"value\": \"I-geo\", \"prediction\": \"I-art\", \"num_cases\": 24, \"pct_cases\": 0.00404244567963618}, {\"value\": \"B-tim\", \"prediction\": \"I-org\", \"num_cases\": 24, \"pct_cases\": 0.0014878184861446904}, {\"value\": \"B-tim\", \"prediction\": \"I-per\", \"num_cases\": 23, \"pct_cases\": 0.001425826049221995}, {\"value\": \"B-tim\", \"prediction\": \"B-art\", \"num_cases\": 20, \"pct_cases\": 0.0012398487384539087}, {\"value\": \"B-gpe\", \"prediction\": \"I-art\", \"num_cases\": 20, \"pct_cases\": 0.001581152660289351}, {\"value\": \"I-per\", \"prediction\": \"B-eve\", \"num_cases\": 19, \"pct_cases\": 0.001373825018076645}, {\"value\": \"B-gpe\", \"prediction\": \"I-tim\", \"num_cases\": 19, \"pct_cases\": 0.0015020950272748835}, {\"value\": \"B-nat\", \"prediction\": \"B-nat\", \"num_cases\": 17, \"pct_cases\": 0.09714285714285714}, {\"value\": \"B-org\", \"prediction\": \"B-gpe\", \"num_cases\": 16, \"pct_cases\": 0.0009988139084836755}, {\"value\": \"B-org\", \"prediction\": \"I-tim\", \"num_cases\": 16, \"pct_cases\": 0.0009988139084836755}, {\"value\": \"I-eve\", \"prediction\": \"I-org\", \"num_cases\": 16, \"pct_cases\": 0.08121827411167512}, {\"value\": \"B-geo\", \"prediction\": \"B-gpe\", \"num_cases\": 15, \"pct_cases\": 0.0004981071926678622}, {\"value\": \"B-eve\", \"prediction\": \"B-org\", \"num_cases\": 15, \"pct_cases\": 0.06172839506172839}, {\"value\": \"I-tim\", \"prediction\": \"B-geo\", \"num_cases\": 15, \"pct_cases\": 0.0028653295128939827}, {\"value\": \"I-eve\", \"prediction\": \"B-eve\", \"num_cases\": 14, \"pct_cases\": 0.07106598984771574}, {\"value\": \"I-gpe\", \"prediction\": \"I-per\", \"num_cases\": 14, \"pct_cases\": 0.09271523178807947}, {\"value\": \"I-org\", \"prediction\": \"I-eve\", \"num_cases\": 14, \"pct_cases\": 0.001054137489646864}, {\"value\": \"I-gpe\", \"prediction\": \"I-gpe\", \"num_cases\": 13, \"pct_cases\": 0.08609271523178808}, {\"value\": \"I-per\", \"prediction\": \"I-tim\", \"num_cases\": 12, \"pct_cases\": 0.0008676789587852494}, {\"value\": \"B-per\", \"prediction\": \"I-geo\", \"num_cases\": 12, \"pct_cases\": 0.0008764882039295887}, {\"value\": \"I-tim\", \"prediction\": \"B-org\", \"num_cases\": 12, \"pct_cases\": 0.002292263610315186}, {\"value\": \"I-gpe\", \"prediction\": \"I-geo\", \"num_cases\": 11, \"pct_cases\": 0.0728476821192053}, {\"value\": \"I-org\", \"prediction\": \"B-tim\", \"num_cases\": 10, \"pct_cases\": 0.00075295534974776}, {\"value\": \"I-org\", \"prediction\": \"B-art\", \"num_cases\": 10, \"pct_cases\": 0.00075295534974776}, {\"value\": \"B-org\", \"prediction\": \"B-tim\", \"num_cases\": 10, \"pct_cases\": 0.0006242586928022972}, {\"value\": \"B-geo\", \"prediction\": \"I-tim\", \"num_cases\": 10, \"pct_cases\": 0.00033207146177857477}, {\"value\": \"B-art\", \"prediction\": \"B-art\", \"num_cases\": 10, \"pct_cases\": 0.031545741324921134}, {\"value\": \"I-gpe\", \"prediction\": \"I-art\", \"num_cases\": 9, \"pct_cases\": 0.059602649006622516}, {\"value\": \"B-art\", \"prediction\": \"B-per\", \"num_cases\": 9, \"pct_cases\": 0.028391167192429023}, {\"value\": \"B-per\", \"prediction\": \"I-tim\", \"num_cases\": 9, \"pct_cases\": 0.0006573661529471916}, {\"value\": \"B-org\", \"prediction\": \"I-geo\", \"num_cases\": 8, \"pct_cases\": 0.0004994069542418378}, {\"value\": \"B-eve\", \"prediction\": \"B-geo\", \"num_cases\": 8, \"pct_cases\": 0.03292181069958848}, {\"value\": \"I-eve\", \"prediction\": \"I-eve\", \"num_cases\": 8, \"pct_cases\": 0.04060913705583756}, {\"value\": \"B-nat\", \"prediction\": \"B-org\", \"num_cases\": 7, \"pct_cases\": 0.04}, {\"value\": \"B-art\", \"prediction\": \"B-geo\", \"num_cases\": 7, \"pct_cases\": 0.022082018927444796}, {\"value\": \"B-org\", \"prediction\": \"B-eve\", \"num_cases\": 7, \"pct_cases\": 0.0004369810849616081}, {\"value\": \"I-geo\", \"prediction\": \"B-per\", \"num_cases\": 7, \"pct_cases\": 0.0011790466565605525}, {\"value\": \"B-eve\", \"prediction\": \"I-eve\", \"num_cases\": 6, \"pct_cases\": 0.024691358024691357}, {\"value\": \"I-art\", \"prediction\": \"I-per\", \"num_cases\": 6, \"pct_cases\": 0.027149321266968326}, {\"value\": \"B-tim\", \"prediction\": \"B-eve\", \"num_cases\": 6, \"pct_cases\": 0.0003719546215361726}, {\"value\": \"I-art\", \"prediction\": \"I-geo\", \"num_cases\": 6, \"pct_cases\": 0.027149321266968326}, {\"value\": \"I-geo\", \"prediction\": \"I-tim\", \"num_cases\": 5, \"pct_cases\": 0.0008421761832575374}, {\"value\": \"B-art\", \"prediction\": \"I-org\", \"num_cases\": 5, \"pct_cases\": 0.015772870662460567}, {\"value\": \"I-org\", \"prediction\": \"B-gpe\", \"num_cases\": 5, \"pct_cases\": 0.00037647767487388}, {\"value\": \"B-per\", \"prediction\": \"B-tim\", \"num_cases\": 5, \"pct_cases\": 0.0003652034183039953}, {\"value\": \"B-geo\", \"prediction\": \"I-art\", \"num_cases\": 5, \"pct_cases\": 0.00016603573088928738}, {\"value\": \"I-art\", \"prediction\": \"B-geo\", \"num_cases\": 4, \"pct_cases\": 0.01809954751131222}, {\"value\": \"I-per\", \"prediction\": \"B-tim\", \"num_cases\": 4, \"pct_cases\": 0.00028922631959508316}, {\"value\": \"I-art\", \"prediction\": \"B-org\", \"num_cases\": 4, \"pct_cases\": 0.01809954751131222}, {\"value\": \"I-eve\", \"prediction\": \"I-tim\", \"num_cases\": 4, \"pct_cases\": 0.02030456852791878}, {\"value\": \"B-gpe\", \"prediction\": \"B-tim\", \"num_cases\": 4, \"pct_cases\": 0.0003162305320578702}, {\"value\": \"I-geo\", \"prediction\": \"B-gpe\", \"num_cases\": 4, \"pct_cases\": 0.00067374094660603}, {\"value\": \"I-per\", \"prediction\": \"I-eve\", \"num_cases\": 4, \"pct_cases\": 0.00028922631959508316}, {\"value\": \"B-gpe\", \"prediction\": \"B-eve\", \"num_cases\": 4, \"pct_cases\": 0.0003162305320578702}, {\"value\": \"I-art\", \"prediction\": \"I-eve\", \"num_cases\": 4, \"pct_cases\": 0.01809954751131222}, {\"value\": \"I-gpe\", \"prediction\": \"I-org\", \"num_cases\": 4, \"pct_cases\": 0.026490066225165563}, {\"value\": \"B-geo\", \"prediction\": \"I-eve\", \"num_cases\": 4, \"pct_cases\": 0.0001328285847114299}, {\"value\": \"B-eve\", \"prediction\": \"B-per\", \"num_cases\": 3, \"pct_cases\": 0.012345679012345678}, {\"value\": \"B-art\", \"prediction\": \"I-art\", \"num_cases\": 3, \"pct_cases\": 0.00946372239747634}, {\"value\": \"B-nat\", \"prediction\": \"B-per\", \"num_cases\": 3, \"pct_cases\": 0.017142857142857144}, {\"value\": \"I-nat\", \"prediction\": \"I-org\", \"num_cases\": 3, \"pct_cases\": 0.07142857142857142}, {\"value\": \"B-eve\", \"prediction\": \"I-org\", \"num_cases\": 3, \"pct_cases\": 0.012345679012345678}, {\"value\": \"I-eve\", \"prediction\": \"I-art\", \"num_cases\": 3, \"pct_cases\": 0.015228426395939087}, {\"value\": \"I-nat\", \"prediction\": \"B-nat\", \"num_cases\": 3, \"pct_cases\": 0.07142857142857142}, {\"value\": \"I-eve\", \"prediction\": \"I-geo\", \"num_cases\": 3, \"pct_cases\": 0.015228426395939087}, {\"value\": \"I-eve\", \"prediction\": \"I-per\", \"num_cases\": 3, \"pct_cases\": 0.015228426395939087}, {\"value\": \"I-gpe\", \"prediction\": \"B-gpe\", \"num_cases\": 2, \"pct_cases\": 0.013245033112582781}, {\"value\": \"B-tim\", \"prediction\": \"I-eve\", \"num_cases\": 2, \"pct_cases\": 0.00012398487384539087}, {\"value\": \"B-tim\", \"prediction\": \"I-geo\", \"num_cases\": 2, \"pct_cases\": 0.00012398487384539087}, {\"value\": \"I-geo\", \"prediction\": \"B-tim\", \"num_cases\": 2, \"pct_cases\": 0.000336870473303015}, {\"value\": \"I-geo\", \"prediction\": \"I-eve\", \"num_cases\": 2, \"pct_cases\": 0.000336870473303015}, {\"value\": \"B-per\", \"prediction\": \"I-eve\", \"num_cases\": 2, \"pct_cases\": 0.00014608136732159813}, {\"value\": \"I-eve\", \"prediction\": \"B-tim\", \"num_cases\": 2, \"pct_cases\": 0.01015228426395939}, {\"value\": \"B-per\", \"prediction\": \"B-eve\", \"num_cases\": 2, \"pct_cases\": 0.00014608136732159813}, {\"value\": \"I-eve\", \"prediction\": \"B-org\", \"num_cases\": 2, \"pct_cases\": 0.01015228426395939}, {\"value\": \"I-gpe\", \"prediction\": \"B-geo\", \"num_cases\": 2, \"pct_cases\": 0.013245033112582781}, {\"value\": \"B-eve\", \"prediction\": \"B-tim\", \"num_cases\": 2, \"pct_cases\": 0.00823045267489712}, {\"value\": \"B-art\", \"prediction\": \"I-tim\", \"num_cases\": 1, \"pct_cases\": 0.0031545741324921135}, {\"value\": \"B-art\", \"prediction\": \"B-eve\", \"num_cases\": 1, \"pct_cases\": 0.0031545741324921135}, {\"value\": \"I-nat\", \"prediction\": \"I-per\", \"num_cases\": 1, \"pct_cases\": 0.023809523809523808}, {\"value\": \"B-org\", \"prediction\": \"I-eve\", \"num_cases\": 1, \"pct_cases\": 6.242586928022972e-05}, {\"value\": \"B-geo\", \"prediction\": \"B-nat\", \"num_cases\": 1, \"pct_cases\": 3.320714617785747e-05}, {\"value\": \"I-art\", \"prediction\": \"B-eve\", \"num_cases\": 1, \"pct_cases\": 0.004524886877828055}, {\"value\": \"I-art\", \"prediction\": \"I-tim\", \"num_cases\": 1, \"pct_cases\": 0.004524886877828055}, {\"value\": \"I-art\", \"prediction\": \"B-per\", \"num_cases\": 1, \"pct_cases\": 0.004524886877828055}, {\"value\": \"B-eve\", \"prediction\": \"I-per\", \"num_cases\": 1, \"pct_cases\": 0.00411522633744856}, {\"value\": \"B-eve\", \"prediction\": \"B-art\", \"num_cases\": 1, \"pct_cases\": 0.00411522633744856}, {\"value\": \"I-art\", \"prediction\": \"B-tim\", \"num_cases\": 1, \"pct_cases\": 0.004524886877828055}, {\"value\": \"I-org\", \"prediction\": \"B-eve\", \"num_cases\": 1, \"pct_cases\": 7.529553497477599e-05}, {\"value\": \"I-geo\", \"prediction\": \"B-art\", \"num_cases\": 1, \"pct_cases\": 0.0001684352366515075}, {\"value\": \"I-tim\", \"prediction\": \"I-geo\", \"num_cases\": 1, \"pct_cases\": 0.00019102196752626553}, {\"value\": \"B-eve\", \"prediction\": \"I-tim\", \"num_cases\": 1, \"pct_cases\": 0.00411522633744856}, {\"value\": \"B-art\", \"prediction\": \"B-gpe\", \"num_cases\": 1, \"pct_cases\": 0.0031545741324921135}, {\"value\": \"B-art\", \"prediction\": \"I-eve\", \"num_cases\": 1, \"pct_cases\": 0.0031545741324921135}, {\"value\": \"B-eve\", \"prediction\": \"B-gpe\", \"num_cases\": 1, \"pct_cases\": 0.00411522633744856}, {\"value\": \"I-tim\", \"prediction\": \"I-eve\", \"num_cases\": 1, \"pct_cases\": 0.00019102196752626553}, {\"value\": \"B-nat\", \"prediction\": \"B-eve\", \"num_cases\": 1, \"pct_cases\": 0.005714285714285714}, {\"value\": \"I-tim\", \"prediction\": \"B-art\", \"num_cases\": 1, \"pct_cases\": 0.00019102196752626553}, {\"value\": \"I-nat\", \"prediction\": \"I-nat\", \"num_cases\": 1, \"pct_cases\": 0.023809523809523808}]}}, {\"mode\": \"vega-lite\"});\n",
       "</script>"
      ],
      "text/plain": [
       "alt.Chart(...)"
      ]
     },
     "metadata": {},
     "output_type": "display_data"
    }
   ],
   "source": [
    "# Evaluate test dataset\n",
    "eval_test = evaluate_corpus(test_seq.seq_list, pred_test, test_seq.y_dict, ignore_tag_code=O_value)"
   ]
  },
  {
   "cell_type": "code",
   "execution_count": 32,
   "metadata": {},
   "outputs": [
    {
     "name": "stdout",
     "output_type": "stream",
     "text": [
      "CPU times: user 3min 5s, sys: 110 ms, total: 3min 5s\n",
      "Wall time: 3min 5s\n"
     ]
    }
   ],
   "source": [
    "%%time\n",
    "pred_train_features = sp_features.viterbi_decode_corpus(train_seq)"
   ]
  },
  {
   "cell_type": "code",
   "execution_count": 33,
   "metadata": {},
   "outputs": [
    {
     "name": "stdout",
     "output_type": "stream",
     "text": [
      "CPU times: user 3min 22s, sys: 169 ms, total: 3min 22s\n",
      "Wall time: 3min 22s\n"
     ]
    }
   ],
   "source": [
    "%%time\n",
    "pred_test_features = sp_features.viterbi_decode_corpus(test_seq)"
   ]
  },
  {
   "cell_type": "code",
   "execution_count": 34,
   "metadata": {},
   "outputs": [
    {
     "name": "stdout",
     "output_type": "stream",
     "text": [
      "Accuracy: 0.962\n",
      "Weighted F1 score: 0.963\n",
      "Accuracy (ignore tag excluded): 0.830\n",
      "Weighted F1 score (ignore tag excluded): 0.848\n"
     ]
    },
    {
     "data": {
      "text/html": [
       "\n",
       "<div id=\"altair-viz-68c5380baa5f47459c3b19f88b46fa32\"></div>\n",
       "<script type=\"text/javascript\">\n",
       "  var VEGA_DEBUG = (typeof VEGA_DEBUG == \"undefined\") ? {} : VEGA_DEBUG;\n",
       "  (function(spec, embedOpt){\n",
       "    let outputDiv = document.currentScript.previousElementSibling;\n",
       "    if (outputDiv.id !== \"altair-viz-68c5380baa5f47459c3b19f88b46fa32\") {\n",
       "      outputDiv = document.getElementById(\"altair-viz-68c5380baa5f47459c3b19f88b46fa32\");\n",
       "    }\n",
       "    const paths = {\n",
       "      \"vega\": \"https://cdn.jsdelivr.net/npm//vega@5?noext\",\n",
       "      \"vega-lib\": \"https://cdn.jsdelivr.net/npm//vega-lib?noext\",\n",
       "      \"vega-lite\": \"https://cdn.jsdelivr.net/npm//vega-lite@4.17.0?noext\",\n",
       "      \"vega-embed\": \"https://cdn.jsdelivr.net/npm//vega-embed@6?noext\",\n",
       "    };\n",
       "\n",
       "    function maybeLoadScript(lib, version) {\n",
       "      var key = `${lib.replace(\"-\", \"\")}_version`;\n",
       "      return (VEGA_DEBUG[key] == version) ?\n",
       "        Promise.resolve(paths[lib]) :\n",
       "        new Promise(function(resolve, reject) {\n",
       "          var s = document.createElement('script');\n",
       "          document.getElementsByTagName(\"head\")[0].appendChild(s);\n",
       "          s.async = true;\n",
       "          s.onload = () => {\n",
       "            VEGA_DEBUG[key] = version;\n",
       "            return resolve(paths[lib]);\n",
       "          };\n",
       "          s.onerror = () => reject(`Error loading script: ${paths[lib]}`);\n",
       "          s.src = paths[lib];\n",
       "        });\n",
       "    }\n",
       "\n",
       "    function showError(err) {\n",
       "      outputDiv.innerHTML = `<div class=\"error\" style=\"color:red;\">${err}</div>`;\n",
       "      throw err;\n",
       "    }\n",
       "\n",
       "    function displayChart(vegaEmbed) {\n",
       "      vegaEmbed(outputDiv, spec, embedOpt)\n",
       "        .catch(err => showError(`Javascript Error: ${err.message}<br>This usually means there's a typo in your chart specification. See the javascript console for the full traceback.`));\n",
       "    }\n",
       "\n",
       "    if(typeof define === \"function\" && define.amd) {\n",
       "      requirejs.config({paths});\n",
       "      require([\"vega-embed\"], displayChart, err => showError(`Error loading script: ${err.message}`));\n",
       "    } else {\n",
       "      maybeLoadScript(\"vega\", \"5\")\n",
       "        .then(() => maybeLoadScript(\"vega-lite\", \"4.17.0\"))\n",
       "        .then(() => maybeLoadScript(\"vega-embed\", \"6\"))\n",
       "        .catch(showError)\n",
       "        .then(() => displayChart(vegaEmbed));\n",
       "    }\n",
       "  })({\"config\": {\"view\": {\"continuousWidth\": 400, \"continuousHeight\": 300}}, \"data\": {\"name\": \"data-74d7e63034a4b26ad28eff0d955d36c3\"}, \"mark\": \"circle\", \"encoding\": {\"color\": {\"field\": \"pct_cases\", \"scale\": {\"domain\": [0, 1], \"scheme\": \"redblue\"}, \"type\": \"quantitative\"}, \"size\": {\"field\": \"pct_cases\", \"legend\": {\"title\": \"Percentage of words\"}, \"scale\": {\"domain\": [0, 1]}, \"type\": \"quantitative\"}, \"tooltip\": [{\"field\": \"value\", \"type\": \"nominal\"}, {\"field\": \"prediction\", \"type\": \"nominal\"}, {\"field\": \"pct_cases\", \"format\": \".2%\", \"type\": \"quantitative\"}, {\"field\": \"num_cases\", \"type\": \"quantitative\"}], \"x\": {\"field\": \"prediction\", \"type\": \"ordinal\"}, \"y\": {\"field\": \"value\", \"type\": \"ordinal\"}}, \"$schema\": \"https://vega.github.io/schema/vega-lite/v4.17.0.json\", \"datasets\": {\"data-74d7e63034a4b26ad28eff0d955d36c3\": [{\"value\": \"O\", \"prediction\": \"O\", \"num_cases\": 700205, \"pct_cases\": 0.9856614174447593}, {\"value\": \"B-geo\", \"prediction\": \"B-geo\", \"num_cases\": 25832, \"pct_cases\": 0.8578354863348056}, {\"value\": \"B-tim\", \"prediction\": \"B-tim\", \"num_cases\": 13306, \"pct_cases\": 0.815468529754244}, {\"value\": \"I-per\", \"prediction\": \"I-per\", \"num_cases\": 12043, \"pct_cases\": 0.869844709281329}, {\"value\": \"B-per\", \"prediction\": \"B-per\", \"num_cases\": 11815, \"pct_cases\": 0.8707989386792453}, {\"value\": \"B-org\", \"prediction\": \"B-org\", \"num_cases\": 11788, \"pct_cases\": 0.7309480994605321}, {\"value\": \"I-org\", \"prediction\": \"I-org\", \"num_cases\": 11381, \"pct_cases\": 0.8414165311252403}, {\"value\": \"B-gpe\", \"prediction\": \"B-gpe\", \"num_cases\": 11355, \"pct_cases\": 0.891357249391632}, {\"value\": \"I-geo\", \"prediction\": \"I-geo\", \"num_cases\": 4614, \"pct_cases\": 0.7822990844354019}, {\"value\": \"I-tim\", \"prediction\": \"I-tim\", \"num_cases\": 4206, \"pct_cases\": 0.799923925446938}, {\"value\": \"O\", \"prediction\": \"B-tim\", \"num_cases\": 2250, \"pct_cases\": 0.003167269855614725}, {\"value\": \"B-geo\", \"prediction\": \"B-org\", \"num_cases\": 2146, \"pct_cases\": 0.0712649022017069}, {\"value\": \"B-org\", \"prediction\": \"B-geo\", \"num_cases\": 2095, \"pct_cases\": 0.1299063682023935}, {\"value\": \"B-tim\", \"prediction\": \"O\", \"num_cases\": 2010, \"pct_cases\": 0.12318440889869461}, {\"value\": \"O\", \"prediction\": \"B-org\", \"num_cases\": 1754, \"pct_cases\": 0.002469062811888101}, {\"value\": \"O\", \"prediction\": \"I-org\", \"num_cases\": 1734, \"pct_cases\": 0.0024409093020604147}, {\"value\": \"O\", \"prediction\": \"I-tim\", \"num_cases\": 1513, \"pct_cases\": 0.0021298130184644794}, {\"value\": \"O\", \"prediction\": \"B-geo\", \"num_cases\": 1269, \"pct_cases\": 0.0017863401985667047}, {\"value\": \"O\", \"prediction\": \"B-per\", \"num_cases\": 887, \"pct_cases\": 0.0012486081608578939}, {\"value\": \"I-tim\", \"prediction\": \"O\", \"num_cases\": 743, \"pct_cases\": 0.1413084823126664}, {\"value\": \"B-tim\", \"prediction\": \"I-tim\", \"num_cases\": 674, \"pct_cases\": 0.04130661273518416}, {\"value\": \"B-geo\", \"prediction\": \"B-per\", \"num_cases\": 655, \"pct_cases\": 0.02175140304851725}, {\"value\": \"B-org\", \"prediction\": \"I-org\", \"num_cases\": 636, \"pct_cases\": 0.03943696905810132}, {\"value\": \"I-per\", \"prediction\": \"B-per\", \"num_cases\": 621, \"pct_cases\": 0.04485373781148429}, {\"value\": \"I-org\", \"prediction\": \"O\", \"num_cases\": 605, \"pct_cases\": 0.04472867070826556}, {\"value\": \"B-org\", \"prediction\": \"O\", \"num_cases\": 604, \"pct_cases\": 0.03745271904259937}, {\"value\": \"B-org\", \"prediction\": \"B-per\", \"num_cases\": 595, \"pct_cases\": 0.03689464872573944}, {\"value\": \"B-gpe\", \"prediction\": \"B-geo\", \"num_cases\": 577, \"pct_cases\": 0.04529397911924013}, {\"value\": \"B-per\", \"prediction\": \"B-org\", \"num_cases\": 540, \"pct_cases\": 0.039799528301886794}, {\"value\": \"I-geo\", \"prediction\": \"I-org\", \"num_cases\": 516, \"pct_cases\": 0.08748728382502544}, {\"value\": \"B-gpe\", \"prediction\": \"B-org\", \"num_cases\": 495, \"pct_cases\": 0.03885705314388885}, {\"value\": \"I-per\", \"prediction\": \"I-org\", \"num_cases\": 493, \"pct_cases\": 0.035608522932466594}, {\"value\": \"I-org\", \"prediction\": \"I-geo\", \"num_cases\": 492, \"pct_cases\": 0.03637439006358125}, {\"value\": \"I-org\", \"prediction\": \"I-per\", \"num_cases\": 467, \"pct_cases\": 0.03452609788555375}, {\"value\": \"B-geo\", \"prediction\": \"O\", \"num_cases\": 459, \"pct_cases\": 0.015242586258426593}, {\"value\": \"B-geo\", \"prediction\": \"I-geo\", \"num_cases\": 364, \"pct_cases\": 0.012087802610168365}, {\"value\": \"B-per\", \"prediction\": \"O\", \"num_cases\": 351, \"pct_cases\": 0.025869693396226415}, {\"value\": \"I-per\", \"prediction\": \"O\", \"num_cases\": 351, \"pct_cases\": 0.02535211267605634}, {\"value\": \"B-per\", \"prediction\": \"B-geo\", \"num_cases\": 330, \"pct_cases\": 0.02432193396226415}, {\"value\": \"B-per\", \"prediction\": \"I-per\", \"num_cases\": 323, \"pct_cases\": 0.023806014150943397}, {\"value\": \"I-geo\", \"prediction\": \"I-per\", \"num_cases\": 268, \"pct_cases\": 0.04543913190912174}, {\"value\": \"B-geo\", \"prediction\": \"I-org\", \"num_cases\": 265, \"pct_cases\": 0.008800185966194002}, {\"value\": \"O\", \"prediction\": \"I-geo\", \"num_cases\": 263, \"pct_cases\": 0.0003702186542340767}, {\"value\": \"I-geo\", \"prediction\": \"B-geo\", \"num_cases\": 248, \"pct_cases\": 0.0420481519159037}, {\"value\": \"I-org\", \"prediction\": \"B-org\", \"num_cases\": 207, \"pct_cases\": 0.015303859234067721}, {\"value\": \"I-tim\", \"prediction\": \"B-tim\", \"num_cases\": 203, \"pct_cases\": 0.038607835678965384}, {\"value\": \"B-org\", \"prediction\": \"I-per\", \"num_cases\": 202, \"pct_cases\": 0.01252557822285608}, {\"value\": \"B-per\", \"prediction\": \"I-org\", \"num_cases\": 169, \"pct_cases\": 0.012455778301886792}, {\"value\": \"B-geo\", \"prediction\": \"I-per\", \"num_cases\": 158, \"pct_cases\": 0.005246903330787368}, {\"value\": \"I-org\", \"prediction\": \"B-geo\", \"num_cases\": 158, \"pct_cases\": 0.011681206565133816}, {\"value\": \"I-org\", \"prediction\": \"B-per\", \"num_cases\": 156, \"pct_cases\": 0.011533343190891616}, {\"value\": \"B-gpe\", \"prediction\": \"I-org\", \"num_cases\": 144, \"pct_cases\": 0.011303870005494937}, {\"value\": \"I-geo\", \"prediction\": \"O\", \"num_cases\": 142, \"pct_cases\": 0.024075957951848085}, {\"value\": \"O\", \"prediction\": \"I-per\", \"num_cases\": 141, \"pct_cases\": 0.00019848224428518942}, {\"value\": \"I-per\", \"prediction\": \"B-org\", \"num_cases\": 137, \"pct_cases\": 0.009895269050198628}, {\"value\": \"B-tim\", \"prediction\": \"B-org\", \"num_cases\": 130, \"pct_cases\": 0.007967150824293681}, {\"value\": \"B-tim\", \"prediction\": \"B-geo\", \"num_cases\": 114, \"pct_cases\": 0.0069865784151498436}, {\"value\": \"I-per\", \"prediction\": \"I-geo\", \"num_cases\": 110, \"pct_cases\": 0.007945106536655833}, {\"value\": \"B-art\", \"prediction\": \"B-art\", \"num_cases\": 109, \"pct_cases\": 0.3471337579617834}, {\"value\": \"B-eve\", \"prediction\": \"B-eve\", \"num_cases\": 99, \"pct_cases\": 0.4057377049180328}, {\"value\": \"B-nat\", \"prediction\": \"B-nat\", \"num_cases\": 94, \"pct_cases\": 0.5987261146496815}, {\"value\": \"B-geo\", \"prediction\": \"B-tim\", \"num_cases\": 93, \"pct_cases\": 0.003088367150400159}, {\"value\": \"O\", \"prediction\": \"B-art\", \"num_cases\": 93, \"pct_cases\": 0.00013091382069874196}, {\"value\": \"O\", \"prediction\": \"B-eve\", \"num_cases\": 88, \"pct_cases\": 0.00012387544324182035}, {\"value\": \"I-art\", \"prediction\": \"I-art\", \"num_cases\": 84, \"pct_cases\": 0.34710743801652894}, {\"value\": \"I-gpe\", \"prediction\": \"I-gpe\", \"num_cases\": 82, \"pct_cases\": 0.5093167701863354}, {\"value\": \"I-art\", \"prediction\": \"I-org\", \"num_cases\": 78, \"pct_cases\": 0.32231404958677684}, {\"value\": \"B-org\", \"prediction\": \"B-gpe\", \"num_cases\": 77, \"pct_cases\": 0.004774601599801575}, {\"value\": \"B-art\", \"prediction\": \"B-org\", \"num_cases\": 75, \"pct_cases\": 0.23885350318471338}, {\"value\": \"O\", \"prediction\": \"B-nat\", \"num_cases\": 71, \"pct_cases\": 9.994495988828687e-05}, {\"value\": \"B-gpe\", \"prediction\": \"I-geo\", \"num_cases\": 69, \"pct_cases\": 0.005416437710966324}, {\"value\": \"B-gpe\", \"prediction\": \"B-per\", \"num_cases\": 64, \"pct_cases\": 0.005023942224664416}, {\"value\": \"I-per\", \"prediction\": \"B-geo\", \"num_cases\": 62, \"pct_cases\": 0.004478150957024196}, {\"value\": \"O\", \"prediction\": \"B-gpe\", \"num_cases\": 62, \"pct_cases\": 8.727588046582798e-05}, {\"value\": \"I-eve\", \"prediction\": \"I-eve\", \"num_cases\": 60, \"pct_cases\": 0.2926829268292683}, {\"value\": \"B-geo\", \"prediction\": \"B-gpe\", \"num_cases\": 59, \"pct_cases\": 0.0019592866868130042}, {\"value\": \"I-eve\", \"prediction\": \"I-org\", \"num_cases\": 50, \"pct_cases\": 0.24390243902439024}, {\"value\": \"I-geo\", \"prediction\": \"B-org\", \"num_cases\": 48, \"pct_cases\": 0.008138351983723296}, {\"value\": \"B-nat\", \"prediction\": \"O\", \"num_cases\": 45, \"pct_cases\": 0.28662420382165604}, {\"value\": \"B-art\", \"prediction\": \"O\", \"num_cases\": 44, \"pct_cases\": 0.14012738853503184}, {\"value\": \"B-geo\", \"prediction\": \"I-tim\", \"num_cases\": 40, \"pct_cases\": 0.001328329957161359}, {\"value\": \"I-gpe\", \"prediction\": \"I-geo\", \"num_cases\": 36, \"pct_cases\": 0.2236024844720497}, {\"value\": \"B-eve\", \"prediction\": \"B-org\", \"num_cases\": 36, \"pct_cases\": 0.14754098360655737}, {\"value\": \"O\", \"prediction\": \"I-eve\", \"num_cases\": 36, \"pct_cases\": 5.06763176898356e-05}, {\"value\": \"B-eve\", \"prediction\": \"O\", \"num_cases\": 35, \"pct_cases\": 0.14344262295081966}, {\"value\": \"B-org\", \"prediction\": \"B-tim\", \"num_cases\": 34, \"pct_cases\": 0.0021082656414708255}, {\"value\": \"I-art\", \"prediction\": \"O\", \"num_cases\": 31, \"pct_cases\": 0.128099173553719}, {\"value\": \"B-art\", \"prediction\": \"B-geo\", \"num_cases\": 30, \"pct_cases\": 0.09554140127388536}, {\"value\": \"B-org\", \"prediction\": \"I-geo\", \"num_cases\": 29, \"pct_cases\": 0.0017982265765486452}, {\"value\": \"B-tim\", \"prediction\": \"B-per\", \"num_cases\": 29, \"pct_cases\": 0.0017772874915732058}, {\"value\": \"I-tim\", \"prediction\": \"B-geo\", \"num_cases\": 27, \"pct_cases\": 0.005135032331685051}, {\"value\": \"I-eve\", \"prediction\": \"O\", \"num_cases\": 27, \"pct_cases\": 0.13170731707317074}, {\"value\": \"B-org\", \"prediction\": \"B-nat\", \"num_cases\": 26, \"pct_cases\": 0.001612203137595337}, {\"value\": \"B-geo\", \"prediction\": \"B-art\", \"num_cases\": 26, \"pct_cases\": 0.0008634144721548833}, {\"value\": \"I-tim\", \"prediction\": \"I-org\", \"num_cases\": 26, \"pct_cases\": 0.00494484594903005}, {\"value\": \"I-geo\", \"prediction\": \"B-gpe\", \"num_cases\": 25, \"pct_cases\": 0.00423872499152255}, {\"value\": \"B-org\", \"prediction\": \"B-art\", \"num_cases\": 24, \"pct_cases\": 0.001488187511626465}, {\"value\": \"I-art\", \"prediction\": \"I-geo\", \"num_cases\": 23, \"pct_cases\": 0.09504132231404959}, {\"value\": \"I-nat\", \"prediction\": \"I-nat\", \"num_cases\": 23, \"pct_cases\": 0.5227272727272727}, {\"value\": \"O\", \"prediction\": \"I-art\", \"num_cases\": 20, \"pct_cases\": 2.8153509827686442e-05}, {\"value\": \"I-gpe\", \"prediction\": \"B-gpe\", \"num_cases\": 20, \"pct_cases\": 0.12422360248447205}, {\"value\": \"I-geo\", \"prediction\": \"B-per\", \"num_cases\": 19, \"pct_cases\": 0.003221430993557138}, {\"value\": \"B-art\", \"prediction\": \"B-per\", \"num_cases\": 18, \"pct_cases\": 0.05732484076433121}, {\"value\": \"I-per\", \"prediction\": \"I-art\", \"num_cases\": 17, \"pct_cases\": 0.0012278801011195376}, {\"value\": \"I-tim\", \"prediction\": \"B-org\", \"num_cases\": 17, \"pct_cases\": 0.003233168505135032}, {\"value\": \"B-art\", \"prediction\": \"B-gpe\", \"num_cases\": 16, \"pct_cases\": 0.050955414012738856}, {\"value\": \"I-eve\", \"prediction\": \"B-org\", \"num_cases\": 15, \"pct_cases\": 0.07317073170731707}, {\"value\": \"B-eve\", \"prediction\": \"B-geo\", \"num_cases\": 15, \"pct_cases\": 0.06147540983606557}, {\"value\": \"B-tim\", \"prediction\": \"I-org\", \"num_cases\": 15, \"pct_cases\": 0.0009192866335723479}, {\"value\": \"B-gpe\", \"prediction\": \"O\", \"num_cases\": 14, \"pct_cases\": 0.0010989873616453411}, {\"value\": \"I-org\", \"prediction\": \"I-art\", \"num_cases\": 14, \"pct_cases\": 0.0010350436196954014}, {\"value\": \"B-eve\", \"prediction\": \"I-tim\", \"num_cases\": 13, \"pct_cases\": 0.05327868852459016}, {\"value\": \"I-geo\", \"prediction\": \"I-art\", \"num_cases\": 13, \"pct_cases\": 0.002204136995591726}, {\"value\": \"B-tim\", \"prediction\": \"I-per\", \"num_cases\": 13, \"pct_cases\": 0.0007967150824293682}, {\"value\": \"B-geo\", \"prediction\": \"B-nat\", \"num_cases\": 13, \"pct_cases\": 0.00043170723607744164}, {\"value\": \"I-nat\", \"prediction\": \"B-nat\", \"num_cases\": 13, \"pct_cases\": 0.29545454545454547}, {\"value\": \"I-eve\", \"prediction\": \"I-geo\", \"num_cases\": 12, \"pct_cases\": 0.05853658536585366}, {\"value\": \"I-gpe\", \"prediction\": \"I-org\", \"num_cases\": 12, \"pct_cases\": 0.07453416149068323}, {\"value\": \"B-eve\", \"prediction\": \"B-gpe\", \"num_cases\": 12, \"pct_cases\": 0.04918032786885246}, {\"value\": \"B-tim\", \"prediction\": \"I-geo\", \"num_cases\": 12, \"pct_cases\": 0.0007354293068578783}, {\"value\": \"I-org\", \"prediction\": \"B-gpe\", \"num_cases\": 12, \"pct_cases\": 0.0008871802454532013}, {\"value\": \"I-org\", \"prediction\": \"I-tim\", \"num_cases\": 11, \"pct_cases\": 0.0008132485583321012}, {\"value\": \"B-per\", \"prediction\": \"I-tim\", \"num_cases\": 11, \"pct_cases\": 0.0008107311320754717}, {\"value\": \"B-art\", \"prediction\": \"I-org\", \"num_cases\": 11, \"pct_cases\": 0.03503184713375796}, {\"value\": \"I-eve\", \"prediction\": \"B-eve\", \"num_cases\": 10, \"pct_cases\": 0.04878048780487805}, {\"value\": \"I-eve\", \"prediction\": \"I-tim\", \"num_cases\": 10, \"pct_cases\": 0.04878048780487805}, {\"value\": \"I-org\", \"prediction\": \"B-tim\", \"num_cases\": 10, \"pct_cases\": 0.0007393168712110011}, {\"value\": \"B-org\", \"prediction\": \"I-tim\", \"num_cases\": 9, \"pct_cases\": 0.0005580703168599244}, {\"value\": \"B-gpe\", \"prediction\": \"B-art\", \"num_cases\": 9, \"pct_cases\": 0.0007064918753434335}, {\"value\": \"I-tim\", \"prediction\": \"I-per\", \"num_cases\": 9, \"pct_cases\": 0.001711677443895017}, {\"value\": \"B-per\", \"prediction\": \"B-art\", \"num_cases\": 9, \"pct_cases\": 0.0006633254716981132}, {\"value\": \"I-tim\", \"prediction\": \"B-per\", \"num_cases\": 9, \"pct_cases\": 0.001711677443895017}, {\"value\": \"B-eve\", \"prediction\": \"I-org\", \"num_cases\": 8, \"pct_cases\": 0.03278688524590164}, {\"value\": \"B-org\", \"prediction\": \"B-eve\", \"num_cases\": 8, \"pct_cases\": 0.0004960625038754883}, {\"value\": \"I-tim\", \"prediction\": \"I-geo\", \"num_cases\": 8, \"pct_cases\": 0.0015214910612400153}, {\"value\": \"I-art\", \"prediction\": \"I-per\", \"num_cases\": 8, \"pct_cases\": 0.03305785123966942}, {\"value\": \"I-gpe\", \"prediction\": \"I-per\", \"num_cases\": 8, \"pct_cases\": 0.049689440993788817}, {\"value\": \"B-nat\", \"prediction\": \"B-org\", \"num_cases\": 7, \"pct_cases\": 0.044585987261146494}, {\"value\": \"B-per\", \"prediction\": \"I-geo\", \"num_cases\": 7, \"pct_cases\": 0.0005159198113207547}, {\"value\": \"B-eve\", \"prediction\": \"B-per\", \"num_cases\": 7, \"pct_cases\": 0.028688524590163935}, {\"value\": \"B-eve\", \"prediction\": \"B-tim\", \"num_cases\": 7, \"pct_cases\": 0.028688524590163935}, {\"value\": \"B-eve\", \"prediction\": \"I-eve\", \"num_cases\": 7, \"pct_cases\": 0.028688524590163935}, {\"value\": \"B-per\", \"prediction\": \"B-tim\", \"num_cases\": 7, \"pct_cases\": 0.0005159198113207547}, {\"value\": \"I-org\", \"prediction\": \"I-eve\", \"num_cases\": 7, \"pct_cases\": 0.0005175218098477007}, {\"value\": \"I-eve\", \"prediction\": \"B-nat\", \"num_cases\": 6, \"pct_cases\": 0.02926829268292683}, {\"value\": \"B-nat\", \"prediction\": \"B-per\", \"num_cases\": 6, \"pct_cases\": 0.03821656050955414}, {\"value\": \"B-gpe\", \"prediction\": \"I-tim\", \"num_cases\": 6, \"pct_cases\": 0.000470994583562289}, {\"value\": \"B-tim\", \"prediction\": \"I-nat\", \"num_cases\": 6, \"pct_cases\": 0.00036771465342893915}, {\"value\": \"I-eve\", \"prediction\": \"B-tim\", \"num_cases\": 5, \"pct_cases\": 0.024390243902439025}, {\"value\": \"I-per\", \"prediction\": \"B-tim\", \"num_cases\": 5, \"pct_cases\": 0.00036114120621162876}, {\"value\": \"O\", \"prediction\": \"I-nat\", \"num_cases\": 4, \"pct_cases\": 5.630701965537289e-06}, {\"value\": \"I-per\", \"prediction\": \"I-tim\", \"num_cases\": 4, \"pct_cases\": 0.000288912964969303}, {\"value\": \"B-art\", \"prediction\": \"B-eve\", \"num_cases\": 4, \"pct_cases\": 0.012738853503184714}, {\"value\": \"I-org\", \"prediction\": \"B-art\", \"num_cases\": 4, \"pct_cases\": 0.0002957267484844004}, {\"value\": \"I-art\", \"prediction\": \"I-eve\", \"num_cases\": 4, \"pct_cases\": 0.01652892561983471}, {\"value\": \"I-nat\", \"prediction\": \"I-org\", \"num_cases\": 4, \"pct_cases\": 0.09090909090909091}, {\"value\": \"B-gpe\", \"prediction\": \"B-tim\", \"num_cases\": 4, \"pct_cases\": 0.000313996389041526}, {\"value\": \"I-geo\", \"prediction\": \"I-tim\", \"num_cases\": 4, \"pct_cases\": 0.0006781959986436081}, {\"value\": \"B-nat\", \"prediction\": \"B-geo\", \"num_cases\": 4, \"pct_cases\": 0.025477707006369428}, {\"value\": \"I-eve\", \"prediction\": \"B-per\", \"num_cases\": 3, \"pct_cases\": 0.014634146341463415}, {\"value\": \"I-eve\", \"prediction\": \"I-art\", \"num_cases\": 3, \"pct_cases\": 0.014634146341463415}, {\"value\": \"I-tim\", \"prediction\": \"B-gpe\", \"num_cases\": 3, \"pct_cases\": 0.0005705591479650057}, {\"value\": \"I-art\", \"prediction\": \"B-org\", \"num_cases\": 3, \"pct_cases\": 0.012396694214876033}, {\"value\": \"I-art\", \"prediction\": \"B-geo\", \"num_cases\": 3, \"pct_cases\": 0.012396694214876033}, {\"value\": \"B-tim\", \"prediction\": \"B-nat\", \"num_cases\": 3, \"pct_cases\": 0.00018385732671446958}, {\"value\": \"I-art\", \"prediction\": \"B-per\", \"num_cases\": 3, \"pct_cases\": 0.012396694214876033}, {\"value\": \"I-nat\", \"prediction\": \"O\", \"num_cases\": 3, \"pct_cases\": 0.06818181818181818}, {\"value\": \"I-eve\", \"prediction\": \"I-per\", \"num_cases\": 3, \"pct_cases\": 0.014634146341463415}, {\"value\": \"B-per\", \"prediction\": \"B-eve\", \"num_cases\": 3, \"pct_cases\": 0.00022110849056603774}, {\"value\": \"I-tim\", \"prediction\": \"I-art\", \"num_cases\": 2, \"pct_cases\": 0.0003803727653100038}, {\"value\": \"I-art\", \"prediction\": \"B-art\", \"num_cases\": 2, \"pct_cases\": 0.008264462809917356}, {\"value\": \"B-art\", \"prediction\": \"I-tim\", \"num_cases\": 2, \"pct_cases\": 0.006369426751592357}, {\"value\": \"I-tim\", \"prediction\": \"B-art\", \"num_cases\": 2, \"pct_cases\": 0.0003803727653100038}, {\"value\": \"B-eve\", \"prediction\": \"B-nat\", \"num_cases\": 2, \"pct_cases\": 0.00819672131147541}, {\"value\": \"I-per\", \"prediction\": \"I-eve\", \"num_cases\": 2, \"pct_cases\": 0.0001444564824846515}, {\"value\": \"B-eve\", \"prediction\": \"B-art\", \"num_cases\": 2, \"pct_cases\": 0.00819672131147541}, {\"value\": \"B-geo\", \"prediction\": \"B-eve\", \"num_cases\": 2, \"pct_cases\": 6.641649785806795e-05}, {\"value\": \"B-tim\", \"prediction\": \"B-art\", \"num_cases\": 2, \"pct_cases\": 0.00012257155114297973}, {\"value\": \"B-gpe\", \"prediction\": \"I-per\", \"num_cases\": 2, \"pct_cases\": 0.000156998194520763}, {\"value\": \"B-art\", \"prediction\": \"B-tim\", \"num_cases\": 2, \"pct_cases\": 0.006369426751592357}, {\"value\": \"I-org\", \"prediction\": \"B-nat\", \"num_cases\": 2, \"pct_cases\": 0.0001478633742422002}, {\"value\": \"B-art\", \"prediction\": \"I-art\", \"num_cases\": 1, \"pct_cases\": 0.0031847133757961785}, {\"value\": \"B-art\", \"prediction\": \"I-per\", \"num_cases\": 1, \"pct_cases\": 0.0031847133757961785}, {\"value\": \"I-geo\", \"prediction\": \"B-art\", \"num_cases\": 1, \"pct_cases\": 0.00016954899966090201}, {\"value\": \"I-nat\", \"prediction\": \"B-tim\", \"num_cases\": 1, \"pct_cases\": 0.022727272727272728}, {\"value\": \"B-tim\", \"prediction\": \"B-eve\", \"num_cases\": 1, \"pct_cases\": 6.128577557148986e-05}, {\"value\": \"B-art\", \"prediction\": \"I-geo\", \"num_cases\": 1, \"pct_cases\": 0.0031847133757961785}, {\"value\": \"B-nat\", \"prediction\": \"I-org\", \"num_cases\": 1, \"pct_cases\": 0.006369426751592357}, {\"value\": \"B-tim\", \"prediction\": \"I-art\", \"num_cases\": 1, \"pct_cases\": 6.128577557148986e-05}, {\"value\": \"B-tim\", \"prediction\": \"I-eve\", \"num_cases\": 1, \"pct_cases\": 6.128577557148986e-05}, {\"value\": \"B-geo\", \"prediction\": \"I-gpe\", \"num_cases\": 1, \"pct_cases\": 3.320824892903397e-05}, {\"value\": \"B-per\", \"prediction\": \"B-gpe\", \"num_cases\": 1, \"pct_cases\": 7.370283018867924e-05}, {\"value\": \"B-per\", \"prediction\": \"I-art\", \"num_cases\": 1, \"pct_cases\": 7.370283018867924e-05}, {\"value\": \"O\", \"prediction\": \"I-gpe\", \"num_cases\": 1, \"pct_cases\": 1.4076754913843222e-06}, {\"value\": \"B-per\", \"prediction\": \"B-nat\", \"num_cases\": 1, \"pct_cases\": 7.370283018867924e-05}, {\"value\": \"I-art\", \"prediction\": \"B-eve\", \"num_cases\": 1, \"pct_cases\": 0.004132231404958678}, {\"value\": \"I-art\", \"prediction\": \"I-tim\", \"num_cases\": 1, \"pct_cases\": 0.004132231404958678}, {\"value\": \"I-art\", \"prediction\": \"B-tim\", \"num_cases\": 1, \"pct_cases\": 0.004132231404958678}, {\"value\": \"I-eve\", \"prediction\": \"B-geo\", \"num_cases\": 1, \"pct_cases\": 0.004878048780487805}, {\"value\": \"I-tim\", \"prediction\": \"I-eve\", \"num_cases\": 1, \"pct_cases\": 0.0001901863826550019}, {\"value\": \"I-tim\", \"prediction\": \"B-eve\", \"num_cases\": 1, \"pct_cases\": 0.0001901863826550019}, {\"value\": \"B-eve\", \"prediction\": \"I-per\", \"num_cases\": 1, \"pct_cases\": 0.004098360655737705}, {\"value\": \"I-gpe\", \"prediction\": \"B-geo\", \"num_cases\": 1, \"pct_cases\": 0.006211180124223602}, {\"value\": \"I-gpe\", \"prediction\": \"O\", \"num_cases\": 1, \"pct_cases\": 0.006211180124223602}, {\"value\": \"I-gpe\", \"prediction\": \"I-art\", \"num_cases\": 1, \"pct_cases\": 0.006211180124223602}, {\"value\": \"I-tim\", \"prediction\": \"B-nat\", \"num_cases\": 1, \"pct_cases\": 0.0001901863826550019}]}}, {\"mode\": \"vega-lite\"});\n",
       "</script>"
      ],
      "text/plain": [
       "alt.Chart(...)"
      ]
     },
     "metadata": {},
     "output_type": "display_data"
    }
   ],
   "source": [
    "# Evaluate train dataset\n",
    "O_value = train_seq.y_dict['O']  # code of 'O' value, to be ignored\n",
    "eval_train_features = evaluate_corpus(train_seq.seq_list, pred_train_features, train_seq.y_dict, ignore_tag_code=O_value)"
   ]
  },
  {
   "cell_type": "code",
   "execution_count": 35,
   "metadata": {},
   "outputs": [
    {
     "name": "stdout",
     "output_type": "stream",
     "text": [
      "Accuracy: 0.894\n",
      "Weighted F1 score: 0.899\n",
      "Accuracy (ignore tag excluded): 0.478\n",
      "Weighted F1 score (ignore tag excluded): 0.490\n"
     ]
    },
    {
     "data": {
      "text/html": [
       "\n",
       "<div id=\"altair-viz-8031aea3447d4f79a9a2982f50de54bc\"></div>\n",
       "<script type=\"text/javascript\">\n",
       "  var VEGA_DEBUG = (typeof VEGA_DEBUG == \"undefined\") ? {} : VEGA_DEBUG;\n",
       "  (function(spec, embedOpt){\n",
       "    let outputDiv = document.currentScript.previousElementSibling;\n",
       "    if (outputDiv.id !== \"altair-viz-8031aea3447d4f79a9a2982f50de54bc\") {\n",
       "      outputDiv = document.getElementById(\"altair-viz-8031aea3447d4f79a9a2982f50de54bc\");\n",
       "    }\n",
       "    const paths = {\n",
       "      \"vega\": \"https://cdn.jsdelivr.net/npm//vega@5?noext\",\n",
       "      \"vega-lib\": \"https://cdn.jsdelivr.net/npm//vega-lib?noext\",\n",
       "      \"vega-lite\": \"https://cdn.jsdelivr.net/npm//vega-lite@4.17.0?noext\",\n",
       "      \"vega-embed\": \"https://cdn.jsdelivr.net/npm//vega-embed@6?noext\",\n",
       "    };\n",
       "\n",
       "    function maybeLoadScript(lib, version) {\n",
       "      var key = `${lib.replace(\"-\", \"\")}_version`;\n",
       "      return (VEGA_DEBUG[key] == version) ?\n",
       "        Promise.resolve(paths[lib]) :\n",
       "        new Promise(function(resolve, reject) {\n",
       "          var s = document.createElement('script');\n",
       "          document.getElementsByTagName(\"head\")[0].appendChild(s);\n",
       "          s.async = true;\n",
       "          s.onload = () => {\n",
       "            VEGA_DEBUG[key] = version;\n",
       "            return resolve(paths[lib]);\n",
       "          };\n",
       "          s.onerror = () => reject(`Error loading script: ${paths[lib]}`);\n",
       "          s.src = paths[lib];\n",
       "        });\n",
       "    }\n",
       "\n",
       "    function showError(err) {\n",
       "      outputDiv.innerHTML = `<div class=\"error\" style=\"color:red;\">${err}</div>`;\n",
       "      throw err;\n",
       "    }\n",
       "\n",
       "    function displayChart(vegaEmbed) {\n",
       "      vegaEmbed(outputDiv, spec, embedOpt)\n",
       "        .catch(err => showError(`Javascript Error: ${err.message}<br>This usually means there's a typo in your chart specification. See the javascript console for the full traceback.`));\n",
       "    }\n",
       "\n",
       "    if(typeof define === \"function\" && define.amd) {\n",
       "      requirejs.config({paths});\n",
       "      require([\"vega-embed\"], displayChart, err => showError(`Error loading script: ${err.message}`));\n",
       "    } else {\n",
       "      maybeLoadScript(\"vega\", \"5\")\n",
       "        .then(() => maybeLoadScript(\"vega-lite\", \"4.17.0\"))\n",
       "        .then(() => maybeLoadScript(\"vega-embed\", \"6\"))\n",
       "        .catch(showError)\n",
       "        .then(() => displayChart(vegaEmbed));\n",
       "    }\n",
       "  })({\"config\": {\"view\": {\"continuousWidth\": 400, \"continuousHeight\": 300}}, \"data\": {\"name\": \"data-95acf744b9a1c8957d4f5bbd86cb3dc3\"}, \"mark\": \"circle\", \"encoding\": {\"color\": {\"field\": \"pct_cases\", \"scale\": {\"domain\": [0, 1], \"scheme\": \"redblue\"}, \"type\": \"quantitative\"}, \"size\": {\"field\": \"pct_cases\", \"legend\": {\"title\": \"Percentage of words\"}, \"scale\": {\"domain\": [0, 1]}, \"type\": \"quantitative\"}, \"tooltip\": [{\"field\": \"value\", \"type\": \"nominal\"}, {\"field\": \"prediction\", \"type\": \"nominal\"}, {\"field\": \"pct_cases\", \"format\": \".2%\", \"type\": \"quantitative\"}, {\"field\": \"num_cases\", \"type\": \"quantitative\"}], \"x\": {\"field\": \"prediction\", \"type\": \"ordinal\"}, \"y\": {\"field\": \"value\", \"type\": \"ordinal\"}}, \"$schema\": \"https://vega.github.io/schema/vega-lite/v4.17.0.json\", \"datasets\": {\"data-95acf744b9a1c8957d4f5bbd86cb3dc3\": [{\"value\": \"O\", \"prediction\": \"O\", \"num_cases\": 686945, \"pct_cases\": 0.9687479727995533}, {\"value\": \"B-geo\", \"prediction\": \"B-geo\", \"num_cases\": 14224, \"pct_cases\": 0.4723384472338447}, {\"value\": \"I-org\", \"prediction\": \"I-org\", \"num_cases\": 10430, \"pct_cases\": 0.7853324297869136}, {\"value\": \"B-org\", \"prediction\": \"B-org\", \"num_cases\": 8855, \"pct_cases\": 0.5527810724764343}, {\"value\": \"O\", \"prediction\": \"I-org\", \"num_cases\": 7635, \"pct_cases\": 0.010767078546789901}, {\"value\": \"B-per\", \"prediction\": \"B-per\", \"num_cases\": 7268, \"pct_cases\": 0.5308596888466875}, {\"value\": \"I-per\", \"prediction\": \"I-per\", \"num_cases\": 7183, \"pct_cases\": 0.5193781634128706}, {\"value\": \"B-geo\", \"prediction\": \"B-org\", \"num_cases\": 6222, \"pct_cases\": 0.2066148635186292}, {\"value\": \"B-tim\", \"prediction\": \"B-tim\", \"num_cases\": 5568, \"pct_cases\": 0.34517388878556815}, {\"value\": \"I-per\", \"prediction\": \"I-org\", \"num_cases\": 5429, \"pct_cases\": 0.3925524222704266}, {\"value\": \"O\", \"prediction\": \"I-tim\", \"num_cases\": 4902, \"pct_cases\": 0.006912929801750373}, {\"value\": \"B-geo\", \"prediction\": \"B-per\", \"num_cases\": 4071, \"pct_cases\": 0.13518629209005778}, {\"value\": \"B-gpe\", \"prediction\": \"B-org\", \"num_cases\": 3727, \"pct_cases\": 0.29464779824492054}, {\"value\": \"B-tim\", \"prediction\": \"O\", \"num_cases\": 3723, \"pct_cases\": 0.23079784266319509}, {\"value\": \"O\", \"prediction\": \"B-org\", \"num_cases\": 3277, \"pct_cases\": 0.004621311905413295}, {\"value\": \"I-tim\", \"prediction\": \"I-tim\", \"num_cases\": 3064, \"pct_cases\": 0.5852913085004775}, {\"value\": \"O\", \"prediction\": \"B-tim\", \"num_cases\": 2586, \"pct_cases\": 0.0036468454645708823}, {\"value\": \"B-per\", \"prediction\": \"I-org\", \"num_cases\": 2578, \"pct_cases\": 0.18829888247753998}, {\"value\": \"I-geo\", \"prediction\": \"I-org\", \"num_cases\": 2456, \"pct_cases\": 0.41367694121610243}, {\"value\": \"I-geo\", \"prediction\": \"I-geo\", \"num_cases\": 2315, \"pct_cases\": 0.38992757284823987}, {\"value\": \"B-geo\", \"prediction\": \"I-org\", \"num_cases\": 2311, \"pct_cases\": 0.07674171481702863}, {\"value\": \"B-gpe\", \"prediction\": \"B-gpe\", \"num_cases\": 2258, \"pct_cases\": 0.1785121353466677}, {\"value\": \"B-gpe\", \"prediction\": \"B-per\", \"num_cases\": 2096, \"pct_cases\": 0.16570479879832398}, {\"value\": \"B-org\", \"prediction\": \"B-per\", \"num_cases\": 1853, \"pct_cases\": 0.11567513577626569}, {\"value\": \"B-per\", \"prediction\": \"B-org\", \"num_cases\": 1761, \"pct_cases\": 0.12862464392666714}, {\"value\": \"B-org\", \"prediction\": \"B-geo\", \"num_cases\": 1752, \"pct_cases\": 0.10937012297896248}, {\"value\": \"B-tim\", \"prediction\": \"B-org\", \"num_cases\": 1702, \"pct_cases\": 0.10551112764242762}, {\"value\": \"B-tim\", \"prediction\": \"B-per\", \"num_cases\": 1561, \"pct_cases\": 0.09677019403632757}, {\"value\": \"B-org\", \"prediction\": \"I-org\", \"num_cases\": 1424, \"pct_cases\": 0.08889443785504714}, {\"value\": \"B-gpe\", \"prediction\": \"B-geo\", \"num_cases\": 1355, \"pct_cases\": 0.10712309273460352}, {\"value\": \"O\", \"prediction\": \"B-geo\", \"num_cases\": 1281, \"pct_cases\": 0.0018065000155124903}, {\"value\": \"B-tim\", \"prediction\": \"B-geo\", \"num_cases\": 1237, \"pct_cases\": 0.07668464447337425}, {\"value\": \"I-tim\", \"prediction\": \"O\", \"num_cases\": 1168, \"pct_cases\": 0.22311365807067812}, {\"value\": \"O\", \"prediction\": \"B-per\", \"num_cases\": 1164, \"pct_cases\": 0.0016415035269762208}, {\"value\": \"B-geo\", \"prediction\": \"B-tim\", \"num_cases\": 1025, \"pct_cases\": 0.034037324832303914}, {\"value\": \"I-org\", \"prediction\": \"I-per\", \"num_cases\": 994, \"pct_cases\": 0.07484376176492734}, {\"value\": \"B-gpe\", \"prediction\": \"I-org\", \"num_cases\": 944, \"pct_cases\": 0.07463040556565737}, {\"value\": \"B-tim\", \"prediction\": \"I-tim\", \"num_cases\": 860, \"pct_cases\": 0.05331349575351807}, {\"value\": \"B-org\", \"prediction\": \"O\", \"num_cases\": 810, \"pct_cases\": 0.050564954116986076}, {\"value\": \"B-tim\", \"prediction\": \"I-org\", \"num_cases\": 789, \"pct_cases\": 0.04891203273200669}, {\"value\": \"B-per\", \"prediction\": \"B-geo\", \"num_cases\": 778, \"pct_cases\": 0.05682565188810167}, {\"value\": \"B-geo\", \"prediction\": \"I-tim\", \"num_cases\": 739, \"pct_cases\": 0.024540081025436675}, {\"value\": \"I-org\", \"prediction\": \"I-geo\", \"num_cases\": 651, \"pct_cases\": 0.04901739326857917}, {\"value\": \"B-per\", \"prediction\": \"I-per\", \"num_cases\": 589, \"pct_cases\": 0.043020962676210646}, {\"value\": \"B-gpe\", \"prediction\": \"B-tim\", \"num_cases\": 568, \"pct_cases\": 0.044904735552217565}, {\"value\": \"B-geo\", \"prediction\": \"I-geo\", \"num_cases\": 517, \"pct_cases\": 0.017168094573952315}, {\"value\": \"B-gpe\", \"prediction\": \"B-art\", \"num_cases\": 509, \"pct_cases\": 0.04024033520436398}, {\"value\": \"B-gpe\", \"prediction\": \"I-tim\", \"num_cases\": 485, \"pct_cases\": 0.03834295201201676}, {\"value\": \"I-geo\", \"prediction\": \"I-per\", \"num_cases\": 437, \"pct_cases\": 0.07360619841670878}, {\"value\": \"O\", \"prediction\": \"I-per\", \"num_cases\": 434, \"pct_cases\": 0.0006120382566217181}, {\"value\": \"B-org\", \"prediction\": \"B-tim\", \"num_cases\": 426, \"pct_cases\": 0.026593420313377865}, {\"value\": \"I-per\", \"prediction\": \"I-geo\", \"num_cases\": 417, \"pct_cases\": 0.03015184381778742}, {\"value\": \"B-geo\", \"prediction\": \"B-art\", \"num_cases\": 406, \"pct_cases\": 0.013482101348210134}, {\"value\": \"B-gpe\", \"prediction\": \"O\", \"num_cases\": 396, \"pct_cases\": 0.03130682267372915}, {\"value\": \"I-tim\", \"prediction\": \"B-tim\", \"num_cases\": 378, \"pct_cases\": 0.07220630372492837}, {\"value\": \"B-geo\", \"prediction\": \"O\", \"num_cases\": 375, \"pct_cases\": 0.012452679816696554}, {\"value\": \"I-org\", \"prediction\": \"O\", \"num_cases\": 334, \"pct_cases\": 0.025148708681575184}, {\"value\": \"I-geo\", \"prediction\": \"I-tim\", \"num_cases\": 314, \"pct_cases\": 0.052888664308573356}, {\"value\": \"I-org\", \"prediction\": \"I-tim\", \"num_cases\": 312, \"pct_cases\": 0.02349220691213011}, {\"value\": \"B-org\", \"prediction\": \"B-art\", \"num_cases\": 299, \"pct_cases\": 0.018665334914788688}, {\"value\": \"O\", \"prediction\": \"I-geo\", \"num_cases\": 291, \"pct_cases\": 0.0004103758817440552}, {\"value\": \"B-per\", \"prediction\": \"O\", \"num_cases\": 289, \"pct_cases\": 0.02110875757797093}, {\"value\": \"B-tim\", \"prediction\": \"I-geo\", \"num_cases\": 269, \"pct_cases\": 0.016675965532205073}, {\"value\": \"I-per\", \"prediction\": \"B-per\", \"num_cases\": 265, \"pct_cases\": 0.019161243673174257}, {\"value\": \"B-tim\", \"prediction\": \"B-art\", \"num_cases\": 255, \"pct_cases\": 0.015808071415287336}, {\"value\": \"B-gpe\", \"prediction\": \"I-geo\", \"num_cases\": 241, \"pct_cases\": 0.01905288955648668}, {\"value\": \"I-tim\", \"prediction\": \"I-org\", \"num_cases\": 228, \"pct_cases\": 0.04355300859598854}, {\"value\": \"B-org\", \"prediction\": \"I-per\", \"num_cases\": 226, \"pct_cases\": 0.014108246457331918}, {\"value\": \"B-org\", \"prediction\": \"I-tim\", \"num_cases\": 215, \"pct_cases\": 0.01342156189524939}, {\"value\": \"O\", \"prediction\": \"B-nat\", \"num_cases\": 211, \"pct_cases\": 0.0002975577699243837}, {\"value\": \"B-per\", \"prediction\": \"I-tim\", \"num_cases\": 167, \"pct_cases\": 0.012197794171353443}, {\"value\": \"I-org\", \"prediction\": \"B-org\", \"num_cases\": 166, \"pct_cases\": 0.012499058805812814}, {\"value\": \"I-per\", \"prediction\": \"O\", \"num_cases\": 153, \"pct_cases\": 0.01106290672451193}, {\"value\": \"I-org\", \"prediction\": \"I-art\", \"num_cases\": 152, \"pct_cases\": 0.011444921316165951}, {\"value\": \"I-art\", \"prediction\": \"I-org\", \"num_cases\": 151, \"pct_cases\": 0.6832579185520362}, {\"value\": \"I-per\", \"prediction\": \"I-tim\", \"num_cases\": 149, \"pct_cases\": 0.010773680404916847}, {\"value\": \"B-geo\", \"prediction\": \"I-per\", \"num_cases\": 148, \"pct_cases\": 0.004914657634322906}, {\"value\": \"B-tim\", \"prediction\": \"I-per\", \"num_cases\": 142, \"pct_cases\": 0.008802926043022751}, {\"value\": \"I-geo\", \"prediction\": \"B-geo\", \"num_cases\": 132, \"pct_cases\": 0.02223345123799899}, {\"value\": \"I-eve\", \"prediction\": \"I-org\", \"num_cases\": 126, \"pct_cases\": 0.6395939086294417}, {\"value\": \"I-geo\", \"prediction\": \"O\", \"num_cases\": 126, \"pct_cases\": 0.021222839818089943}, {\"value\": \"B-art\", \"prediction\": \"B-org\", \"num_cases\": 123, \"pct_cases\": 0.38801261829652994}, {\"value\": \"I-org\", \"prediction\": \"B-per\", \"num_cases\": 111, \"pct_cases\": 0.008357804382200136}, {\"value\": \"I-tim\", \"prediction\": \"I-per\", \"num_cases\": 110, \"pct_cases\": 0.021012416427889206}, {\"value\": \"O\", \"prediction\": \"B-gpe\", \"num_cases\": 103, \"pct_cases\": 0.00014525331896782709}, {\"value\": \"B-org\", \"prediction\": \"I-geo\", \"num_cases\": 103, \"pct_cases\": 0.006429864535863662}, {\"value\": \"B-eve\", \"prediction\": \"B-org\", \"num_cases\": 96, \"pct_cases\": 0.3950617283950617}, {\"value\": \"I-per\", \"prediction\": \"B-org\", \"num_cases\": 96, \"pct_cases\": 0.006941431670281995}, {\"value\": \"B-per\", \"prediction\": \"B-art\", \"num_cases\": 96, \"pct_cases\": 0.00701190563143671}, {\"value\": \"B-per\", \"prediction\": \"B-tim\", \"num_cases\": 95, \"pct_cases\": 0.006938864947775911}, {\"value\": \"I-tim\", \"prediction\": \"I-geo\", \"num_cases\": 86, \"pct_cases\": 0.016427889207258836}, {\"value\": \"O\", \"prediction\": \"B-eve\", \"num_cases\": 82, \"pct_cases\": 0.00011563856461516332}, {\"value\": \"I-org\", \"prediction\": \"B-geo\", \"num_cases\": 74, \"pct_cases\": 0.005571869588133424}, {\"value\": \"I-per\", \"prediction\": \"I-art\", \"num_cases\": 73, \"pct_cases\": 0.0052783803326102675}, {\"value\": \"I-geo\", \"prediction\": \"B-org\", \"num_cases\": 72, \"pct_cases\": 0.01212733703890854}, {\"value\": \"I-tim\", \"prediction\": \"B-org\", \"num_cases\": 70, \"pct_cases\": 0.013371537726838587}, {\"value\": \"I-gpe\", \"prediction\": \"I-org\", \"num_cases\": 68, \"pct_cases\": 0.4503311258278146}, {\"value\": \"B-gpe\", \"prediction\": \"I-per\", \"num_cases\": 66, \"pct_cases\": 0.005217803778954858}, {\"value\": \"O\", \"prediction\": \"B-art\", \"num_cases\": 61, \"pct_cases\": 8.602381026249954e-05}, {\"value\": \"I-tim\", \"prediction\": \"B-geo\", \"num_cases\": 59, \"pct_cases\": 0.011270296084049666}, {\"value\": \"O\", \"prediction\": \"I-art\", \"num_cases\": 58, \"pct_cases\": 8.179313106926186e-05}, {\"value\": \"B-eve\", \"prediction\": \"B-eve\", \"num_cases\": 58, \"pct_cases\": 0.23868312757201646}, {\"value\": \"B-geo\", \"prediction\": \"B-gpe\", \"num_cases\": 54, \"pct_cases\": 0.0017931858936043037}, {\"value\": \"B-nat\", \"prediction\": \"B-org\", \"num_cases\": 51, \"pct_cases\": 0.2914285714285714}, {\"value\": \"O\", \"prediction\": \"I-nat\", \"num_cases\": 43, \"pct_cases\": 6.0639735103073444e-05}, {\"value\": \"B-art\", \"prediction\": \"I-org\", \"num_cases\": 43, \"pct_cases\": 0.13564668769716087}, {\"value\": \"I-gpe\", \"prediction\": \"I-geo\", \"num_cases\": 43, \"pct_cases\": 0.2847682119205298}, {\"value\": \"I-org\", \"prediction\": \"B-tim\", \"num_cases\": 42, \"pct_cases\": 0.003162412468940592}, {\"value\": \"I-geo\", \"prediction\": \"I-art\", \"num_cases\": 41, \"pct_cases\": 0.0069058447027118075}, {\"value\": \"B-nat\", \"prediction\": \"B-nat\", \"num_cases\": 38, \"pct_cases\": 0.21714285714285714}, {\"value\": \"I-tim\", \"prediction\": \"I-art\", \"num_cases\": 35, \"pct_cases\": 0.0066857688634192934}, {\"value\": \"B-per\", \"prediction\": \"I-geo\", \"num_cases\": 35, \"pct_cases\": 0.0025564239281279672}, {\"value\": \"B-org\", \"prediction\": \"B-gpe\", \"num_cases\": 33, \"pct_cases\": 0.002060053686247581}, {\"value\": \"B-art\", \"prediction\": \"O\", \"num_cases\": 32, \"pct_cases\": 0.10094637223974763}, {\"value\": \"O\", \"prediction\": \"I-eve\", \"num_cases\": 31, \"pct_cases\": 4.371701833012272e-05}, {\"value\": \"B-art\", \"prediction\": \"B-art\", \"num_cases\": 30, \"pct_cases\": 0.0946372239747634}, {\"value\": \"I-per\", \"prediction\": \"B-tim\", \"num_cases\": 30, \"pct_cases\": 0.0021691973969631237}, {\"value\": \"B-art\", \"prediction\": \"B-per\", \"num_cases\": 30, \"pct_cases\": 0.0946372239747634}, {\"value\": \"B-nat\", \"prediction\": \"B-geo\", \"num_cases\": 29, \"pct_cases\": 0.1657142857142857}, {\"value\": \"I-tim\", \"prediction\": \"B-per\", \"num_cases\": 28, \"pct_cases\": 0.005348615090735435}, {\"value\": \"I-per\", \"prediction\": \"B-geo\", \"num_cases\": 25, \"pct_cases\": 0.0018076644974692696}, {\"value\": \"B-nat\", \"prediction\": \"I-org\", \"num_cases\": 24, \"pct_cases\": 0.13714285714285715}, {\"value\": \"B-art\", \"prediction\": \"B-geo\", \"num_cases\": 23, \"pct_cases\": 0.07255520504731862}, {\"value\": \"I-nat\", \"prediction\": \"I-org\", \"num_cases\": 23, \"pct_cases\": 0.5476190476190477}, {\"value\": \"I-art\", \"prediction\": \"I-art\", \"num_cases\": 21, \"pct_cases\": 0.09502262443438914}, {\"value\": \"B-eve\", \"prediction\": \"B-per\", \"num_cases\": 20, \"pct_cases\": 0.0823045267489712}, {\"value\": \"I-geo\", \"prediction\": \"B-per\", \"num_cases\": 20, \"pct_cases\": 0.0033687047330301497}, {\"value\": \"B-art\", \"prediction\": \"B-tim\", \"num_cases\": 20, \"pct_cases\": 0.06309148264984227}, {\"value\": \"B-per\", \"prediction\": \"I-art\", \"num_cases\": 17, \"pct_cases\": 0.0012416916222335842}, {\"value\": \"I-geo\", \"prediction\": \"B-tim\", \"num_cases\": 16, \"pct_cases\": 0.00269496378642412}, {\"value\": \"I-gpe\", \"prediction\": \"I-per\", \"num_cases\": 16, \"pct_cases\": 0.10596026490066225}, {\"value\": \"B-eve\", \"prediction\": \"O\", \"num_cases\": 16, \"pct_cases\": 0.06584362139917696}, {\"value\": \"I-eve\", \"prediction\": \"I-tim\", \"num_cases\": 14, \"pct_cases\": 0.07106598984771574}, {\"value\": \"I-eve\", \"prediction\": \"O\", \"num_cases\": 13, \"pct_cases\": 0.06598984771573604}, {\"value\": \"B-geo\", \"prediction\": \"I-art\", \"num_cases\": 13, \"pct_cases\": 0.00043169290031214717}, {\"value\": \"B-tim\", \"prediction\": \"B-eve\", \"num_cases\": 13, \"pct_cases\": 0.0008059016799950406}, {\"value\": \"I-art\", \"prediction\": \"I-per\", \"num_cases\": 13, \"pct_cases\": 0.058823529411764705}, {\"value\": \"I-eve\", \"prediction\": \"B-eve\", \"num_cases\": 13, \"pct_cases\": 0.06598984771573604}, {\"value\": \"B-art\", \"prediction\": \"I-tim\", \"num_cases\": 12, \"pct_cases\": 0.03785488958990536}, {\"value\": \"B-eve\", \"prediction\": \"B-geo\", \"num_cases\": 12, \"pct_cases\": 0.04938271604938271}, {\"value\": \"B-eve\", \"prediction\": \"I-org\", \"num_cases\": 11, \"pct_cases\": 0.04526748971193416}, {\"value\": \"I-art\", \"prediction\": \"O\", \"num_cases\": 11, \"pct_cases\": 0.049773755656108594}, {\"value\": \"I-eve\", \"prediction\": \"I-per\", \"num_cases\": 11, \"pct_cases\": 0.05583756345177665}, {\"value\": \"B-per\", \"prediction\": \"B-gpe\", \"num_cases\": 11, \"pct_cases\": 0.0008034475202687897}, {\"value\": \"B-org\", \"prediction\": \"I-art\", \"num_cases\": 11, \"pct_cases\": 0.000686684562082527}, {\"value\": \"B-nat\", \"prediction\": \"B-per\", \"num_cases\": 11, \"pct_cases\": 0.06285714285714286}, {\"value\": \"B-tim\", \"prediction\": \"I-art\", \"num_cases\": 10, \"pct_cases\": 0.0006199243692269543}, {\"value\": \"B-eve\", \"prediction\": \"B-tim\", \"num_cases\": 10, \"pct_cases\": 0.0411522633744856}, {\"value\": \"I-art\", \"prediction\": \"I-tim\", \"num_cases\": 10, \"pct_cases\": 0.04524886877828054}, {\"value\": \"I-org\", \"prediction\": \"B-art\", \"num_cases\": 10, \"pct_cases\": 0.00075295534974776}, {\"value\": \"I-art\", \"prediction\": \"I-geo\", \"num_cases\": 9, \"pct_cases\": 0.04072398190045249}, {\"value\": \"B-nat\", \"prediction\": \"O\", \"num_cases\": 8, \"pct_cases\": 0.045714285714285714}, {\"value\": \"B-eve\", \"prediction\": \"B-art\", \"num_cases\": 8, \"pct_cases\": 0.03292181069958848}, {\"value\": \"I-gpe\", \"prediction\": \"I-tim\", \"num_cases\": 8, \"pct_cases\": 0.052980132450331126}, {\"value\": \"I-gpe\", \"prediction\": \"I-art\", \"num_cases\": 8, \"pct_cases\": 0.052980132450331126}, {\"value\": \"B-eve\", \"prediction\": \"I-tim\", \"num_cases\": 7, \"pct_cases\": 0.02880658436213992}, {\"value\": \"I-nat\", \"prediction\": \"I-nat\", \"num_cases\": 7, \"pct_cases\": 0.16666666666666666}, {\"value\": \"B-nat\", \"prediction\": \"I-nat\", \"num_cases\": 7, \"pct_cases\": 0.04}, {\"value\": \"I-eve\", \"prediction\": \"I-art\", \"num_cases\": 7, \"pct_cases\": 0.03553299492385787}, {\"value\": \"B-org\", \"prediction\": \"B-nat\", \"num_cases\": 6, \"pct_cases\": 0.00037455521568137835}, {\"value\": \"I-per\", \"prediction\": \"B-eve\", \"num_cases\": 6, \"pct_cases\": 0.0004338394793926247}, {\"value\": \"I-geo\", \"prediction\": \"B-gpe\", \"num_cases\": 5, \"pct_cases\": 0.0008421761832575374}, {\"value\": \"I-nat\", \"prediction\": \"I-geo\", \"num_cases\": 5, \"pct_cases\": 0.11904761904761904}, {\"value\": \"I-eve\", \"prediction\": \"I-geo\", \"num_cases\": 5, \"pct_cases\": 0.025380710659898477}, {\"value\": \"I-tim\", \"prediction\": \"B-art\", \"num_cases\": 5, \"pct_cases\": 0.0009551098376313276}, {\"value\": \"B-per\", \"prediction\": \"I-eve\", \"num_cases\": 5, \"pct_cases\": 0.0003652034183039953}, {\"value\": \"B-org\", \"prediction\": \"B-eve\", \"num_cases\": 4, \"pct_cases\": 0.0002497034771209189}, {\"value\": \"I-nat\", \"prediction\": \"O\", \"num_cases\": 4, \"pct_cases\": 0.09523809523809523}, {\"value\": \"B-nat\", \"prediction\": \"B-art\", \"num_cases\": 4, \"pct_cases\": 0.022857142857142857}, {\"value\": \"B-geo\", \"prediction\": \"B-nat\", \"num_cases\": 4, \"pct_cases\": 0.0001328285847114299}, {\"value\": \"I-gpe\", \"prediction\": \"B-org\", \"num_cases\": 3, \"pct_cases\": 0.019867549668874173}, {\"value\": \"I-per\", \"prediction\": \"B-art\", \"num_cases\": 3, \"pct_cases\": 0.00021691973969631235}, {\"value\": \"I-gpe\", \"prediction\": \"I-gpe\", \"num_cases\": 3, \"pct_cases\": 0.019867549668874173}, {\"value\": \"B-eve\", \"prediction\": \"I-per\", \"num_cases\": 3, \"pct_cases\": 0.012345679012345678}, {\"value\": \"I-eve\", \"prediction\": \"I-eve\", \"num_cases\": 3, \"pct_cases\": 0.015228426395939087}, {\"value\": \"I-tim\", \"prediction\": \"B-gpe\", \"num_cases\": 3, \"pct_cases\": 0.0005730659025787965}, {\"value\": \"I-geo\", \"prediction\": \"B-art\", \"num_cases\": 2, \"pct_cases\": 0.000336870473303015}, {\"value\": \"B-nat\", \"prediction\": \"I-eve\", \"num_cases\": 2, \"pct_cases\": 0.011428571428571429}, {\"value\": \"I-org\", \"prediction\": \"B-nat\", \"num_cases\": 2, \"pct_cases\": 0.00015059106994955198}, {\"value\": \"B-tim\", \"prediction\": \"B-gpe\", \"num_cases\": 2, \"pct_cases\": 0.00012398487384539087}, {\"value\": \"I-eve\", \"prediction\": \"B-per\", \"num_cases\": 2, \"pct_cases\": 0.01015228426395939}, {\"value\": \"B-per\", \"prediction\": \"B-eve\", \"num_cases\": 2, \"pct_cases\": 0.00014608136732159813}, {\"value\": \"I-gpe\", \"prediction\": \"B-gpe\", \"num_cases\": 2, \"pct_cases\": 0.013245033112582781}, {\"value\": \"I-art\", \"prediction\": \"B-org\", \"num_cases\": 2, \"pct_cases\": 0.00904977375565611}, {\"value\": \"I-eve\", \"prediction\": \"B-org\", \"num_cases\": 2, \"pct_cases\": 0.01015228426395939}, {\"value\": \"B-geo\", \"prediction\": \"B-eve\", \"num_cases\": 2, \"pct_cases\": 6.641429235571495e-05}, {\"value\": \"B-geo\", \"prediction\": \"I-eve\", \"num_cases\": 2, \"pct_cases\": 6.641429235571495e-05}, {\"value\": \"O\", \"prediction\": \"I-gpe\", \"num_cases\": 2, \"pct_cases\": 2.820452795491788e-06}, {\"value\": \"I-nat\", \"prediction\": \"I-per\", \"num_cases\": 2, \"pct_cases\": 0.047619047619047616}, {\"value\": \"B-gpe\", \"prediction\": \"I-art\", \"num_cases\": 2, \"pct_cases\": 0.0001581152660289351}, {\"value\": \"B-org\", \"prediction\": \"I-eve\", \"num_cases\": 2, \"pct_cases\": 0.00012485173856045944}, {\"value\": \"I-org\", \"prediction\": \"B-gpe\", \"num_cases\": 1, \"pct_cases\": 7.529553497477599e-05}, {\"value\": \"I-art\", \"prediction\": \"B-art\", \"num_cases\": 1, \"pct_cases\": 0.004524886877828055}, {\"value\": \"I-geo\", \"prediction\": \"B-eve\", \"num_cases\": 1, \"pct_cases\": 0.0001684352366515075}, {\"value\": \"I-art\", \"prediction\": \"B-per\", \"num_cases\": 1, \"pct_cases\": 0.004524886877828055}, {\"value\": \"B-nat\", \"prediction\": \"B-tim\", \"num_cases\": 1, \"pct_cases\": 0.005714285714285714}, {\"value\": \"I-art\", \"prediction\": \"B-geo\", \"num_cases\": 1, \"pct_cases\": 0.004524886877828055}, {\"value\": \"I-org\", \"prediction\": \"B-eve\", \"num_cases\": 1, \"pct_cases\": 7.529553497477599e-05}, {\"value\": \"I-art\", \"prediction\": \"B-tim\", \"num_cases\": 1, \"pct_cases\": 0.004524886877828055}, {\"value\": \"B-eve\", \"prediction\": \"I-art\", \"num_cases\": 1, \"pct_cases\": 0.00411522633744856}, {\"value\": \"I-org\", \"prediction\": \"I-nat\", \"num_cases\": 1, \"pct_cases\": 7.529553497477599e-05}, {\"value\": \"B-geo\", \"prediction\": \"I-nat\", \"num_cases\": 1, \"pct_cases\": 3.320714617785747e-05}, {\"value\": \"B-art\", \"prediction\": \"I-per\", \"num_cases\": 1, \"pct_cases\": 0.0031545741324921135}, {\"value\": \"B-art\", \"prediction\": \"B-gpe\", \"num_cases\": 1, \"pct_cases\": 0.0031545741324921135}, {\"value\": \"B-art\", \"prediction\": \"I-art\", \"num_cases\": 1, \"pct_cases\": 0.0031545741324921135}, {\"value\": \"I-eve\", \"prediction\": \"B-tim\", \"num_cases\": 1, \"pct_cases\": 0.005076142131979695}, {\"value\": \"B-eve\", \"prediction\": \"I-geo\", \"num_cases\": 1, \"pct_cases\": 0.00411522633744856}, {\"value\": \"B-gpe\", \"prediction\": \"B-nat\", \"num_cases\": 1, \"pct_cases\": 7.905763301446754e-05}, {\"value\": \"B-gpe\", \"prediction\": \"B-eve\", \"num_cases\": 1, \"pct_cases\": 7.905763301446754e-05}, {\"value\": \"B-art\", \"prediction\": \"I-geo\", \"num_cases\": 1, \"pct_cases\": 0.0031545741324921135}, {\"value\": \"I-nat\", \"prediction\": \"I-tim\", \"num_cases\": 1, \"pct_cases\": 0.023809523809523808}, {\"value\": \"I-per\", \"prediction\": \"I-eve\", \"num_cases\": 1, \"pct_cases\": 7.230657989877079e-05}, {\"value\": \"I-tim\", \"prediction\": \"I-eve\", \"num_cases\": 1, \"pct_cases\": 0.00019102196752626553}]}}, {\"mode\": \"vega-lite\"});\n",
       "</script>"
      ],
      "text/plain": [
       "alt.Chart(...)"
      ]
     },
     "metadata": {},
     "output_type": "display_data"
    }
   ],
   "source": [
    "# Evaluate test dataset\n",
    "eval_test_features = evaluate_corpus(test_seq.seq_list, pred_test_features, test_seq.y_dict, ignore_tag_code=O_value)"
   ]
  },
  {
   "cell_type": "markdown",
   "metadata": {},
   "source": [
    "## Run the \"tiny test\""
   ]
  },
  {
   "cell_type": "code",
   "execution_count": 40,
   "metadata": {},
   "outputs": [],
   "source": [
    "tiny_predictions = []\n",
    "tiny_predictions_features = []\n",
    "\n",
    "for tiny_sentence in tiny_test:\n",
    "    tiny_seq = skseq.sequences.sequence.Sequence(x=tiny_sentence.split(), y=[int(0) for w in tiny_sentence.split()])\n",
    "    tiny_predictions.append(sp.viterbi_decode(tiny_seq)[0].to_words(train_seq, only_tag_translation=True))\n",
    "    tiny_predictions_features.append(sp_features.viterbi_decode(tiny_seq)[0].to_words(train_seq, only_tag_translation=True))"
   ]
  },
  {
   "cell_type": "code",
   "execution_count": 41,
   "metadata": {},
   "outputs": [
    {
     "name": "stdout",
     "output_type": "stream",
     "text": [
      "The/O programmers/O from/O Barcelona/B-geo might/O write/O a/O sentence/O without/O a/O spell/O checker/O ./O \n",
      "The/O programmers/O from/O Barchelona/O cannot/O write/O a/O sentence/O without/O a/O spell/O checker/O ./O \n",
      "Jack/B-per London/B-geo went/O to/O Parris/O ./O \n",
      "Jack/B-per London/B-geo went/O to/O Paris/B-geo ./O \n",
      "Bill/B-per gates/O and/O Steve/B-per jobs/O never/O though/O Microsoft/B-org would/O become/O such/O a/O big/O company/O ./O \n",
      "Bill/B-per Gates/I-per and/O Steve/B-per Jobs/I-per never/O though/O Microsof/O would/O become/O such/O a/O big/O company/O ./O \n",
      "The/O president/O of/O U.S.A/O though/O they/O could/O win/O the/O war/O ./O \n",
      "The/O president/O of/O the/O United/B-geo States/I-geo of/O America/B-geo though/O they/O could/O win/O the/O war/O ./O \n",
      "The/O king/O of/O Saudi/B-geo Arabia/I-geo wanted/O total/O control/O ./O \n",
      "Robin/O does/O not/O want/O to/O go/O to/O Saudi/B-org Arabia/I-org ./O \n",
      "Apple/O is/O a/O great/O company/O ./O \n",
      "I/O really/O love/O apples/O and/O oranges/O ./O \n",
      "Alice/O and/O Henry/B-per went/O to/O the/O Microsoft/B-org store/O to/O buy/O a/O new/O computer/O during/O their/O trip/O to/O New/B-geo York/I-geo ./O \n"
     ]
    }
   ],
   "source": [
    "for tiny_prediction in tiny_predictions:\n",
    "    print(tiny_prediction)"
   ]
  },
  {
   "cell_type": "code",
   "execution_count": 42,
   "metadata": {},
   "outputs": [
    {
     "name": "stdout",
     "output_type": "stream",
     "text": [
      "The/O programmers/O from/O Barcelona/B-org might/O write/O a/O sentence/O without/O a/O spell/B-tim checker/I-tim ./O \n",
      "The/O programmers/O from/O Barchelona/B-geo cannot/O write/O a/O sentence/O without/O a/O spell/B-tim checker/I-tim ./O \n",
      "Jack/B-per London/B-geo went/O to/O Parris/B-per ./O \n",
      "Jack/B-per London/B-geo went/O to/O Paris/B-geo ./O \n",
      "Bill/B-per gates/O and/O Steve/B-per jobs/O never/O though/O Microsoft/B-org would/O become/O such/O a/O big/O company/O ./O \n",
      "Bill/B-per Gates/I-per and/O Steve/B-per Jobs/I-per never/O though/O Microsof/B-art would/O become/O such/O a/O big/O company/O ./O \n",
      "The/O president/O of/O U.S.A/B-geo though/O they/O could/O win/O the/O war/O ./O \n",
      "The/O president/O of/O the/O United/B-org States/I-org of/I-org America/I-org though/O they/O could/O win/O the/O war/O ./O \n",
      "The/O king/O of/O Saudi/B-org Arabia/I-org wanted/O total/O control/O ./O \n",
      "Robin/B-per does/O not/O want/O to/O go/O to/O Saudi/B-org Arabia/I-org ./O \n",
      "Apple/B-per is/O a/O great/O company/O ./O \n",
      "I/O really/O love/O apples/O and/O oranges/O ./O \n",
      "Alice/B-per and/I-per Henry/I-per went/O to/O the/O Microsoft/B-org store/O to/O buy/O a/O new/O computer/O during/O their/O trip/O to/O New/B-org York/I-org ./O \n"
     ]
    }
   ],
   "source": [
    "for tiny_prediction in tiny_predictions_features:\n",
    "    print(tiny_prediction)"
   ]
  },
  {
   "cell_type": "code",
   "execution_count": null,
   "metadata": {},
   "outputs": [],
   "source": []
  }
 ],
 "metadata": {
  "kernelspec": {
   "display_name": "Python 3 (ipykernel)",
   "language": "python",
   "name": "python3"
  },
  "language_info": {
   "codemirror_mode": {
    "name": "ipython",
    "version": 3
   },
   "file_extension": ".py",
   "mimetype": "text/x-python",
   "name": "python",
   "nbconvert_exporter": "python",
   "pygments_lexer": "ipython3",
   "version": "3.8.13"
  },
  "toc": {
   "base_numbering": 1,
   "nav_menu": {},
   "number_sections": true,
   "sideBar": true,
   "skip_h1_title": false,
   "title_cell": "Table of Contents",
   "title_sidebar": "Contents",
   "toc_cell": false,
   "toc_position": {},
   "toc_section_display": true,
   "toc_window_display": false
  }
 },
 "nbformat": 4,
 "nbformat_minor": 4
}
