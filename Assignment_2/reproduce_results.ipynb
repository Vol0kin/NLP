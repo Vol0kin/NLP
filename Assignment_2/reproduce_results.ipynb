{
 "cells": [
  {
   "cell_type": "markdown",
   "metadata": {},
   "source": [
    "### Imports"
   ]
  },
  {
   "cell_type": "code",
   "execution_count": 1,
   "metadata": {
    "ExecuteTime": {
     "end_time": "2020-05-12T14:44:48.896179Z",
     "start_time": "2020-05-12T14:44:48.649812Z"
    }
   },
   "outputs": [],
   "source": [
    "%matplotlib inline\n",
    "%load_ext autoreload\n",
    "%autoreload 2"
   ]
  },
  {
   "cell_type": "code",
   "execution_count": 2,
   "metadata": {
    "ExecuteTime": {
     "end_time": "2020-05-12T14:44:49.049052Z",
     "start_time": "2020-05-12T14:44:48.998738Z"
    }
   },
   "outputs": [],
   "source": [
    "import scipy\n",
    "import numpy as np\n",
    "import pandas as pd\n",
    "import os,sys,inspect"
   ]
  },
  {
   "cell_type": "code",
   "execution_count": 3,
   "metadata": {
    "ExecuteTime": {
     "end_time": "2020-05-12T14:44:49.173923Z",
     "start_time": "2020-05-12T14:44:49.148685Z"
    }
   },
   "outputs": [],
   "source": [
    "# The skseq library must be previously installed. Here we assume it is in '../skseq'\n",
    "sys.path.insert(0,'../') \n",
    "import skseq\n",
    "\n",
    "from skseq.sequences.sequence import Sequence\n",
    "from skseq.sequences.sequence_list import SequenceList\n",
    "\n",
    "from skseq.sequences.label_dictionary import LabelDictionary\n",
    "\n",
    "import skseq.sequences.structured_perceptron as spc"
   ]
  },
  {
   "cell_type": "code",
   "execution_count": 26,
   "metadata": {},
   "outputs": [],
   "source": [
    "from utils.utils import build_sequence_list, evaluate_corpus"
   ]
  },
  {
   "cell_type": "markdown",
   "metadata": {},
   "source": [
    "### Load data"
   ]
  },
  {
   "cell_type": "code",
   "execution_count": 5,
   "metadata": {},
   "outputs": [
    {
     "name": "stdout",
     "output_type": "stream",
     "text": [
      "(839149, 3)\n"
     ]
    }
   ],
   "source": [
    "df_train = pd.read_csv('data/train_data_ner.csv')\n",
    "print(df_train.shape)"
   ]
  },
  {
   "cell_type": "code",
   "execution_count": 6,
   "metadata": {},
   "outputs": [
    {
     "name": "stdout",
     "output_type": "stream",
     "text": [
      "(837339, 3)\n"
     ]
    },
    {
     "data": {
      "text/html": [
       "<div>\n",
       "<style scoped>\n",
       "    .dataframe tbody tr th:only-of-type {\n",
       "        vertical-align: middle;\n",
       "    }\n",
       "\n",
       "    .dataframe tbody tr th {\n",
       "        vertical-align: top;\n",
       "    }\n",
       "\n",
       "    .dataframe thead th {\n",
       "        text-align: right;\n",
       "    }\n",
       "</style>\n",
       "<table border=\"1\" class=\"dataframe\">\n",
       "  <thead>\n",
       "    <tr style=\"text-align: right;\">\n",
       "      <th></th>\n",
       "      <th>sentence_id</th>\n",
       "      <th>words</th>\n",
       "      <th>tags</th>\n",
       "    </tr>\n",
       "  </thead>\n",
       "  <tbody>\n",
       "    <tr>\n",
       "      <th>0</th>\n",
       "      <td>1</td>\n",
       "      <td>Iranian</td>\n",
       "      <td>B-gpe</td>\n",
       "    </tr>\n",
       "    <tr>\n",
       "      <th>1</th>\n",
       "      <td>1</td>\n",
       "      <td>officials</td>\n",
       "      <td>O</td>\n",
       "    </tr>\n",
       "    <tr>\n",
       "      <th>2</th>\n",
       "      <td>1</td>\n",
       "      <td>say</td>\n",
       "      <td>O</td>\n",
       "    </tr>\n",
       "    <tr>\n",
       "      <th>3</th>\n",
       "      <td>1</td>\n",
       "      <td>they</td>\n",
       "      <td>O</td>\n",
       "    </tr>\n",
       "    <tr>\n",
       "      <th>4</th>\n",
       "      <td>1</td>\n",
       "      <td>expect</td>\n",
       "      <td>O</td>\n",
       "    </tr>\n",
       "  </tbody>\n",
       "</table>\n",
       "</div>"
      ],
      "text/plain": [
       "   sentence_id      words   tags\n",
       "0            1    Iranian  B-gpe\n",
       "1            1  officials      O\n",
       "2            1        say      O\n",
       "3            1       they      O\n",
       "4            1     expect      O"
      ]
     },
     "execution_count": 6,
     "metadata": {},
     "output_type": "execute_result"
    }
   ],
   "source": [
    "df_test = pd.read_csv('data/test_data_ner.csv')\n",
    "print(df_test.shape)\n",
    "df_test.head(5)"
   ]
  },
  {
   "cell_type": "markdown",
   "metadata": {},
   "source": [
    "### Dictionaries"
   ]
  },
  {
   "cell_type": "code",
   "execution_count": 7,
   "metadata": {},
   "outputs": [
    {
     "name": "stdout",
     "output_type": "stream",
     "text": [
      "Number of distinct tags: 17\n"
     ]
    },
    {
     "data": {
      "text/plain": [
       "{'O': 0,\n",
       " 'I-eve': 1,\n",
       " 'B-gpe': 2,\n",
       " 'I-per': 3,\n",
       " 'B-nat': 4,\n",
       " 'I-art': 5,\n",
       " 'B-tim': 6,\n",
       " 'B-per': 7,\n",
       " 'I-gpe': 8,\n",
       " 'I-geo': 9,\n",
       " 'B-art': 10,\n",
       " 'I-tim': 11,\n",
       " 'I-org': 12,\n",
       " 'I-nat': 13,\n",
       " 'B-geo': 14,\n",
       " 'B-eve': 15,\n",
       " 'B-org': 16}"
      ]
     },
     "execution_count": 7,
     "metadata": {},
     "output_type": "execute_result"
    }
   ],
   "source": [
    "# We assume that the training data includes all possible tags that may exist (17 tags)\n",
    "\n",
    "tag_dict = LabelDictionary(label_names=set(df_train.tags))\n",
    "print('Number of distinct tags:', len(tag_dict))\n",
    "tag_dict"
   ]
  },
  {
   "cell_type": "code",
   "execution_count": 8,
   "metadata": {},
   "outputs": [
    {
     "name": "stdout",
     "output_type": "stream",
     "text": [
      "Number of distinct words in train set:  31979\n"
     ]
    }
   ],
   "source": [
    "# Generate dictionary of words for training dataset\n",
    "word_dict_train = LabelDictionary(label_names=set(df_train.words))\n",
    "print('Number of distinct words in train set: ', len(word_dict_train))"
   ]
  },
  {
   "cell_type": "code",
   "execution_count": 9,
   "metadata": {},
   "outputs": [
    {
     "name": "stdout",
     "output_type": "stream",
     "text": [
      "Number of distinct words in test set:  43955\n"
     ]
    }
   ],
   "source": [
    "# Generate dictionary of words for test dataset\n",
    "word_dict_test = LabelDictionary(label_names=set(df_test.words))\n",
    "print('Number of distinct words in test set: ', len(word_dict_test))"
   ]
  },
  {
   "cell_type": "markdown",
   "metadata": {},
   "source": [
    "### Build train_seq and test_seq"
   ]
  },
  {
   "cell_type": "code",
   "execution_count": 10,
   "metadata": {},
   "outputs": [
    {
     "name": "stdout",
     "output_type": "stream",
     "text": [
      "CPU times: user 2min 39s, sys: 122 ms, total: 2min 39s\n",
      "Wall time: 2min 39s\n"
     ]
    }
   ],
   "source": [
    "%%time\n",
    "\n",
    "# Build sequence_list object with train data\n",
    "\n",
    "train_seq = build_sequence_list(df_train, word_dict_train, tag_dict)"
   ]
  },
  {
   "cell_type": "code",
   "execution_count": 27,
   "metadata": {},
   "outputs": [
    {
     "name": "stdout",
     "output_type": "stream",
     "text": [
      "CPU times: user 2min 43s, sys: 173 ms, total: 2min 43s\n",
      "Wall time: 2min 43s\n"
     ]
    }
   ],
   "source": [
    "%%time\n",
    "\n",
    "# Build sequence_list object with test data\n",
    "\n",
    "test_seq = build_sequence_list(df_test, word_dict_test, tag_dict, use_labels=True)"
   ]
  },
  {
   "cell_type": "code",
   "execution_count": 14,
   "metadata": {
    "ExecuteTime": {
     "end_time": "2020-05-12T14:45:00.787327Z",
     "start_time": "2020-05-12T14:45:00.771264Z"
    }
   },
   "outputs": [
    {
     "data": {
      "text/plain": [
       "(38366, 38367)"
      ]
     },
     "execution_count": 14,
     "metadata": {},
     "output_type": "execute_result"
    }
   ],
   "source": [
    "# Number of sequences in train and test\n",
    "len(train_seq), len(test_seq)"
   ]
  },
  {
   "cell_type": "code",
   "execution_count": 16,
   "metadata": {
    "ExecuteTime": {
     "end_time": "2020-05-12T14:45:01.866931Z",
     "start_time": "2020-05-12T14:45:01.851802Z"
    }
   },
   "outputs": [
    {
     "data": {
      "text/plain": [
       "(31979, 43955)"
      ]
     },
     "execution_count": 16,
     "metadata": {},
     "output_type": "execute_result"
    }
   ],
   "source": [
    "# vocabulary size\n",
    "len(train_seq.x_dict), len(test_seq.x_dict)"
   ]
  },
  {
   "cell_type": "code",
   "execution_count": 17,
   "metadata": {},
   "outputs": [
    {
     "data": {
      "text/plain": [
       "12142/0 28556/0 5660/0 7854/0 14055/0 3385/0 27303/14 23848/0 7139/0 28734/0 24420/0 13700/0 5542/14 9704/0 6598/0 28734/0 2307/0 28556/0 9970/2 28475/0 29349/0 23129/0 7537/0 1028/0 "
      ]
     },
     "execution_count": 17,
     "metadata": {},
     "output_type": "execute_result"
    }
   ],
   "source": [
    "train_seq[0]"
   ]
  },
  {
   "cell_type": "code",
   "execution_count": 18,
   "metadata": {},
   "outputs": [
    {
     "data": {
      "text/plain": [
       "'Thousands/O of/O demonstrators/O have/O marched/O through/O London/B-geo to/O protest/O the/O war/O in/O Iraq/B-geo and/O demand/O the/O withdrawal/O of/O British/B-gpe troops/O from/O that/O country/O ./O '"
      ]
     },
     "execution_count": 18,
     "metadata": {},
     "output_type": "execute_result"
    }
   ],
   "source": [
    "train_seq[0].to_words(sequence_list=train_seq)"
   ]
  },
  {
   "cell_type": "markdown",
   "metadata": {},
   "source": [
    "### Get feature mapper (from training data)"
   ]
  },
  {
   "cell_type": "code",
   "execution_count": 19,
   "metadata": {},
   "outputs": [],
   "source": [
    "feature_mapper = skseq.sequences.id_feature.IDFeatures(train_seq)\n",
    "feature_mapper.build_features()"
   ]
  },
  {
   "cell_type": "markdown",
   "metadata": {},
   "source": [
    "### Load saved model"
   ]
  },
  {
   "cell_type": "code",
   "execution_count": 20,
   "metadata": {},
   "outputs": [],
   "source": [
    "sp = spc.StructuredPerceptron(word_dict_train, tag_dict, feature_mapper)"
   ]
  },
  {
   "cell_type": "code",
   "execution_count": 21,
   "metadata": {},
   "outputs": [],
   "source": [
    "sp.load_model(dir=\"fitted_models/model1\")"
   ]
  },
  {
   "cell_type": "markdown",
   "metadata": {},
   "source": [
    "## Evaluate model"
   ]
  },
  {
   "cell_type": "code",
   "execution_count": 22,
   "metadata": {},
   "outputs": [
    {
     "name": "stdout",
     "output_type": "stream",
     "text": [
      "CPU times: user 4min 57s, sys: 626 ms, total: 4min 58s\n",
      "Wall time: 4min 58s\n"
     ]
    }
   ],
   "source": [
    "%%time\n",
    "pred_train = sp.viterbi_decode_corpus(train_seq)"
   ]
  },
  {
   "cell_type": "code",
   "execution_count": 28,
   "metadata": {},
   "outputs": [
    {
     "name": "stdout",
     "output_type": "stream",
     "text": [
      "CPU times: user 4min 55s, sys: 497 ms, total: 4min 56s\n",
      "Wall time: 4min 56s\n"
     ]
    }
   ],
   "source": [
    "%%time\n",
    "pred_test = sp.viterbi_decode_corpus(test_seq)"
   ]
  },
  {
   "cell_type": "code",
   "execution_count": 24,
   "metadata": {},
   "outputs": [
    {
     "name": "stdout",
     "output_type": "stream",
     "text": [
      "Accuracy: 0.963\n",
      "Weighted F1 score: 0.963\n",
      "Accuracy (ignore tag excluded): 0.806\n",
      "Weighted F1 score (ignore tag excluded): 0.840\n"
     ]
    },
    {
     "data": {
      "text/html": [
       "\n",
       "<div id=\"altair-viz-d3bcb1e780f44043b131e51ce59f7c83\"></div>\n",
       "<script type=\"text/javascript\">\n",
       "  var VEGA_DEBUG = (typeof VEGA_DEBUG == \"undefined\") ? {} : VEGA_DEBUG;\n",
       "  (function(spec, embedOpt){\n",
       "    let outputDiv = document.currentScript.previousElementSibling;\n",
       "    if (outputDiv.id !== \"altair-viz-d3bcb1e780f44043b131e51ce59f7c83\") {\n",
       "      outputDiv = document.getElementById(\"altair-viz-d3bcb1e780f44043b131e51ce59f7c83\");\n",
       "    }\n",
       "    const paths = {\n",
       "      \"vega\": \"https://cdn.jsdelivr.net/npm//vega@5?noext\",\n",
       "      \"vega-lib\": \"https://cdn.jsdelivr.net/npm//vega-lib?noext\",\n",
       "      \"vega-lite\": \"https://cdn.jsdelivr.net/npm//vega-lite@4.17.0?noext\",\n",
       "      \"vega-embed\": \"https://cdn.jsdelivr.net/npm//vega-embed@6?noext\",\n",
       "    };\n",
       "\n",
       "    function maybeLoadScript(lib, version) {\n",
       "      var key = `${lib.replace(\"-\", \"\")}_version`;\n",
       "      return (VEGA_DEBUG[key] == version) ?\n",
       "        Promise.resolve(paths[lib]) :\n",
       "        new Promise(function(resolve, reject) {\n",
       "          var s = document.createElement('script');\n",
       "          document.getElementsByTagName(\"head\")[0].appendChild(s);\n",
       "          s.async = true;\n",
       "          s.onload = () => {\n",
       "            VEGA_DEBUG[key] = version;\n",
       "            return resolve(paths[lib]);\n",
       "          };\n",
       "          s.onerror = () => reject(`Error loading script: ${paths[lib]}`);\n",
       "          s.src = paths[lib];\n",
       "        });\n",
       "    }\n",
       "\n",
       "    function showError(err) {\n",
       "      outputDiv.innerHTML = `<div class=\"error\" style=\"color:red;\">${err}</div>`;\n",
       "      throw err;\n",
       "    }\n",
       "\n",
       "    function displayChart(vegaEmbed) {\n",
       "      vegaEmbed(outputDiv, spec, embedOpt)\n",
       "        .catch(err => showError(`Javascript Error: ${err.message}<br>This usually means there's a typo in your chart specification. See the javascript console for the full traceback.`));\n",
       "    }\n",
       "\n",
       "    if(typeof define === \"function\" && define.amd) {\n",
       "      requirejs.config({paths});\n",
       "      require([\"vega-embed\"], displayChart, err => showError(`Error loading script: ${err.message}`));\n",
       "    } else {\n",
       "      maybeLoadScript(\"vega\", \"5\")\n",
       "        .then(() => maybeLoadScript(\"vega-lite\", \"4.17.0\"))\n",
       "        .then(() => maybeLoadScript(\"vega-embed\", \"6\"))\n",
       "        .catch(showError)\n",
       "        .then(() => displayChart(vegaEmbed));\n",
       "    }\n",
       "  })({\"config\": {\"view\": {\"continuousWidth\": 400, \"continuousHeight\": 300}}, \"data\": {\"name\": \"data-6ca35d99030d22b348cb687c950b5f1a\"}, \"mark\": \"circle\", \"encoding\": {\"color\": {\"field\": \"pct_cases\", \"scale\": {\"domain\": [0, 1], \"scheme\": \"redblue\"}, \"type\": \"quantitative\"}, \"size\": {\"field\": \"pct_cases\", \"legend\": {\"title\": \"Percentage of words\"}, \"scale\": {\"domain\": [0, 1]}, \"type\": \"quantitative\"}, \"tooltip\": [{\"field\": \"value\", \"type\": \"nominal\"}, {\"field\": \"prediction\", \"type\": \"nominal\"}, {\"field\": \"pct_cases\", \"format\": \".2%\", \"type\": \"quantitative\"}, {\"field\": \"num_cases\", \"type\": \"quantitative\"}], \"x\": {\"field\": \"prediction\", \"type\": \"ordinal\"}, \"y\": {\"field\": \"value\", \"type\": \"ordinal\"}}, \"$schema\": \"https://vega.github.io/schema/vega-lite/v4.17.0.json\", \"datasets\": {\"data-6ca35d99030d22b348cb687c950b5f1a\": [{\"value\": \"O\", \"prediction\": \"O\", \"num_cases\": 704541, \"pct_cases\": 0.9917650983754017}, {\"value\": \"B-geo\", \"prediction\": \"B-geo\", \"num_cases\": 26182, \"pct_cases\": 0.8694583734599675}, {\"value\": \"B-tim\", \"prediction\": \"B-tim\", \"num_cases\": 12322, \"pct_cases\": 0.755163326591898}, {\"value\": \"B-org\", \"prediction\": \"B-org\", \"num_cases\": 11601, \"pct_cases\": 0.7193526384324425}, {\"value\": \"B-per\", \"prediction\": \"B-per\", \"num_cases\": 11542, \"pct_cases\": 0.8506780660377359}, {\"value\": \"B-gpe\", \"prediction\": \"B-gpe\", \"num_cases\": 11496, \"pct_cases\": 0.9024256221053458}, {\"value\": \"I-per\", \"prediction\": \"I-per\", \"num_cases\": 11432, \"pct_cases\": 0.825713253882268}, {\"value\": \"I-org\", \"prediction\": \"I-org\", \"num_cases\": 10328, \"pct_cases\": 0.7635664645867218}, {\"value\": \"I-geo\", \"prediction\": \"I-geo\", \"num_cases\": 4399, \"pct_cases\": 0.7458460495083079}, {\"value\": \"I-tim\", \"prediction\": \"I-tim\", \"num_cases\": 3965, \"pct_cases\": 0.7540890072270825}, {\"value\": \"B-tim\", \"prediction\": \"O\", \"num_cases\": 2974, \"pct_cases\": 0.18226389654961084}, {\"value\": \"B-org\", \"prediction\": \"B-geo\", \"num_cases\": 2141, \"pct_cases\": 0.13275872759967755}, {\"value\": \"B-geo\", \"prediction\": \"O\", \"num_cases\": 1734, \"pct_cases\": 0.05758310364294491}, {\"value\": \"I-org\", \"prediction\": \"O\", \"num_cases\": 1470, \"pct_cases\": 0.10867958006801715}, {\"value\": \"B-org\", \"prediction\": \"O\", \"num_cases\": 1442, \"pct_cases\": 0.08941526632355677}, {\"value\": \"B-geo\", \"prediction\": \"B-org\", \"num_cases\": 1241, \"pct_cases\": 0.04121143692093116}, {\"value\": \"O\", \"prediction\": \"B-org\", \"num_cases\": 1239, \"pct_cases\": 0.0017441099338251752}, {\"value\": \"O\", \"prediction\": \"I-org\", \"num_cases\": 1180, \"pct_cases\": 0.0016610570798335001}, {\"value\": \"I-tim\", \"prediction\": \"O\", \"num_cases\": 956, \"pct_cases\": 0.18181818181818182}, {\"value\": \"B-per\", \"prediction\": \"O\", \"num_cases\": 848, \"pct_cases\": 0.0625}, {\"value\": \"O\", \"prediction\": \"B-tim\", \"num_cases\": 810, \"pct_cases\": 0.001140217148021301}, {\"value\": \"O\", \"prediction\": \"I-tim\", \"num_cases\": 793, \"pct_cases\": 0.0011162866646677674}, {\"value\": \"O\", \"prediction\": \"B-per\", \"num_cases\": 767, \"pct_cases\": 0.0010796871018917751}, {\"value\": \"I-per\", \"prediction\": \"B-per\", \"num_cases\": 761, \"pct_cases\": 0.0549656915854099}, {\"value\": \"B-tim\", \"prediction\": \"I-tim\", \"num_cases\": 728, \"pct_cases\": 0.04461604461604462}, {\"value\": \"I-org\", \"prediction\": \"B-org\", \"num_cases\": 723, \"pct_cases\": 0.05345260978855537}, {\"value\": \"I-per\", \"prediction\": \"O\", \"num_cases\": 717, \"pct_cases\": 0.051787648970747564}, {\"value\": \"O\", \"prediction\": \"B-geo\", \"num_cases\": 711, \"pct_cases\": 0.001000857274374253}, {\"value\": \"B-gpe\", \"prediction\": \"B-geo\", \"num_cases\": 615, \"pct_cases\": 0.04827694481513463}, {\"value\": \"I-geo\", \"prediction\": \"I-org\", \"num_cases\": 580, \"pct_cases\": 0.09833841980332315}, {\"value\": \"B-per\", \"prediction\": \"B-org\", \"num_cases\": 530, \"pct_cases\": 0.0390625}, {\"value\": \"I-per\", \"prediction\": \"I-org\", \"num_cases\": 485, \"pct_cases\": 0.03503069700252799}, {\"value\": \"I-geo\", \"prediction\": \"B-geo\", \"num_cases\": 423, \"pct_cases\": 0.07171922685656154}, {\"value\": \"B-geo\", \"prediction\": \"B-per\", \"num_cases\": 416, \"pct_cases\": 0.013814631554478133}, {\"value\": \"B-org\", \"prediction\": \"B-per\", \"num_cases\": 358, \"pct_cases\": 0.0221987970484281}, {\"value\": \"B-per\", \"prediction\": \"B-geo\", \"num_cases\": 352, \"pct_cases\": 0.025943396226415096}, {\"value\": \"I-org\", \"prediction\": \"I-geo\", \"num_cases\": 328, \"pct_cases\": 0.024249593375720833}, {\"value\": \"I-geo\", \"prediction\": \"O\", \"num_cases\": 307, \"pct_cases\": 0.05205154289589691}, {\"value\": \"B-gpe\", \"prediction\": \"B-org\", \"num_cases\": 275, \"pct_cases\": 0.021587251746604915}, {\"value\": \"I-org\", \"prediction\": \"B-geo\", \"num_cases\": 272, \"pct_cases\": 0.020109418896939228}, {\"value\": \"B-org\", \"prediction\": \"I-org\", \"num_cases\": 235, \"pct_cases\": 0.01457183605134247}, {\"value\": \"I-tim\", \"prediction\": \"B-tim\", \"num_cases\": 227, \"pct_cases\": 0.04317230886268543}, {\"value\": \"B-gpe\", \"prediction\": \"O\", \"num_cases\": 221, \"pct_cases\": 0.017348300494544312}, {\"value\": \"I-org\", \"prediction\": \"I-per\", \"num_cases\": 220, \"pct_cases\": 0.016264971166642023}, {\"value\": \"B-geo\", \"prediction\": \"I-geo\", \"num_cases\": 209, \"pct_cases\": 0.0069405240261681}, {\"value\": \"B-org\", \"prediction\": \"I-per\", \"num_cases\": 199, \"pct_cases\": 0.012339554783902772}, {\"value\": \"I-per\", \"prediction\": \"B-geo\", \"num_cases\": 181, \"pct_cases\": 0.01307331166486096}, {\"value\": \"B-per\", \"prediction\": \"I-per\", \"num_cases\": 167, \"pct_cases\": 0.012308372641509434}, {\"value\": \"I-per\", \"prediction\": \"I-geo\", \"num_cases\": 133, \"pct_cases\": 0.009606356085229325}, {\"value\": \"B-tim\", \"prediction\": \"B-geo\", \"num_cases\": 132, \"pct_cases\": 0.008089722375436662}, {\"value\": \"I-org\", \"prediction\": \"B-per\", \"num_cases\": 115, \"pct_cases\": 0.008502144018926511}, {\"value\": \"B-art\", \"prediction\": \"O\", \"num_cases\": 114, \"pct_cases\": 0.3630573248407643}, {\"value\": \"I-geo\", \"prediction\": \"I-per\", \"num_cases\": 112, \"pct_cases\": 0.018989487962021025}, {\"value\": \"B-tim\", \"prediction\": \"B-org\", \"num_cases\": 112, \"pct_cases\": 0.006864006864006864}, {\"value\": \"B-eve\", \"prediction\": \"B-eve\", \"num_cases\": 103, \"pct_cases\": 0.42213114754098363}, {\"value\": \"B-geo\", \"prediction\": \"B-tim\", \"num_cases\": 98, \"pct_cases\": 0.003254408395045329}, {\"value\": \"B-per\", \"prediction\": \"I-org\", \"num_cases\": 93, \"pct_cases\": 0.00685436320754717}, {\"value\": \"B-geo\", \"prediction\": \"I-per\", \"num_cases\": 88, \"pct_cases\": 0.0029223259057549896}, {\"value\": \"I-gpe\", \"prediction\": \"I-gpe\", \"num_cases\": 87, \"pct_cases\": 0.5403726708074534}, {\"value\": \"O\", \"prediction\": \"I-geo\", \"num_cases\": 87, \"pct_cases\": 0.00012246776775043603}, {\"value\": \"I-per\", \"prediction\": \"B-org\", \"num_cases\": 80, \"pct_cases\": 0.00577825929938606}, {\"value\": \"B-art\", \"prediction\": \"B-art\", \"num_cases\": 75, \"pct_cases\": 0.23885350318471338}, {\"value\": \"O\", \"prediction\": \"I-per\", \"num_cases\": 75, \"pct_cases\": 0.00010557566185382417}, {\"value\": \"B-org\", \"prediction\": \"B-gpe\", \"num_cases\": 75, \"pct_cases\": 0.004650585973832703}, {\"value\": \"I-eve\", \"prediction\": \"I-eve\", \"num_cases\": 75, \"pct_cases\": 0.36585365853658536}, {\"value\": \"B-gpe\", \"prediction\": \"I-org\", \"num_cases\": 74, \"pct_cases\": 0.005808933197268232}, {\"value\": \"B-geo\", \"prediction\": \"I-org\", \"num_cases\": 73, \"pct_cases\": 0.00242420217181948}, {\"value\": \"B-nat\", \"prediction\": \"O\", \"num_cases\": 71, \"pct_cases\": 0.45222929936305734}, {\"value\": \"I-art\", \"prediction\": \"I-art\", \"num_cases\": 69, \"pct_cases\": 0.28512396694214875}, {\"value\": \"B-nat\", \"prediction\": \"B-nat\", \"num_cases\": 64, \"pct_cases\": 0.40764331210191085}, {\"value\": \"I-art\", \"prediction\": \"I-org\", \"num_cases\": 63, \"pct_cases\": 0.2603305785123967}, {\"value\": \"B-art\", \"prediction\": \"B-org\", \"num_cases\": 56, \"pct_cases\": 0.17834394904458598}, {\"value\": \"I-eve\", \"prediction\": \"I-org\", \"num_cases\": 52, \"pct_cases\": 0.25365853658536586}, {\"value\": \"B-geo\", \"prediction\": \"B-gpe\", \"num_cases\": 52, \"pct_cases\": 0.0017268289443097666}, {\"value\": \"O\", \"prediction\": \"B-gpe\", \"num_cases\": 51, \"pct_cases\": 7.179145006060043e-05}, {\"value\": \"I-art\", \"prediction\": \"O\", \"num_cases\": 50, \"pct_cases\": 0.2066115702479339}, {\"value\": \"B-eve\", \"prediction\": \"B-org\", \"num_cases\": 49, \"pct_cases\": 0.20081967213114754}, {\"value\": \"I-geo\", \"prediction\": \"B-org\", \"num_cases\": 42, \"pct_cases\": 0.007121057985757884}, {\"value\": \"I-tim\", \"prediction\": \"B-geo\", \"num_cases\": 42, \"pct_cases\": 0.00798782807151008}, {\"value\": \"I-gpe\", \"prediction\": \"I-geo\", \"num_cases\": 41, \"pct_cases\": 0.2546583850931677}, {\"value\": \"O\", \"prediction\": \"B-nat\", \"num_cases\": 40, \"pct_cases\": 5.6307019655372885e-05}, {\"value\": \"I-tim\", \"prediction\": \"I-org\", \"num_cases\": 33, \"pct_cases\": 0.006276150627615063}, {\"value\": \"B-art\", \"prediction\": \"B-geo\", \"num_cases\": 30, \"pct_cases\": 0.09554140127388536}, {\"value\": \"B-eve\", \"prediction\": \"O\", \"num_cases\": 30, \"pct_cases\": 0.12295081967213115}, {\"value\": \"O\", \"prediction\": \"I-art\", \"num_cases\": 29, \"pct_cases\": 4.0822589250145344e-05}, {\"value\": \"B-tim\", \"prediction\": \"B-per\", \"num_cases\": 28, \"pct_cases\": 0.001716001716001716}, {\"value\": \"O\", \"prediction\": \"B-eve\", \"num_cases\": 26, \"pct_cases\": 3.659956277599238e-05}, {\"value\": \"B-gpe\", \"prediction\": \"I-geo\", \"num_cases\": 26, \"pct_cases\": 0.0020409765287699192}, {\"value\": \"O\", \"prediction\": \"I-eve\", \"num_cases\": 25, \"pct_cases\": 3.519188728460805e-05}, {\"value\": \"I-art\", \"prediction\": \"I-geo\", \"num_cases\": 25, \"pct_cases\": 0.10330578512396695}, {\"value\": \"I-per\", \"prediction\": \"B-tim\", \"num_cases\": 24, \"pct_cases\": 0.001733477789815818}, {\"value\": \"I-org\", \"prediction\": \"I-tim\", \"num_cases\": 24, \"pct_cases\": 0.0017743604909064026}, {\"value\": \"I-geo\", \"prediction\": \"B-per\", \"num_cases\": 22, \"pct_cases\": 0.003730077992539844}, {\"value\": \"I-org\", \"prediction\": \"B-tim\", \"num_cases\": 21, \"pct_cases\": 0.0015525654295431022}, {\"value\": \"B-org\", \"prediction\": \"B-tim\", \"num_cases\": 21, \"pct_cases\": 0.0013021640726731567}, {\"value\": \"I-per\", \"prediction\": \"B-eve\", \"num_cases\": 21, \"pct_cases\": 0.0015167930660888408}, {\"value\": \"I-nat\", \"prediction\": \"B-nat\", \"num_cases\": 20, \"pct_cases\": 0.45454545454545453}, {\"value\": \"I-eve\", \"prediction\": \"O\", \"num_cases\": 19, \"pct_cases\": 0.09268292682926829}, {\"value\": \"I-eve\", \"prediction\": \"I-tim\", \"num_cases\": 19, \"pct_cases\": 0.09268292682926829}, {\"value\": \"B-org\", \"prediction\": \"B-art\", \"num_cases\": 18, \"pct_cases\": 0.0011161406337198488}, {\"value\": \"I-tim\", \"prediction\": \"B-org\", \"num_cases\": 18, \"pct_cases\": 0.003423354887790034}, {\"value\": \"B-art\", \"prediction\": \"B-gpe\", \"num_cases\": 17, \"pct_cases\": 0.054140127388535034}, {\"value\": \"I-nat\", \"prediction\": \"O\", \"num_cases\": 16, \"pct_cases\": 0.36363636363636365}, {\"value\": \"O\", \"prediction\": \"B-art\", \"num_cases\": 16, \"pct_cases\": 2.2522807862149155e-05}, {\"value\": \"B-eve\", \"prediction\": \"I-tim\", \"num_cases\": 15, \"pct_cases\": 0.06147540983606557}, {\"value\": \"B-org\", \"prediction\": \"I-geo\", \"num_cases\": 15, \"pct_cases\": 0.0009301171947665406}, {\"value\": \"B-per\", \"prediction\": \"I-geo\", \"num_cases\": 14, \"pct_cases\": 0.0010318396226415094}, {\"value\": \"B-eve\", \"prediction\": \"B-tim\", \"num_cases\": 13, \"pct_cases\": 0.05327868852459016}, {\"value\": \"B-art\", \"prediction\": \"B-per\", \"num_cases\": 13, \"pct_cases\": 0.041401273885350316}, {\"value\": \"B-eve\", \"prediction\": \"B-geo\", \"num_cases\": 13, \"pct_cases\": 0.05327868852459016}, {\"value\": \"I-gpe\", \"prediction\": \"B-gpe\", \"num_cases\": 12, \"pct_cases\": 0.07453416149068323}, {\"value\": \"I-gpe\", \"prediction\": \"I-org\", \"num_cases\": 12, \"pct_cases\": 0.07453416149068323}, {\"value\": \"B-tim\", \"prediction\": \"I-per\", \"num_cases\": 11, \"pct_cases\": 0.0006741435312863885}, {\"value\": \"I-eve\", \"prediction\": \"B-eve\", \"num_cases\": 11, \"pct_cases\": 0.05365853658536585}, {\"value\": \"B-geo\", \"prediction\": \"B-nat\", \"num_cases\": 10, \"pct_cases\": 0.0003320824892903397}, {\"value\": \"I-art\", \"prediction\": \"B-org\", \"num_cases\": 10, \"pct_cases\": 0.04132231404958678}, {\"value\": \"B-org\", \"prediction\": \"I-tim\", \"num_cases\": 10, \"pct_cases\": 0.0006200781298443603}, {\"value\": \"B-gpe\", \"prediction\": \"B-per\", \"num_cases\": 9, \"pct_cases\": 0.0007064918753434335}, {\"value\": \"B-gpe\", \"prediction\": \"B-eve\", \"num_cases\": 9, \"pct_cases\": 0.0007064918753434335}, {\"value\": \"B-nat\", \"prediction\": \"B-org\", \"num_cases\": 9, \"pct_cases\": 0.05732484076433121}, {\"value\": \"I-org\", \"prediction\": \"B-gpe\", \"num_cases\": 9, \"pct_cases\": 0.000665385184089901}, {\"value\": \"B-per\", \"prediction\": \"B-tim\", \"num_cases\": 8, \"pct_cases\": 0.0005896226415094339}, {\"value\": \"B-gpe\", \"prediction\": \"B-art\", \"num_cases\": 8, \"pct_cases\": 0.000627992778083052}, {\"value\": \"I-tim\", \"prediction\": \"B-per\", \"num_cases\": 8, \"pct_cases\": 0.0015214910612400153}, {\"value\": \"B-eve\", \"prediction\": \"B-per\", \"num_cases\": 8, \"pct_cases\": 0.03278688524590164}, {\"value\": \"I-art\", \"prediction\": \"I-per\", \"num_cases\": 8, \"pct_cases\": 0.03305785123966942}, {\"value\": \"B-org\", \"prediction\": \"I-eve\", \"num_cases\": 8, \"pct_cases\": 0.0004960625038754883}, {\"value\": \"I-org\", \"prediction\": \"I-eve\", \"num_cases\": 7, \"pct_cases\": 0.0005175218098477007}, {\"value\": \"B-geo\", \"prediction\": \"I-tim\", \"num_cases\": 7, \"pct_cases\": 0.0002324577425032378}, {\"value\": \"I-per\", \"prediction\": \"I-tim\", \"num_cases\": 7, \"pct_cases\": 0.0005055976886962802}, {\"value\": \"I-eve\", \"prediction\": \"I-geo\", \"num_cases\": 7, \"pct_cases\": 0.03414634146341464}, {\"value\": \"B-per\", \"prediction\": \"I-tim\", \"num_cases\": 7, \"pct_cases\": 0.0005159198113207547}, {\"value\": \"I-eve\", \"prediction\": \"B-nat\", \"num_cases\": 6, \"pct_cases\": 0.02926829268292683}, {\"value\": \"I-geo\", \"prediction\": \"B-gpe\", \"num_cases\": 6, \"pct_cases\": 0.001017293997965412}, {\"value\": \"I-org\", \"prediction\": \"I-art\", \"num_cases\": 6, \"pct_cases\": 0.00044359012272660064}, {\"value\": \"I-eve\", \"prediction\": \"B-org\", \"num_cases\": 5, \"pct_cases\": 0.024390243902439025}, {\"value\": \"B-eve\", \"prediction\": \"I-eve\", \"num_cases\": 5, \"pct_cases\": 0.020491803278688523}, {\"value\": \"I-gpe\", \"prediction\": \"O\", \"num_cases\": 5, \"pct_cases\": 0.031055900621118012}, {\"value\": \"I-geo\", \"prediction\": \"I-tim\", \"num_cases\": 5, \"pct_cases\": 0.00084774499830451}, {\"value\": \"I-eve\", \"prediction\": \"B-tim\", \"num_cases\": 5, \"pct_cases\": 0.024390243902439025}, {\"value\": \"I-nat\", \"prediction\": \"I-org\", \"num_cases\": 5, \"pct_cases\": 0.11363636363636363}, {\"value\": \"B-org\", \"prediction\": \"B-eve\", \"num_cases\": 4, \"pct_cases\": 0.00024803125193774417}, {\"value\": \"B-nat\", \"prediction\": \"B-geo\", \"num_cases\": 4, \"pct_cases\": 0.025477707006369428}, {\"value\": \"B-tim\", \"prediction\": \"I-org\", \"num_cases\": 4, \"pct_cases\": 0.00024514310228595945}, {\"value\": \"I-art\", \"prediction\": \"B-art\", \"num_cases\": 4, \"pct_cases\": 0.01652892561983471}, {\"value\": \"B-per\", \"prediction\": \"B-eve\", \"num_cases\": 4, \"pct_cases\": 0.00029481132075471697}, {\"value\": \"I-per\", \"prediction\": \"B-gpe\", \"num_cases\": 4, \"pct_cases\": 0.000288912964969303}, {\"value\": \"B-art\", \"prediction\": \"I-org\", \"num_cases\": 4, \"pct_cases\": 0.012738853503184714}, {\"value\": \"B-eve\", \"prediction\": \"I-org\", \"num_cases\": 4, \"pct_cases\": 0.01639344262295082}, {\"value\": \"I-art\", \"prediction\": \"B-geo\", \"num_cases\": 4, \"pct_cases\": 0.01652892561983471}, {\"value\": \"I-tim\", \"prediction\": \"I-per\", \"num_cases\": 3, \"pct_cases\": 0.0005705591479650057}, {\"value\": \"I-tim\", \"prediction\": \"B-gpe\", \"num_cases\": 3, \"pct_cases\": 0.0005705591479650057}, {\"value\": \"B-geo\", \"prediction\": \"B-art\", \"num_cases\": 3, \"pct_cases\": 9.962474678710192e-05}, {\"value\": \"B-nat\", \"prediction\": \"B-per\", \"num_cases\": 3, \"pct_cases\": 0.01910828025477707}, {\"value\": \"I-art\", \"prediction\": \"B-per\", \"num_cases\": 3, \"pct_cases\": 0.012396694214876033}, {\"value\": \"I-eve\", \"prediction\": \"B-geo\", \"num_cases\": 3, \"pct_cases\": 0.014634146341463415}, {\"value\": \"B-art\", \"prediction\": \"B-tim\", \"num_cases\": 3, \"pct_cases\": 0.009554140127388535}, {\"value\": \"B-eve\", \"prediction\": \"B-gpe\", \"num_cases\": 2, \"pct_cases\": 0.00819672131147541}, {\"value\": \"B-eve\", \"prediction\": \"B-nat\", \"num_cases\": 2, \"pct_cases\": 0.00819672131147541}, {\"value\": \"B-gpe\", \"prediction\": \"B-tim\", \"num_cases\": 2, \"pct_cases\": 0.000156998194520763}, {\"value\": \"B-tim\", \"prediction\": \"I-geo\", \"num_cases\": 2, \"pct_cases\": 0.00012257155114297973}, {\"value\": \"I-art\", \"prediction\": \"B-tim\", \"num_cases\": 2, \"pct_cases\": 0.008264462809917356}, {\"value\": \"B-nat\", \"prediction\": \"B-eve\", \"num_cases\": 2, \"pct_cases\": 0.012738853503184714}, {\"value\": \"B-tim\", \"prediction\": \"B-nat\", \"num_cases\": 2, \"pct_cases\": 0.00012257155114297973}, {\"value\": \"I-gpe\", \"prediction\": \"B-geo\", \"num_cases\": 2, \"pct_cases\": 0.012422360248447204}, {\"value\": \"I-art\", \"prediction\": \"I-tim\", \"num_cases\": 2, \"pct_cases\": 0.008264462809917356}, {\"value\": \"I-geo\", \"prediction\": \"B-tim\", \"num_cases\": 2, \"pct_cases\": 0.00033909799932180403}, {\"value\": \"I-tim\", \"prediction\": \"I-geo\", \"num_cases\": 2, \"pct_cases\": 0.0003803727653100038}, {\"value\": \"I-eve\", \"prediction\": \"B-per\", \"num_cases\": 2, \"pct_cases\": 0.00975609756097561}, {\"value\": \"B-gpe\", \"prediction\": \"I-tim\", \"num_cases\": 2, \"pct_cases\": 0.000156998194520763}, {\"value\": \"I-org\", \"prediction\": \"B-art\", \"num_cases\": 2, \"pct_cases\": 0.0001478633742422002}, {\"value\": \"B-nat\", \"prediction\": \"I-org\", \"num_cases\": 1, \"pct_cases\": 0.006369426751592357}, {\"value\": \"I-nat\", \"prediction\": \"I-tim\", \"num_cases\": 1, \"pct_cases\": 0.022727272727272728}, {\"value\": \"I-nat\", \"prediction\": \"I-nat\", \"num_cases\": 1, \"pct_cases\": 0.022727272727272728}, {\"value\": \"O\", \"prediction\": \"I-gpe\", \"num_cases\": 1, \"pct_cases\": 1.4076754913843222e-06}, {\"value\": \"B-tim\", \"prediction\": \"B-eve\", \"num_cases\": 1, \"pct_cases\": 6.128577557148986e-05}, {\"value\": \"B-per\", \"prediction\": \"B-gpe\", \"num_cases\": 1, \"pct_cases\": 7.370283018867924e-05}, {\"value\": \"B-tim\", \"prediction\": \"I-eve\", \"num_cases\": 1, \"pct_cases\": 6.128577557148986e-05}, {\"value\": \"B-per\", \"prediction\": \"I-art\", \"num_cases\": 1, \"pct_cases\": 7.370283018867924e-05}, {\"value\": \"B-per\", \"prediction\": \"B-art\", \"num_cases\": 1, \"pct_cases\": 7.370283018867924e-05}, {\"value\": \"B-gpe\", \"prediction\": \"I-per\", \"num_cases\": 1, \"pct_cases\": 7.84990972603815e-05}, {\"value\": \"I-gpe\", \"prediction\": \"I-per\", \"num_cases\": 1, \"pct_cases\": 0.006211180124223602}, {\"value\": \"I-art\", \"prediction\": \"B-eve\", \"num_cases\": 1, \"pct_cases\": 0.004132231404958678}, {\"value\": \"I-gpe\", \"prediction\": \"B-org\", \"num_cases\": 1, \"pct_cases\": 0.006211180124223602}, {\"value\": \"B-gpe\", \"prediction\": \"I-gpe\", \"num_cases\": 1, \"pct_cases\": 7.84990972603815e-05}, {\"value\": \"I-nat\", \"prediction\": \"I-geo\", \"num_cases\": 1, \"pct_cases\": 0.022727272727272728}, {\"value\": \"I-eve\", \"prediction\": \"I-per\", \"num_cases\": 1, \"pct_cases\": 0.004878048780487805}, {\"value\": \"B-nat\", \"prediction\": \"B-art\", \"num_cases\": 1, \"pct_cases\": 0.006369426751592357}, {\"value\": \"B-art\", \"prediction\": \"I-tim\", \"num_cases\": 1, \"pct_cases\": 0.0031847133757961785}, {\"value\": \"B-art\", \"prediction\": \"B-eve\", \"num_cases\": 1, \"pct_cases\": 0.0031847133757961785}, {\"value\": \"I-tim\", \"prediction\": \"B-nat\", \"num_cases\": 1, \"pct_cases\": 0.0001901863826550019}, {\"value\": \"I-art\", \"prediction\": \"I-eve\", \"num_cases\": 1, \"pct_cases\": 0.004132231404958678}, {\"value\": \"I-org\", \"prediction\": \"B-eve\", \"num_cases\": 1, \"pct_cases\": 7.39316871211001e-05}, {\"value\": \"B-nat\", \"prediction\": \"I-tim\", \"num_cases\": 1, \"pct_cases\": 0.006369426751592357}, {\"value\": \"B-nat\", \"prediction\": \"B-tim\", \"num_cases\": 1, \"pct_cases\": 0.006369426751592357}]}}, {\"mode\": \"vega-lite\"});\n",
       "</script>"
      ],
      "text/plain": [
       "alt.Chart(...)"
      ]
     },
     "metadata": {},
     "output_type": "display_data"
    }
   ],
   "source": [
    "# Evaluate train dataset\n",
    "O_value = train_seq.y_dict['O']  # code of 'O' value, to be ignored\n",
    "eval_train = evaluate_corpus(train_seq.seq_list, pred_train, train_seq.y_dict, ignore_tag_code=O_value)"
   ]
  },
  {
   "cell_type": "code",
   "execution_count": 29,
   "metadata": {},
   "outputs": [
    {
     "name": "stdout",
     "output_type": "stream",
     "text": [
      "Accuracy: 0.876\n",
      "Weighted F1 score: 0.847\n",
      "Accuracy (ignore tag excluded): 0.230\n",
      "Weighted F1 score (ignore tag excluded): 0.354\n"
     ]
    },
    {
     "data": {
      "text/html": [
       "\n",
       "<div id=\"altair-viz-2e487e46de514af582c9ad55776c8951\"></div>\n",
       "<script type=\"text/javascript\">\n",
       "  var VEGA_DEBUG = (typeof VEGA_DEBUG == \"undefined\") ? {} : VEGA_DEBUG;\n",
       "  (function(spec, embedOpt){\n",
       "    let outputDiv = document.currentScript.previousElementSibling;\n",
       "    if (outputDiv.id !== \"altair-viz-2e487e46de514af582c9ad55776c8951\") {\n",
       "      outputDiv = document.getElementById(\"altair-viz-2e487e46de514af582c9ad55776c8951\");\n",
       "    }\n",
       "    const paths = {\n",
       "      \"vega\": \"https://cdn.jsdelivr.net/npm//vega@5?noext\",\n",
       "      \"vega-lib\": \"https://cdn.jsdelivr.net/npm//vega-lib?noext\",\n",
       "      \"vega-lite\": \"https://cdn.jsdelivr.net/npm//vega-lite@4.17.0?noext\",\n",
       "      \"vega-embed\": \"https://cdn.jsdelivr.net/npm//vega-embed@6?noext\",\n",
       "    };\n",
       "\n",
       "    function maybeLoadScript(lib, version) {\n",
       "      var key = `${lib.replace(\"-\", \"\")}_version`;\n",
       "      return (VEGA_DEBUG[key] == version) ?\n",
       "        Promise.resolve(paths[lib]) :\n",
       "        new Promise(function(resolve, reject) {\n",
       "          var s = document.createElement('script');\n",
       "          document.getElementsByTagName(\"head\")[0].appendChild(s);\n",
       "          s.async = true;\n",
       "          s.onload = () => {\n",
       "            VEGA_DEBUG[key] = version;\n",
       "            return resolve(paths[lib]);\n",
       "          };\n",
       "          s.onerror = () => reject(`Error loading script: ${paths[lib]}`);\n",
       "          s.src = paths[lib];\n",
       "        });\n",
       "    }\n",
       "\n",
       "    function showError(err) {\n",
       "      outputDiv.innerHTML = `<div class=\"error\" style=\"color:red;\">${err}</div>`;\n",
       "      throw err;\n",
       "    }\n",
       "\n",
       "    function displayChart(vegaEmbed) {\n",
       "      vegaEmbed(outputDiv, spec, embedOpt)\n",
       "        .catch(err => showError(`Javascript Error: ${err.message}<br>This usually means there's a typo in your chart specification. See the javascript console for the full traceback.`));\n",
       "    }\n",
       "\n",
       "    if(typeof define === \"function\" && define.amd) {\n",
       "      requirejs.config({paths});\n",
       "      require([\"vega-embed\"], displayChart, err => showError(`Error loading script: ${err.message}`));\n",
       "    } else {\n",
       "      maybeLoadScript(\"vega\", \"5\")\n",
       "        .then(() => maybeLoadScript(\"vega-lite\", \"4.17.0\"))\n",
       "        .then(() => maybeLoadScript(\"vega-embed\", \"6\"))\n",
       "        .catch(showError)\n",
       "        .then(() => displayChart(vegaEmbed));\n",
       "    }\n",
       "  })({\"config\": {\"view\": {\"continuousWidth\": 400, \"continuousHeight\": 300}}, \"data\": {\"name\": \"data-4042a1ea8a146b873d419f7b84f749eb\"}, \"mark\": \"circle\", \"encoding\": {\"color\": {\"field\": \"pct_cases\", \"scale\": {\"domain\": [0, 1], \"scheme\": \"redblue\"}, \"type\": \"quantitative\"}, \"size\": {\"field\": \"pct_cases\", \"legend\": {\"title\": \"Percentage of words\"}, \"scale\": {\"domain\": [0, 1]}, \"type\": \"quantitative\"}, \"tooltip\": [{\"field\": \"value\", \"type\": \"nominal\"}, {\"field\": \"prediction\", \"type\": \"nominal\"}, {\"field\": \"pct_cases\", \"format\": \".2%\", \"type\": \"quantitative\"}, {\"field\": \"num_cases\", \"type\": \"quantitative\"}], \"x\": {\"field\": \"prediction\", \"type\": \"ordinal\"}, \"y\": {\"field\": \"value\", \"type\": \"ordinal\"}}, \"$schema\": \"https://vega.github.io/schema/vega-lite/v4.17.0.json\", \"datasets\": {\"data-4042a1ea8a146b873d419f7b84f749eb\": [{\"value\": \"O\", \"prediction\": \"O\", \"num_cases\": 703842, \"pct_cases\": 0.9925765682422656}, {\"value\": \"B-geo\", \"prediction\": \"O\", \"num_cases\": 22736, \"pct_cases\": 0.7549976754997676}, {\"value\": \"B-tim\", \"prediction\": \"O\", \"num_cases\": 12164, \"pct_cases\": 0.7540760027276672}, {\"value\": \"B-org\", \"prediction\": \"O\", \"num_cases\": 11087, \"pct_cases\": 0.692115612709907}, {\"value\": \"I-org\", \"prediction\": \"O\", \"num_cases\": 8724, \"pct_cases\": 0.6568782471199458}, {\"value\": \"B-gpe\", \"prediction\": \"O\", \"num_cases\": 8685, \"pct_cases\": 0.6866155427306506}, {\"value\": \"B-per\", \"prediction\": \"O\", \"num_cases\": 7995, \"pct_cases\": 0.5839602658680886}, {\"value\": \"I-per\", \"prediction\": \"O\", \"num_cases\": 7971, \"pct_cases\": 0.576355748373102}, {\"value\": \"B-geo\", \"prediction\": \"B-geo\", \"num_cases\": 6375, \"pct_cases\": 0.2116955568838414}, {\"value\": \"B-per\", \"prediction\": \"B-per\", \"num_cases\": 4338, \"pct_cases\": 0.31685048572054636}, {\"value\": \"I-geo\", \"prediction\": \"O\", \"num_cases\": 4288, \"pct_cases\": 0.7222502947616641}, {\"value\": \"I-per\", \"prediction\": \"I-per\", \"num_cases\": 4176, \"pct_cases\": 0.3019522776572668}, {\"value\": \"B-tim\", \"prediction\": \"B-tim\", \"num_cases\": 3467, \"pct_cases\": 0.21492777881098507}, {\"value\": \"I-tim\", \"prediction\": \"O\", \"num_cases\": 3425, \"pct_cases\": 0.6542502387774594}, {\"value\": \"B-org\", \"prediction\": \"B-org\", \"num_cases\": 3175, \"pct_cases\": 0.19820213496472938}, {\"value\": \"B-gpe\", \"prediction\": \"B-gpe\", \"num_cases\": 2781, \"pct_cases\": 0.21985927741323424}, {\"value\": \"I-org\", \"prediction\": \"I-org\", \"num_cases\": 2410, \"pct_cases\": 0.18146223928921015}, {\"value\": \"I-tim\", \"prediction\": \"I-tim\", \"num_cases\": 1560, \"pct_cases\": 0.2979942693409742}, {\"value\": \"O\", \"prediction\": \"B-org\", \"num_cases\": 1178, \"pct_cases\": 0.0016612466965446632}, {\"value\": \"O\", \"prediction\": \"I-org\", \"num_cases\": 1177, \"pct_cases\": 0.0016598364701469173}, {\"value\": \"I-org\", \"prediction\": \"I-art\", \"num_cases\": 1152, \"pct_cases\": 0.08674045629094194}, {\"value\": \"I-geo\", \"prediction\": \"I-geo\", \"num_cases\": 1071, \"pct_cases\": 0.18039413845376454}, {\"value\": \"I-per\", \"prediction\": \"I-art\", \"num_cases\": 1030, \"pct_cases\": 0.07447577729573392}, {\"value\": \"O\", \"prediction\": \"B-per\", \"num_cases\": 873, \"pct_cases\": 0.0012311276452321655}, {\"value\": \"O\", \"prediction\": \"B-geo\", \"num_cases\": 599, \"pct_cases\": 0.0008447256122497906}, {\"value\": \"B-org\", \"prediction\": \"B-per\", \"num_cases\": 589, \"pct_cases\": 0.03676883700605531}, {\"value\": \"B-org\", \"prediction\": \"B-geo\", \"num_cases\": 529, \"pct_cases\": 0.033023284849241524}, {\"value\": \"O\", \"prediction\": \"B-tim\", \"num_cases\": 508, \"pct_cases\": 0.0007163950100549142}, {\"value\": \"B-per\", \"prediction\": \"I-per\", \"num_cases\": 503, \"pct_cases\": 0.03673946388138193}, {\"value\": \"I-org\", \"prediction\": \"I-per\", \"num_cases\": 493, \"pct_cases\": 0.037120698742564566}, {\"value\": \"O\", \"prediction\": \"I-tim\", \"num_cases\": 473, \"pct_cases\": 0.000667037086133808}, {\"value\": \"B-geo\", \"prediction\": \"B-org\", \"num_cases\": 397, \"pct_cases\": 0.013183237032609417}, {\"value\": \"B-per\", \"prediction\": \"I-art\", \"num_cases\": 336, \"pct_cases\": 0.024541669710028486}, {\"value\": \"B-org\", \"prediction\": \"B-art\", \"num_cases\": 329, \"pct_cases\": 0.02053811099319558}, {\"value\": \"B-geo\", \"prediction\": \"B-per\", \"num_cases\": 315, \"pct_cases\": 0.010460251046025104}, {\"value\": \"B-gpe\", \"prediction\": \"B-per\", \"num_cases\": 301, \"pct_cases\": 0.023796347537354733}, {\"value\": \"B-gpe\", \"prediction\": \"B-org\", \"num_cases\": 262, \"pct_cases\": 0.020713099849790497}, {\"value\": \"B-art\", \"prediction\": \"O\", \"num_cases\": 251, \"pct_cases\": 0.7917981072555205}, {\"value\": \"I-per\", \"prediction\": \"B-per\", \"num_cases\": 234, \"pct_cases\": 0.016919739696312365}, {\"value\": \"B-tim\", \"prediction\": \"I-tim\", \"num_cases\": 228, \"pct_cases\": 0.014134275618374558}, {\"value\": \"I-per\", \"prediction\": \"I-org\", \"num_cases\": 218, \"pct_cases\": 0.015762834417932033}, {\"value\": \"I-org\", \"prediction\": \"B-org\", \"num_cases\": 218, \"pct_cases\": 0.016414426624501165}, {\"value\": \"B-per\", \"prediction\": \"B-org\", \"num_cases\": 211, \"pct_cases\": 0.015411584252428603}, {\"value\": \"I-geo\", \"prediction\": \"I-per\", \"num_cases\": 209, \"pct_cases\": 0.03520296446016507}, {\"value\": \"B-gpe\", \"prediction\": \"B-art\", \"num_cases\": 190, \"pct_cases\": 0.015020950272748834}, {\"value\": \"I-geo\", \"prediction\": \"I-org\", \"num_cases\": 186, \"pct_cases\": 0.031328954017180395}, {\"value\": \"B-gpe\", \"prediction\": \"B-geo\", \"num_cases\": 176, \"pct_cases\": 0.013914143410546288}, {\"value\": \"B-gpe\", \"prediction\": \"I-geo\", \"num_cases\": 151, \"pct_cases\": 0.0119377025851846}, {\"value\": \"B-nat\", \"prediction\": \"O\", \"num_cases\": 147, \"pct_cases\": 0.84}, {\"value\": \"I-eve\", \"prediction\": \"O\", \"num_cases\": 142, \"pct_cases\": 0.7208121827411168}, {\"value\": \"B-eve\", \"prediction\": \"O\", \"num_cases\": 142, \"pct_cases\": 0.5843621399176955}, {\"value\": \"I-art\", \"prediction\": \"O\", \"num_cases\": 138, \"pct_cases\": 0.6244343891402715}, {\"value\": \"B-org\", \"prediction\": \"I-per\", \"num_cases\": 123, \"pct_cases\": 0.0076783819214682565}, {\"value\": \"B-per\", \"prediction\": \"I-org\", \"num_cases\": 112, \"pct_cases\": 0.008180556570009495}, {\"value\": \"I-org\", \"prediction\": \"I-geo\", \"num_cases\": 112, \"pct_cases\": 0.008433099917174912}, {\"value\": \"I-geo\", \"prediction\": \"B-geo\", \"num_cases\": 109, \"pct_cases\": 0.018359440795014316}, {\"value\": \"B-per\", \"prediction\": \"B-geo\", \"num_cases\": 100, \"pct_cases\": 0.007304068366079906}, {\"value\": \"O\", \"prediction\": \"I-per\", \"num_cases\": 99, \"pct_cases\": 0.00013961241337684353}, {\"value\": \"I-gpe\", \"prediction\": \"O\", \"num_cases\": 96, \"pct_cases\": 0.6357615894039735}, {\"value\": \"O\", \"prediction\": \"I-geo\", \"num_cases\": 94, \"pct_cases\": 0.00013256128138811404}, {\"value\": \"B-geo\", \"prediction\": \"I-geo\", \"num_cases\": 92, \"pct_cases\": 0.0030550574483628875}, {\"value\": \"B-org\", \"prediction\": \"I-org\", \"num_cases\": 89, \"pct_cases\": 0.005555902365940446}, {\"value\": \"I-tim\", \"prediction\": \"I-art\", \"num_cases\": 81, \"pct_cases\": 0.015472779369627506}, {\"value\": \"I-tim\", \"prediction\": \"B-tim\", \"num_cases\": 72, \"pct_cases\": 0.013753581661891117}, {\"value\": \"O\", \"prediction\": \"I-art\", \"num_cases\": 72, \"pct_cases\": 0.00010153630063770437}, {\"value\": \"B-geo\", \"prediction\": \"I-per\", \"num_cases\": 71, \"pct_cases\": 0.002357707378627881}, {\"value\": \"B-per\", \"prediction\": \"B-art\", \"num_cases\": 67, \"pct_cases\": 0.004893725805273538}, {\"value\": \"I-org\", \"prediction\": \"B-geo\", \"num_cases\": 66, \"pct_cases\": 0.004969505308335216}, {\"value\": \"B-eve\", \"prediction\": \"B-eve\", \"num_cases\": 60, \"pct_cases\": 0.24691358024691357}, {\"value\": \"B-tim\", \"prediction\": \"I-art\", \"num_cases\": 58, \"pct_cases\": 0.003595561341516335}, {\"value\": \"I-per\", \"prediction\": \"B-geo\", \"num_cases\": 58, \"pct_cases\": 0.004193781634128706}, {\"value\": \"B-tim\", \"prediction\": \"B-org\", \"num_cases\": 55, \"pct_cases\": 0.003409584030748249}, {\"value\": \"I-per\", \"prediction\": \"B-org\", \"num_cases\": 54, \"pct_cases\": 0.0039045553145336228}, {\"value\": \"I-per\", \"prediction\": \"I-geo\", \"num_cases\": 50, \"pct_cases\": 0.0036153289949385392}, {\"value\": \"B-tim\", \"prediction\": \"B-per\", \"num_cases\": 49, \"pct_cases\": 0.003037629409212076}, {\"value\": \"B-org\", \"prediction\": \"I-art\", \"num_cases\": 44, \"pct_cases\": 0.002746738248330108}, {\"value\": \"I-org\", \"prediction\": \"B-per\", \"num_cases\": 43, \"pct_cases\": 0.0032377080039153678}, {\"value\": \"O\", \"prediction\": \"I-eve\", \"num_cases\": 42, \"pct_cases\": 5.9229508705327555e-05}, {\"value\": \"O\", \"prediction\": \"B-nat\", \"num_cases\": 41, \"pct_cases\": 5.781928230758166e-05}, {\"value\": \"O\", \"prediction\": \"B-art\", \"num_cases\": 40, \"pct_cases\": 5.640905590983576e-05}, {\"value\": \"O\", \"prediction\": \"B-gpe\", \"num_cases\": 40, \"pct_cases\": 5.640905590983576e-05}, {\"value\": \"I-tim\", \"prediction\": \"I-per\", \"num_cases\": 38, \"pct_cases\": 0.00725883476599809}, {\"value\": \"B-geo\", \"prediction\": \"B-tim\", \"num_cases\": 38, \"pct_cases\": 0.001261871554758584}, {\"value\": \"I-nat\", \"prediction\": \"O\", \"num_cases\": 34, \"pct_cases\": 0.8095238095238095}, {\"value\": \"B-tim\", \"prediction\": \"B-geo\", \"num_cases\": 33, \"pct_cases\": 0.0020457504184489494}, {\"value\": \"B-gpe\", \"prediction\": \"I-org\", \"num_cases\": 31, \"pct_cases\": 0.002450786623448494}, {\"value\": \"B-geo\", \"prediction\": \"I-org\", \"num_cases\": 29, \"pct_cases\": 0.0009630072391578668}, {\"value\": \"I-tim\", \"prediction\": \"I-org\", \"num_cases\": 29, \"pct_cases\": 0.0055396370582617}, {\"value\": \"I-geo\", \"prediction\": \"B-org\", \"num_cases\": 29, \"pct_cases\": 0.004884621862893717}, {\"value\": \"I-art\", \"prediction\": \"I-org\", \"num_cases\": 28, \"pct_cases\": 0.12669683257918551}, {\"value\": \"O\", \"prediction\": \"B-eve\", \"num_cases\": 28, \"pct_cases\": 3.948633913688503e-05}, {\"value\": \"B-art\", \"prediction\": \"B-org\", \"num_cases\": 28, \"pct_cases\": 0.08832807570977919}, {\"value\": \"B-gpe\", \"prediction\": \"I-per\", \"num_cases\": 27, \"pct_cases\": 0.002134556091390624}, {\"value\": \"B-geo\", \"prediction\": \"B-art\", \"num_cases\": 27, \"pct_cases\": 0.0008965929468021519}, {\"value\": \"I-art\", \"prediction\": \"I-art\", \"num_cases\": 26, \"pct_cases\": 0.11764705882352941}, {\"value\": \"I-org\", \"prediction\": \"I-tim\", \"num_cases\": 25, \"pct_cases\": 0.0018823883743693999}, {\"value\": \"I-geo\", \"prediction\": \"I-art\", \"num_cases\": 24, \"pct_cases\": 0.00404244567963618}, {\"value\": \"B-tim\", \"prediction\": \"I-org\", \"num_cases\": 24, \"pct_cases\": 0.0014878184861446904}, {\"value\": \"B-tim\", \"prediction\": \"I-per\", \"num_cases\": 23, \"pct_cases\": 0.001425826049221995}, {\"value\": \"B-tim\", \"prediction\": \"B-art\", \"num_cases\": 20, \"pct_cases\": 0.0012398487384539087}, {\"value\": \"B-gpe\", \"prediction\": \"I-art\", \"num_cases\": 20, \"pct_cases\": 0.001581152660289351}, {\"value\": \"I-per\", \"prediction\": \"B-eve\", \"num_cases\": 19, \"pct_cases\": 0.001373825018076645}, {\"value\": \"B-gpe\", \"prediction\": \"I-tim\", \"num_cases\": 17, \"pct_cases\": 0.0013439797612459484}, {\"value\": \"B-nat\", \"prediction\": \"B-nat\", \"num_cases\": 17, \"pct_cases\": 0.09714285714285714}, {\"value\": \"B-org\", \"prediction\": \"I-tim\", \"num_cases\": 16, \"pct_cases\": 0.0009988139084836755}, {\"value\": \"I-eve\", \"prediction\": \"I-org\", \"num_cases\": 16, \"pct_cases\": 0.08121827411167512}, {\"value\": \"B-org\", \"prediction\": \"B-gpe\", \"num_cases\": 16, \"pct_cases\": 0.0009988139084836755}, {\"value\": \"I-tim\", \"prediction\": \"B-geo\", \"num_cases\": 15, \"pct_cases\": 0.0028653295128939827}, {\"value\": \"B-eve\", \"prediction\": \"B-org\", \"num_cases\": 15, \"pct_cases\": 0.06172839506172839}, {\"value\": \"B-geo\", \"prediction\": \"B-gpe\", \"num_cases\": 15, \"pct_cases\": 0.0004981071926678622}, {\"value\": \"I-eve\", \"prediction\": \"B-eve\", \"num_cases\": 14, \"pct_cases\": 0.07106598984771574}, {\"value\": \"I-gpe\", \"prediction\": \"I-per\", \"num_cases\": 14, \"pct_cases\": 0.09271523178807947}, {\"value\": \"I-org\", \"prediction\": \"I-eve\", \"num_cases\": 14, \"pct_cases\": 0.001054137489646864}, {\"value\": \"I-gpe\", \"prediction\": \"I-gpe\", \"num_cases\": 13, \"pct_cases\": 0.08609271523178808}, {\"value\": \"I-tim\", \"prediction\": \"B-org\", \"num_cases\": 12, \"pct_cases\": 0.002292263610315186}, {\"value\": \"B-per\", \"prediction\": \"I-geo\", \"num_cases\": 12, \"pct_cases\": 0.0008764882039295887}, {\"value\": \"I-per\", \"prediction\": \"I-tim\", \"num_cases\": 12, \"pct_cases\": 0.0008676789587852494}, {\"value\": \"I-gpe\", \"prediction\": \"I-geo\", \"num_cases\": 11, \"pct_cases\": 0.0728476821192053}, {\"value\": \"B-art\", \"prediction\": \"B-per\", \"num_cases\": 10, \"pct_cases\": 0.031545741324921134}, {\"value\": \"I-org\", \"prediction\": \"B-art\", \"num_cases\": 10, \"pct_cases\": 0.00075295534974776}, {\"value\": \"B-art\", \"prediction\": \"B-art\", \"num_cases\": 9, \"pct_cases\": 0.028391167192429023}, {\"value\": \"B-per\", \"prediction\": \"I-tim\", \"num_cases\": 9, \"pct_cases\": 0.0006573661529471916}, {\"value\": \"B-geo\", \"prediction\": \"I-tim\", \"num_cases\": 9, \"pct_cases\": 0.00029886431560071725}, {\"value\": \"I-gpe\", \"prediction\": \"I-art\", \"num_cases\": 9, \"pct_cases\": 0.059602649006622516}, {\"value\": \"B-org\", \"prediction\": \"B-tim\", \"num_cases\": 9, \"pct_cases\": 0.0005618328235220676}, {\"value\": \"B-eve\", \"prediction\": \"B-geo\", \"num_cases\": 8, \"pct_cases\": 0.03292181069958848}, {\"value\": \"I-eve\", \"prediction\": \"I-eve\", \"num_cases\": 8, \"pct_cases\": 0.04060913705583756}, {\"value\": \"I-org\", \"prediction\": \"B-tim\", \"num_cases\": 8, \"pct_cases\": 0.0006023642797982079}, {\"value\": \"I-geo\", \"prediction\": \"B-per\", \"num_cases\": 7, \"pct_cases\": 0.0011790466565605525}, {\"value\": \"B-nat\", \"prediction\": \"B-org\", \"num_cases\": 7, \"pct_cases\": 0.04}, {\"value\": \"I-art\", \"prediction\": \"I-per\", \"num_cases\": 7, \"pct_cases\": 0.03167420814479638}, {\"value\": \"B-art\", \"prediction\": \"B-geo\", \"num_cases\": 7, \"pct_cases\": 0.022082018927444796}, {\"value\": \"B-org\", \"prediction\": \"B-eve\", \"num_cases\": 7, \"pct_cases\": 0.0004369810849616081}, {\"value\": \"B-eve\", \"prediction\": \"I-eve\", \"num_cases\": 6, \"pct_cases\": 0.024691358024691357}, {\"value\": \"I-art\", \"prediction\": \"I-geo\", \"num_cases\": 6, \"pct_cases\": 0.027149321266968326}, {\"value\": \"B-tim\", \"prediction\": \"B-eve\", \"num_cases\": 6, \"pct_cases\": 0.0003719546215361726}, {\"value\": \"B-org\", \"prediction\": \"I-geo\", \"num_cases\": 5, \"pct_cases\": 0.0003121293464011486}, {\"value\": \"B-per\", \"prediction\": \"B-tim\", \"num_cases\": 5, \"pct_cases\": 0.0003652034183039953}, {\"value\": \"I-geo\", \"prediction\": \"I-tim\", \"num_cases\": 5, \"pct_cases\": 0.0008421761832575374}, {\"value\": \"I-org\", \"prediction\": \"B-gpe\", \"num_cases\": 5, \"pct_cases\": 0.00037647767487388}, {\"value\": \"B-art\", \"prediction\": \"I-org\", \"num_cases\": 5, \"pct_cases\": 0.015772870662460567}, {\"value\": \"B-geo\", \"prediction\": \"I-art\", \"num_cases\": 5, \"pct_cases\": 0.00016603573088928738}, {\"value\": \"B-nat\", \"prediction\": \"B-per\", \"num_cases\": 4, \"pct_cases\": 0.022857142857142857}, {\"value\": \"I-per\", \"prediction\": \"B-tim\", \"num_cases\": 4, \"pct_cases\": 0.00028922631959508316}, {\"value\": \"I-per\", \"prediction\": \"I-eve\", \"num_cases\": 4, \"pct_cases\": 0.00028922631959508316}, {\"value\": \"I-art\", \"prediction\": \"I-eve\", \"num_cases\": 4, \"pct_cases\": 0.01809954751131222}, {\"value\": \"B-geo\", \"prediction\": \"I-eve\", \"num_cases\": 4, \"pct_cases\": 0.0001328285847114299}, {\"value\": \"B-gpe\", \"prediction\": \"B-eve\", \"num_cases\": 4, \"pct_cases\": 0.0003162305320578702}, {\"value\": \"I-gpe\", \"prediction\": \"I-org\", \"num_cases\": 4, \"pct_cases\": 0.026490066225165563}, {\"value\": \"I-eve\", \"prediction\": \"I-tim\", \"num_cases\": 4, \"pct_cases\": 0.02030456852791878}, {\"value\": \"I-geo\", \"prediction\": \"B-gpe\", \"num_cases\": 4, \"pct_cases\": 0.00067374094660603}, {\"value\": \"B-gpe\", \"prediction\": \"B-tim\", \"num_cases\": 4, \"pct_cases\": 0.0003162305320578702}, {\"value\": \"I-art\", \"prediction\": \"B-geo\", \"num_cases\": 4, \"pct_cases\": 0.01809954751131222}, {\"value\": \"I-art\", \"prediction\": \"B-org\", \"num_cases\": 4, \"pct_cases\": 0.01809954751131222}, {\"value\": \"B-eve\", \"prediction\": \"I-org\", \"num_cases\": 3, \"pct_cases\": 0.012345679012345678}, {\"value\": \"I-nat\", \"prediction\": \"I-org\", \"num_cases\": 3, \"pct_cases\": 0.07142857142857142}, {\"value\": \"B-eve\", \"prediction\": \"B-per\", \"num_cases\": 3, \"pct_cases\": 0.012345679012345678}, {\"value\": \"I-nat\", \"prediction\": \"B-nat\", \"num_cases\": 3, \"pct_cases\": 0.07142857142857142}, {\"value\": \"I-eve\", \"prediction\": \"I-per\", \"num_cases\": 3, \"pct_cases\": 0.015228426395939087}, {\"value\": \"B-art\", \"prediction\": \"I-art\", \"num_cases\": 3, \"pct_cases\": 0.00946372239747634}, {\"value\": \"I-eve\", \"prediction\": \"I-art\", \"num_cases\": 3, \"pct_cases\": 0.015228426395939087}, {\"value\": \"I-eve\", \"prediction\": \"I-geo\", \"num_cases\": 3, \"pct_cases\": 0.015228426395939087}, {\"value\": \"I-eve\", \"prediction\": \"B-tim\", \"num_cases\": 2, \"pct_cases\": 0.01015228426395939}, {\"value\": \"B-eve\", \"prediction\": \"B-tim\", \"num_cases\": 2, \"pct_cases\": 0.00823045267489712}, {\"value\": \"B-tim\", \"prediction\": \"I-eve\", \"num_cases\": 2, \"pct_cases\": 0.00012398487384539087}, {\"value\": \"I-eve\", \"prediction\": \"B-org\", \"num_cases\": 2, \"pct_cases\": 0.01015228426395939}, {\"value\": \"I-gpe\", \"prediction\": \"B-gpe\", \"num_cases\": 2, \"pct_cases\": 0.013245033112582781}, {\"value\": \"I-geo\", \"prediction\": \"I-eve\", \"num_cases\": 2, \"pct_cases\": 0.000336870473303015}, {\"value\": \"B-per\", \"prediction\": \"I-eve\", \"num_cases\": 2, \"pct_cases\": 0.00014608136732159813}, {\"value\": \"B-tim\", \"prediction\": \"I-geo\", \"num_cases\": 2, \"pct_cases\": 0.00012398487384539087}, {\"value\": \"I-geo\", \"prediction\": \"B-tim\", \"num_cases\": 2, \"pct_cases\": 0.000336870473303015}, {\"value\": \"I-gpe\", \"prediction\": \"B-geo\", \"num_cases\": 2, \"pct_cases\": 0.013245033112582781}, {\"value\": \"B-org\", \"prediction\": \"I-eve\", \"num_cases\": 1, \"pct_cases\": 6.242586928022972e-05}, {\"value\": \"B-eve\", \"prediction\": \"I-tim\", \"num_cases\": 1, \"pct_cases\": 0.00411522633744856}, {\"value\": \"B-per\", \"prediction\": \"B-eve\", \"num_cases\": 1, \"pct_cases\": 7.304068366079907e-05}, {\"value\": \"B-eve\", \"prediction\": \"B-art\", \"num_cases\": 1, \"pct_cases\": 0.00411522633744856}, {\"value\": \"I-art\", \"prediction\": \"I-tim\", \"num_cases\": 1, \"pct_cases\": 0.004524886877828055}, {\"value\": \"B-art\", \"prediction\": \"B-eve\", \"num_cases\": 1, \"pct_cases\": 0.0031545741324921135}, {\"value\": \"I-tim\", \"prediction\": \"I-eve\", \"num_cases\": 1, \"pct_cases\": 0.00019102196752626553}, {\"value\": \"I-tim\", \"prediction\": \"I-geo\", \"num_cases\": 1, \"pct_cases\": 0.00019102196752626553}, {\"value\": \"I-tim\", \"prediction\": \"B-art\", \"num_cases\": 1, \"pct_cases\": 0.00019102196752626553}, {\"value\": \"B-art\", \"prediction\": \"B-gpe\", \"num_cases\": 1, \"pct_cases\": 0.0031545741324921135}, {\"value\": \"B-art\", \"prediction\": \"I-eve\", \"num_cases\": 1, \"pct_cases\": 0.0031545741324921135}, {\"value\": \"I-art\", \"prediction\": \"B-eve\", \"num_cases\": 1, \"pct_cases\": 0.004524886877828055}, {\"value\": \"I-art\", \"prediction\": \"B-per\", \"num_cases\": 1, \"pct_cases\": 0.004524886877828055}, {\"value\": \"B-eve\", \"prediction\": \"I-per\", \"num_cases\": 1, \"pct_cases\": 0.00411522633744856}, {\"value\": \"I-org\", \"prediction\": \"B-eve\", \"num_cases\": 1, \"pct_cases\": 7.529553497477599e-05}, {\"value\": \"I-nat\", \"prediction\": \"I-per\", \"num_cases\": 1, \"pct_cases\": 0.023809523809523808}, {\"value\": \"I-nat\", \"prediction\": \"I-nat\", \"num_cases\": 1, \"pct_cases\": 0.023809523809523808}, {\"value\": \"B-art\", \"prediction\": \"I-tim\", \"num_cases\": 1, \"pct_cases\": 0.0031545741324921135}, {\"value\": \"B-geo\", \"prediction\": \"B-nat\", \"num_cases\": 1, \"pct_cases\": 3.320714617785747e-05}, {\"value\": \"I-geo\", \"prediction\": \"B-art\", \"num_cases\": 1, \"pct_cases\": 0.0001684352366515075}, {\"value\": \"B-eve\", \"prediction\": \"B-gpe\", \"num_cases\": 1, \"pct_cases\": 0.00411522633744856}, {\"value\": \"I-art\", \"prediction\": \"B-tim\", \"num_cases\": 1, \"pct_cases\": 0.004524886877828055}]}}, {\"mode\": \"vega-lite\"});\n",
       "</script>"
      ],
      "text/plain": [
       "alt.Chart(...)"
      ]
     },
     "metadata": {},
     "output_type": "display_data"
    }
   ],
   "source": [
    "# Evaluate test dataset\n",
    "eval_test = evaluate_corpus(test_seq.seq_list, pred_test, test_seq.y_dict, ignore_tag_code=O_value)"
   ]
  },
  {
   "cell_type": "markdown",
   "metadata": {},
   "source": [
    "## Run the \"tiny test\""
   ]
  },
  {
   "cell_type": "code",
   "execution_count": 30,
   "metadata": {},
   "outputs": [],
   "source": [
    "def predict_sentence(p):\n",
    "    # Create a seq object with empty tags\n",
    "    new_seq = skseq.sequences.sequence.Sequence(x=p.split(), y=[int(0) for w in p.split()])\n",
    "    return sp.viterbi_decode(new_seq)[0].to_words(train_seq, only_tag_translation=True)"
   ]
  },
  {
   "cell_type": "code",
   "execution_count": 31,
   "metadata": {},
   "outputs": [
    {
     "data": {
      "text/plain": [
       "'The/O programmers/O from/O Barcelona/B-geo might/O write/O a/O sentence/O without/O a/O spell/B-art checker./I-art '"
      ]
     },
     "execution_count": 31,
     "metadata": {},
     "output_type": "execute_result"
    }
   ],
   "source": [
    "predict_sentence(\"The programmers from Barcelona might write a sentence without a spell checker.\")"
   ]
  },
  {
   "cell_type": "code",
   "execution_count": 32,
   "metadata": {},
   "outputs": [
    {
     "data": {
      "text/plain": [
       "'The/O programmers/O from/O Barchelona/O cannot/O write/O a/O sentence/O without/O a/O spell/B-art checker./I-art '"
      ]
     },
     "execution_count": 32,
     "metadata": {},
     "output_type": "execute_result"
    }
   ],
   "source": [
    "predict_sentence(\"The programmers from Barchelona cannot write a sentence without a spell checker.\")"
   ]
  },
  {
   "cell_type": "code",
   "execution_count": 33,
   "metadata": {},
   "outputs": [
    {
     "data": {
      "text/plain": [
       "'Jack/B-per London/B-geo went/O to/O Parris./O '"
      ]
     },
     "execution_count": 33,
     "metadata": {},
     "output_type": "execute_result"
    }
   ],
   "source": [
    "predict_sentence(\"Jack London went to Parris.\")"
   ]
  },
  {
   "cell_type": "code",
   "execution_count": 34,
   "metadata": {},
   "outputs": [
    {
     "data": {
      "text/plain": [
       "'Jack/B-per London/B-geo went/O to/O Paris./O '"
      ]
     },
     "execution_count": 34,
     "metadata": {},
     "output_type": "execute_result"
    }
   ],
   "source": [
    "predict_sentence(\"Jack London went to Paris.\")"
   ]
  },
  {
   "cell_type": "code",
   "execution_count": 35,
   "metadata": {},
   "outputs": [
    {
     "data": {
      "text/plain": [
       "'Bill/B-per gates/O and/O Steve/B-per jobs/O never/O though/O Microsoft/B-org would/O become/O such/O a/O big/O company./O '"
      ]
     },
     "execution_count": 35,
     "metadata": {},
     "output_type": "execute_result"
    }
   ],
   "source": [
    "predict_sentence(\"Bill gates and Steve jobs never though Microsoft would become such a big company.\")"
   ]
  },
  {
   "cell_type": "code",
   "execution_count": 36,
   "metadata": {},
   "outputs": [
    {
     "data": {
      "text/plain": [
       "'Bill/B-per Gates/I-per and/O Steve/B-per Jobs/I-per never/O though/O Microsof/O would/O become/O such/O a/O big/O company./O '"
      ]
     },
     "execution_count": 36,
     "metadata": {},
     "output_type": "execute_result"
    }
   ],
   "source": [
    "predict_sentence(\"Bill Gates and Steve Jobs never though Microsof would become such a big company.\")"
   ]
  },
  {
   "cell_type": "code",
   "execution_count": 37,
   "metadata": {},
   "outputs": [
    {
     "data": {
      "text/plain": [
       "'The/O president/O of/O U.S.A/O though/O they/O could/O win/O the/O war./O '"
      ]
     },
     "execution_count": 37,
     "metadata": {},
     "output_type": "execute_result"
    }
   ],
   "source": [
    "predict_sentence(\"The president of U.S.A though they could win the war.\")"
   ]
  },
  {
   "cell_type": "code",
   "execution_count": 38,
   "metadata": {},
   "outputs": [
    {
     "data": {
      "text/plain": [
       "'The/O president/O of/O the/O United/B-geo States/I-geo of/O America/B-geo though/O they/O could/O win/O the/O war./O '"
      ]
     },
     "execution_count": 38,
     "metadata": {},
     "output_type": "execute_result"
    }
   ],
   "source": [
    "predict_sentence(\"The president of the United States of America though they could win the war.\")"
   ]
  },
  {
   "cell_type": "code",
   "execution_count": 39,
   "metadata": {},
   "outputs": [
    {
     "data": {
      "text/plain": [
       "'The/O king/O of/O Saudi/B-geo Arabia/I-geo wanted/O total/O control./O '"
      ]
     },
     "execution_count": 39,
     "metadata": {},
     "output_type": "execute_result"
    }
   ],
   "source": [
    "predict_sentence(\"The king of Saudi Arabia wanted total control.\")"
   ]
  },
  {
   "cell_type": "code",
   "execution_count": 40,
   "metadata": {},
   "outputs": [
    {
     "data": {
      "text/plain": [
       "'Robin/O does/O not/O want/O to/O go/O to/O Saudi/B-art Arabia./I-art '"
      ]
     },
     "execution_count": 40,
     "metadata": {},
     "output_type": "execute_result"
    }
   ],
   "source": [
    "predict_sentence(\"Robin does not want to go to Saudi Arabia.\")"
   ]
  },
  {
   "cell_type": "code",
   "execution_count": 41,
   "metadata": {},
   "outputs": [
    {
     "data": {
      "text/plain": [
       "'Apple/O is/O a/O great/O company./O '"
      ]
     },
     "execution_count": 41,
     "metadata": {},
     "output_type": "execute_result"
    }
   ],
   "source": [
    "predict_sentence(\"Apple is a great company.\")"
   ]
  },
  {
   "cell_type": "code",
   "execution_count": 42,
   "metadata": {},
   "outputs": [
    {
     "data": {
      "text/plain": [
       "'I/O really/O love/O apples/O and/O oranges./O '"
      ]
     },
     "execution_count": 42,
     "metadata": {},
     "output_type": "execute_result"
    }
   ],
   "source": [
    "predict_sentence(\"I really love apples and oranges.\")"
   ]
  },
  {
   "cell_type": "code",
   "execution_count": 43,
   "metadata": {},
   "outputs": [
    {
     "data": {
      "text/plain": [
       "'Alice/O and/O Henry/B-per went/O to/O the/O Microsoft/B-org store/O to/O buy/O a/O new/O computer/O during/O their/O trip/O to/O New/B-org York./I-org '"
      ]
     },
     "execution_count": 43,
     "metadata": {},
     "output_type": "execute_result"
    }
   ],
   "source": [
    "predict_sentence(\"Alice and Henry went to the Microsoft store to buy a new computer during their trip to New York.\")"
   ]
  }
 ],
 "metadata": {
  "kernelspec": {
   "display_name": "Python 3 (ipykernel)",
   "language": "python",
   "name": "python3"
  },
  "language_info": {
   "codemirror_mode": {
    "name": "ipython",
    "version": 3
   },
   "file_extension": ".py",
   "mimetype": "text/x-python",
   "name": "python",
   "nbconvert_exporter": "python",
   "pygments_lexer": "ipython3",
   "version": "3.8.13"
  },
  "toc": {
   "base_numbering": 1,
   "nav_menu": {},
   "number_sections": true,
   "sideBar": true,
   "skip_h1_title": false,
   "title_cell": "Table of Contents",
   "title_sidebar": "Contents",
   "toc_cell": false,
   "toc_position": {},
   "toc_section_display": true,
   "toc_window_display": false
  }
 },
 "nbformat": 4,
 "nbformat_minor": 4
}
