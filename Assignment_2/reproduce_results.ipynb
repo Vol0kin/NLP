{
 "cells": [
  {
   "cell_type": "markdown",
   "metadata": {},
   "source": [
    "### Imports"
   ]
  },
  {
   "cell_type": "code",
   "execution_count": 1,
   "metadata": {
    "ExecuteTime": {
     "end_time": "2020-05-12T14:44:48.896179Z",
     "start_time": "2020-05-12T14:44:48.649812Z"
    }
   },
   "outputs": [],
   "source": [
    "%matplotlib inline\n",
    "%load_ext autoreload\n",
    "%autoreload 2"
   ]
  },
  {
   "cell_type": "code",
   "execution_count": 2,
   "metadata": {
    "ExecuteTime": {
     "end_time": "2020-05-12T14:44:49.049052Z",
     "start_time": "2020-05-12T14:44:48.998738Z"
    }
   },
   "outputs": [],
   "source": [
    "import scipy\n",
    "import numpy as np\n",
    "import pandas as pd\n",
    "import os,sys,inspect"
   ]
  },
  {
   "cell_type": "code",
   "execution_count": 3,
   "metadata": {
    "ExecuteTime": {
     "end_time": "2020-05-12T14:44:49.173923Z",
     "start_time": "2020-05-12T14:44:49.148685Z"
    }
   },
   "outputs": [],
   "source": [
    "# The skseq library must be previously installed. Here we assume it is in '../skseq'\n",
    "sys.path.insert(0,'../') \n",
    "import skseq\n",
    "\n",
    "from skseq.sequences.sequence import Sequence\n",
    "from skseq.sequences.sequence_list import SequenceList\n",
    "\n",
    "from skseq.sequences.label_dictionary import LabelDictionary\n",
    "\n",
    "import skseq.sequences.structured_perceptron as spc"
   ]
  },
  {
   "cell_type": "code",
   "execution_count": 27,
   "metadata": {},
   "outputs": [],
   "source": [
    "from utils.utils import evaluate_corpus"
   ]
  },
  {
   "cell_type": "markdown",
   "metadata": {},
   "source": [
    "### Load data"
   ]
  },
  {
   "cell_type": "code",
   "execution_count": 5,
   "metadata": {},
   "outputs": [
    {
     "name": "stdout",
     "output_type": "stream",
     "text": [
      "(839149, 3)\n"
     ]
    }
   ],
   "source": [
    "df_train = pd.read_csv('data/train_data_ner.csv')\n",
    "print(df_train.shape)"
   ]
  },
  {
   "cell_type": "code",
   "execution_count": 6,
   "metadata": {},
   "outputs": [
    {
     "name": "stdout",
     "output_type": "stream",
     "text": [
      "(837339, 3)\n"
     ]
    },
    {
     "data": {
      "text/html": [
       "<div>\n",
       "<style scoped>\n",
       "    .dataframe tbody tr th:only-of-type {\n",
       "        vertical-align: middle;\n",
       "    }\n",
       "\n",
       "    .dataframe tbody tr th {\n",
       "        vertical-align: top;\n",
       "    }\n",
       "\n",
       "    .dataframe thead th {\n",
       "        text-align: right;\n",
       "    }\n",
       "</style>\n",
       "<table border=\"1\" class=\"dataframe\">\n",
       "  <thead>\n",
       "    <tr style=\"text-align: right;\">\n",
       "      <th></th>\n",
       "      <th>sentence_id</th>\n",
       "      <th>words</th>\n",
       "      <th>tags</th>\n",
       "    </tr>\n",
       "  </thead>\n",
       "  <tbody>\n",
       "    <tr>\n",
       "      <th>0</th>\n",
       "      <td>1</td>\n",
       "      <td>Iranian</td>\n",
       "      <td>B-gpe</td>\n",
       "    </tr>\n",
       "    <tr>\n",
       "      <th>1</th>\n",
       "      <td>1</td>\n",
       "      <td>officials</td>\n",
       "      <td>O</td>\n",
       "    </tr>\n",
       "    <tr>\n",
       "      <th>2</th>\n",
       "      <td>1</td>\n",
       "      <td>say</td>\n",
       "      <td>O</td>\n",
       "    </tr>\n",
       "    <tr>\n",
       "      <th>3</th>\n",
       "      <td>1</td>\n",
       "      <td>they</td>\n",
       "      <td>O</td>\n",
       "    </tr>\n",
       "    <tr>\n",
       "      <th>4</th>\n",
       "      <td>1</td>\n",
       "      <td>expect</td>\n",
       "      <td>O</td>\n",
       "    </tr>\n",
       "  </tbody>\n",
       "</table>\n",
       "</div>"
      ],
      "text/plain": [
       "   sentence_id      words   tags\n",
       "0            1    Iranian  B-gpe\n",
       "1            1  officials      O\n",
       "2            1        say      O\n",
       "3            1       they      O\n",
       "4            1     expect      O"
      ]
     },
     "execution_count": 6,
     "metadata": {},
     "output_type": "execute_result"
    }
   ],
   "source": [
    "df_test = pd.read_csv('data/test_data_ner.csv')\n",
    "print(df_test.shape)\n",
    "df_test.head(5)"
   ]
  },
  {
   "cell_type": "markdown",
   "metadata": {},
   "source": [
    "### Dictionaries"
   ]
  },
  {
   "cell_type": "code",
   "execution_count": 7,
   "metadata": {},
   "outputs": [
    {
     "name": "stdout",
     "output_type": "stream",
     "text": [
      "Number of distinct tags: 17\n"
     ]
    },
    {
     "data": {
      "text/plain": [
       "{'I-nat': 0,\n",
       " 'B-per': 1,\n",
       " 'I-geo': 2,\n",
       " 'B-nat': 3,\n",
       " 'O': 4,\n",
       " 'I-org': 5,\n",
       " 'B-art': 6,\n",
       " 'I-art': 7,\n",
       " 'I-tim': 8,\n",
       " 'B-org': 9,\n",
       " 'I-per': 10,\n",
       " 'I-gpe': 11,\n",
       " 'B-eve': 12,\n",
       " 'I-eve': 13,\n",
       " 'B-gpe': 14,\n",
       " 'B-geo': 15,\n",
       " 'B-tim': 16}"
      ]
     },
     "execution_count": 7,
     "metadata": {},
     "output_type": "execute_result"
    }
   ],
   "source": [
    "# We assume that the training data includes all possible tags that may exist (17 tags)\n",
    "\n",
    "tag_dict = LabelDictionary(label_names=set(df_train.tags))\n",
    "print('Number of distinct tags:', len(tag_dict))\n",
    "tag_dict"
   ]
  },
  {
   "cell_type": "code",
   "execution_count": 8,
   "metadata": {},
   "outputs": [
    {
     "name": "stdout",
     "output_type": "stream",
     "text": [
      "Number of distinct words: 55145\n"
     ]
    }
   ],
   "source": [
    "# For the word dictionary, we are including both the words in train and test. \n",
    "# Otherwise there will be an error when creating a SequenceList with the test dataset.\n",
    "# This should not be a problem, since the model is trained with training data only, so\n",
    "# it will not use those words.\n",
    "\n",
    "# word_dict = LabelDictionary(label_names=set(df_train.words))\n",
    "word_dict = LabelDictionary(label_names=(set(df_train.words) | set(df_test.words)))  # Union of train and test sets of words\n",
    "print('Number of distinct words:', len(word_dict))"
   ]
  },
  {
   "cell_type": "markdown",
   "metadata": {},
   "source": [
    "### Build train_seq and test_seq"
   ]
  },
  {
   "cell_type": "code",
   "execution_count": 9,
   "metadata": {},
   "outputs": [
    {
     "name": "stdout",
     "output_type": "stream",
     "text": [
      "CPU times: user 53.4 s, sys: 353 ms, total: 53.7 s\n",
      "Wall time: 53.6 s\n"
     ]
    }
   ],
   "source": [
    "%%time\n",
    "\n",
    "# Build sequence_list object with train data\n",
    "\n",
    "train_seq = SequenceList(word_dict, tag_dict)\n",
    "\n",
    "for sentence_id, group in df_train.groupby('sentence_id'):\n",
    "    seq_x = []\n",
    "    seq_y = []\n",
    "    for i in range(len(group)):\n",
    "        seq_x.append(group.iloc[i].words)\n",
    "        seq_y.append(group.iloc[i].tags)\n",
    "    train_seq.add_sequence(seq_x, seq_y, train_seq.x_dict, train_seq.y_dict)\n"
   ]
  },
  {
   "cell_type": "code",
   "execution_count": 10,
   "metadata": {},
   "outputs": [
    {
     "name": "stdout",
     "output_type": "stream",
     "text": [
      "CPU times: user 53.4 s, sys: 222 ms, total: 53.6 s\n",
      "Wall time: 53.5 s\n"
     ]
    }
   ],
   "source": [
    "%%time\n",
    "\n",
    "# Build sequence_list object with test data\n",
    "\n",
    "test_seq = SequenceList(word_dict, tag_dict)\n",
    "\n",
    "for sentence_id, group in df_test.groupby('sentence_id'):\n",
    "    seq_x = []\n",
    "    seq_y = []\n",
    "    for i in range(len(group)):\n",
    "        seq_x.append(group.iloc[i].words)\n",
    "        seq_y.append(group.iloc[i].tags)\n",
    "    test_seq.add_sequence(seq_x, seq_y, test_seq.x_dict, test_seq.y_dict)\n"
   ]
  },
  {
   "cell_type": "code",
   "execution_count": 11,
   "metadata": {
    "ExecuteTime": {
     "end_time": "2020-05-12T14:45:00.787327Z",
     "start_time": "2020-05-12T14:45:00.771264Z"
    }
   },
   "outputs": [
    {
     "data": {
      "text/plain": [
       "(38366, 38367)"
      ]
     },
     "execution_count": 11,
     "metadata": {},
     "output_type": "execute_result"
    }
   ],
   "source": [
    "# Number of sequences in train and test\n",
    "len(train_seq), len(test_seq)"
   ]
  },
  {
   "cell_type": "code",
   "execution_count": 12,
   "metadata": {
    "ExecuteTime": {
     "end_time": "2020-05-12T14:45:01.866931Z",
     "start_time": "2020-05-12T14:45:01.851802Z"
    }
   },
   "outputs": [
    {
     "data": {
      "text/plain": [
       "(55145, 55145)"
      ]
     },
     "execution_count": 12,
     "metadata": {},
     "output_type": "execute_result"
    }
   ],
   "source": [
    "# vocabulary size\n",
    "len(train_seq.x_dict), len(test_seq.x_dict)"
   ]
  },
  {
   "cell_type": "code",
   "execution_count": 13,
   "metadata": {},
   "outputs": [
    {
     "data": {
      "text/plain": [
       "9504/4 6457/4 34759/4 29132/4 4975/4 48564/4 34608/15 35297/4 16790/4 10114/4 48592/4 21341/4 28205/15 22707/4 24069/4 10114/4 14295/4 6457/4 1115/14 640/4 16736/4 966/4 53397/4 50892/4 "
      ]
     },
     "execution_count": 13,
     "metadata": {},
     "output_type": "execute_result"
    }
   ],
   "source": [
    "train_seq[0]"
   ]
  },
  {
   "cell_type": "code",
   "execution_count": 14,
   "metadata": {},
   "outputs": [
    {
     "data": {
      "text/plain": [
       "'Thousands/O of/O demonstrators/O have/O marched/O through/O London/B-geo to/O protest/O the/O war/O in/O Iraq/B-geo and/O demand/O the/O withdrawal/O of/O British/B-gpe troops/O from/O that/O country/O ./O '"
      ]
     },
     "execution_count": 14,
     "metadata": {},
     "output_type": "execute_result"
    }
   ],
   "source": [
    "train_seq[0].to_words(sequence_list=train_seq)"
   ]
  },
  {
   "cell_type": "markdown",
   "metadata": {},
   "source": [
    "### Get feature mapper (from training data)"
   ]
  },
  {
   "cell_type": "code",
   "execution_count": 15,
   "metadata": {},
   "outputs": [],
   "source": [
    "feature_mapper = skseq.sequences.id_feature.IDFeatures(train_seq)\n",
    "feature_mapper.build_features()"
   ]
  },
  {
   "cell_type": "markdown",
   "metadata": {},
   "source": [
    "### Load saved model"
   ]
  },
  {
   "cell_type": "code",
   "execution_count": 16,
   "metadata": {},
   "outputs": [],
   "source": [
    "sp = spc.StructuredPerceptron(word_dict, tag_dict, feature_mapper)"
   ]
  },
  {
   "cell_type": "code",
   "execution_count": 17,
   "metadata": {},
   "outputs": [],
   "source": [
    "sp.load_model(dir=\"fitted_models/model1\")"
   ]
  },
  {
   "cell_type": "markdown",
   "metadata": {},
   "source": [
    "## Evaluate model"
   ]
  },
  {
   "cell_type": "code",
   "execution_count": 18,
   "metadata": {},
   "outputs": [
    {
     "name": "stdout",
     "output_type": "stream",
     "text": [
      "CPU times: user 2min 30s, sys: 1.22 s, total: 2min 31s\n",
      "Wall time: 7min 8s\n"
     ]
    }
   ],
   "source": [
    "%%time\n",
    "pred_train = sp.viterbi_decode_corpus(train_seq)"
   ]
  },
  {
   "cell_type": "code",
   "execution_count": 19,
   "metadata": {},
   "outputs": [
    {
     "name": "stdout",
     "output_type": "stream",
     "text": [
      "CPU times: user 2min 27s, sys: 582 ms, total: 2min 28s\n",
      "Wall time: 2min 28s\n"
     ]
    }
   ],
   "source": [
    "%%time\n",
    "pred_test = sp.viterbi_decode_corpus(test_seq)"
   ]
  },
  {
   "cell_type": "code",
   "execution_count": 28,
   "metadata": {},
   "outputs": [
    {
     "name": "stdout",
     "output_type": "stream",
     "text": [
      "Accuracy: 0.963\n",
      "Weighted F1 score: 0.962\n",
      "Accuracy (ignore tag excluded): 0.805\n",
      "Weighted F1 score (ignore tag excluded): 0.839\n"
     ]
    },
    {
     "data": {
      "text/html": [
       "\n",
       "<div id=\"altair-viz-26a6c9a5426d45219340f3fc62fdf858\"></div>\n",
       "<script type=\"text/javascript\">\n",
       "  var VEGA_DEBUG = (typeof VEGA_DEBUG == \"undefined\") ? {} : VEGA_DEBUG;\n",
       "  (function(spec, embedOpt){\n",
       "    let outputDiv = document.currentScript.previousElementSibling;\n",
       "    if (outputDiv.id !== \"altair-viz-26a6c9a5426d45219340f3fc62fdf858\") {\n",
       "      outputDiv = document.getElementById(\"altair-viz-26a6c9a5426d45219340f3fc62fdf858\");\n",
       "    }\n",
       "    const paths = {\n",
       "      \"vega\": \"https://cdn.jsdelivr.net/npm//vega@5?noext\",\n",
       "      \"vega-lib\": \"https://cdn.jsdelivr.net/npm//vega-lib?noext\",\n",
       "      \"vega-lite\": \"https://cdn.jsdelivr.net/npm//vega-lite@4.17.0?noext\",\n",
       "      \"vega-embed\": \"https://cdn.jsdelivr.net/npm//vega-embed@6?noext\",\n",
       "    };\n",
       "\n",
       "    function maybeLoadScript(lib, version) {\n",
       "      var key = `${lib.replace(\"-\", \"\")}_version`;\n",
       "      return (VEGA_DEBUG[key] == version) ?\n",
       "        Promise.resolve(paths[lib]) :\n",
       "        new Promise(function(resolve, reject) {\n",
       "          var s = document.createElement('script');\n",
       "          document.getElementsByTagName(\"head\")[0].appendChild(s);\n",
       "          s.async = true;\n",
       "          s.onload = () => {\n",
       "            VEGA_DEBUG[key] = version;\n",
       "            return resolve(paths[lib]);\n",
       "          };\n",
       "          s.onerror = () => reject(`Error loading script: ${paths[lib]}`);\n",
       "          s.src = paths[lib];\n",
       "        });\n",
       "    }\n",
       "\n",
       "    function showError(err) {\n",
       "      outputDiv.innerHTML = `<div class=\"error\" style=\"color:red;\">${err}</div>`;\n",
       "      throw err;\n",
       "    }\n",
       "\n",
       "    function displayChart(vegaEmbed) {\n",
       "      vegaEmbed(outputDiv, spec, embedOpt)\n",
       "        .catch(err => showError(`Javascript Error: ${err.message}<br>This usually means there's a typo in your chart specification. See the javascript console for the full traceback.`));\n",
       "    }\n",
       "\n",
       "    if(typeof define === \"function\" && define.amd) {\n",
       "      requirejs.config({paths});\n",
       "      require([\"vega-embed\"], displayChart, err => showError(`Error loading script: ${err.message}`));\n",
       "    } else {\n",
       "      maybeLoadScript(\"vega\", \"5\")\n",
       "        .then(() => maybeLoadScript(\"vega-lite\", \"4.17.0\"))\n",
       "        .then(() => maybeLoadScript(\"vega-embed\", \"6\"))\n",
       "        .catch(showError)\n",
       "        .then(() => displayChart(vegaEmbed));\n",
       "    }\n",
       "  })({\"config\": {\"view\": {\"continuousWidth\": 400, \"continuousHeight\": 300}}, \"data\": {\"name\": \"data-b04399f913ecb4461c310da124080b43\"}, \"mark\": \"circle\", \"encoding\": {\"color\": {\"field\": \"pct_cases\", \"scale\": {\"domain\": [0, 1], \"scheme\": \"redblue\"}, \"type\": \"quantitative\"}, \"size\": {\"field\": \"pct_cases\", \"legend\": {\"title\": \"Percentage of words\"}, \"scale\": {\"domain\": [0, 1]}, \"type\": \"quantitative\"}, \"tooltip\": [{\"field\": \"value\", \"type\": \"nominal\"}, {\"field\": \"prediction\", \"type\": \"nominal\"}, {\"field\": \"pct_cases\", \"format\": \".2%\", \"type\": \"quantitative\"}, {\"field\": \"num_cases\", \"type\": \"quantitative\"}], \"x\": {\"field\": \"prediction\", \"type\": \"ordinal\"}, \"y\": {\"field\": \"value\", \"type\": \"ordinal\"}}, \"$schema\": \"https://vega.github.io/schema/vega-lite/v4.17.0.json\", \"datasets\": {\"data-b04399f913ecb4461c310da124080b43\": [{\"value\": \"O\", \"prediction\": \"O\", \"num_cases\": 704440, \"pct_cases\": 0.9916229231507719}, {\"value\": \"B-geo\", \"prediction\": \"B-geo\", \"num_cases\": 26051, \"pct_cases\": 0.865108092850264}, {\"value\": \"B-tim\", \"prediction\": \"B-tim\", \"num_cases\": 12287, \"pct_cases\": 0.7530183244468959}, {\"value\": \"B-org\", \"prediction\": \"B-org\", \"num_cases\": 11676, \"pct_cases\": 0.7240032244062752}, {\"value\": \"B-per\", \"prediction\": \"B-per\", \"num_cases\": 11531, \"pct_cases\": 0.8498673349056604}, {\"value\": \"B-gpe\", \"prediction\": \"B-gpe\", \"num_cases\": 11496, \"pct_cases\": 0.9024256221053458}, {\"value\": \"I-per\", \"prediction\": \"I-per\", \"num_cases\": 11389, \"pct_cases\": 0.822607439508848}, {\"value\": \"I-org\", \"prediction\": \"I-org\", \"num_cases\": 10333, \"pct_cases\": 0.7639361230223274}, {\"value\": \"I-geo\", \"prediction\": \"I-geo\", \"num_cases\": 4402, \"pct_cases\": 0.7463546965072906}, {\"value\": \"I-tim\", \"prediction\": \"I-tim\", \"num_cases\": 3973, \"pct_cases\": 0.7556104982883226}, {\"value\": \"B-tim\", \"prediction\": \"O\", \"num_cases\": 2967, \"pct_cases\": 0.1818348961206104}, {\"value\": \"B-org\", \"prediction\": \"B-geo\", \"num_cases\": 2071, \"pct_cases\": 0.12841818069076705}, {\"value\": \"B-geo\", \"prediction\": \"O\", \"num_cases\": 1725, \"pct_cases\": 0.057284229402583604}, {\"value\": \"I-org\", \"prediction\": \"O\", \"num_cases\": 1471, \"pct_cases\": 0.10875351175513825}, {\"value\": \"B-org\", \"prediction\": \"O\", \"num_cases\": 1442, \"pct_cases\": 0.08941526632355677}, {\"value\": \"B-geo\", \"prediction\": \"B-org\", \"num_cases\": 1370, \"pct_cases\": 0.04549530103277654}, {\"value\": \"O\", \"prediction\": \"B-org\", \"num_cases\": 1247, \"pct_cases\": 0.0017553713377562498}, {\"value\": \"O\", \"prediction\": \"I-org\", \"num_cases\": 1181, \"pct_cases\": 0.0016624647553248845}, {\"value\": \"I-tim\", \"prediction\": \"O\", \"num_cases\": 954, \"pct_cases\": 0.18143780905287182}, {\"value\": \"O\", \"prediction\": \"B-tim\", \"num_cases\": 841, \"pct_cases\": 0.0011838550882542149}, {\"value\": \"B-per\", \"prediction\": \"O\", \"num_cases\": 837, \"pct_cases\": 0.06168926886792453}, {\"value\": \"O\", \"prediction\": \"B-per\", \"num_cases\": 816, \"pct_cases\": 0.001148663200969607}, {\"value\": \"O\", \"prediction\": \"I-tim\", \"num_cases\": 798, \"pct_cases\": 0.001123325042124689}, {\"value\": \"I-per\", \"prediction\": \"B-per\", \"num_cases\": 768, \"pct_cases\": 0.055471289274106175}, {\"value\": \"B-tim\", \"prediction\": \"I-tim\", \"num_cases\": 766, \"pct_cases\": 0.04694490408776123}, {\"value\": \"I-org\", \"prediction\": \"B-org\", \"num_cases\": 722, \"pct_cases\": 0.053378678101434276}, {\"value\": \"I-per\", \"prediction\": \"O\", \"num_cases\": 720, \"pct_cases\": 0.05200433369447454}, {\"value\": \"O\", \"prediction\": \"B-geo\", \"num_cases\": 709, \"pct_cases\": 0.0009980419233914844}, {\"value\": \"B-gpe\", \"prediction\": \"B-geo\", \"num_cases\": 611, \"pct_cases\": 0.0479629484260931}, {\"value\": \"I-geo\", \"prediction\": \"I-org\", \"num_cases\": 580, \"pct_cases\": 0.09833841980332315}, {\"value\": \"B-per\", \"prediction\": \"B-org\", \"num_cases\": 559, \"pct_cases\": 0.0411998820754717}, {\"value\": \"I-per\", \"prediction\": \"I-org\", \"num_cases\": 503, \"pct_cases\": 0.036330805344889854}, {\"value\": \"I-geo\", \"prediction\": \"B-geo\", \"num_cases\": 423, \"pct_cases\": 0.07171922685656154}, {\"value\": \"B-geo\", \"prediction\": \"B-per\", \"num_cases\": 418, \"pct_cases\": 0.0138810480523362}, {\"value\": \"B-org\", \"prediction\": \"B-per\", \"num_cases\": 353, \"pct_cases\": 0.02188875798350592}, {\"value\": \"B-per\", \"prediction\": \"B-geo\", \"num_cases\": 344, \"pct_cases\": 0.02535377358490566}, {\"value\": \"I-org\", \"prediction\": \"I-geo\", \"num_cases\": 328, \"pct_cases\": 0.024249593375720833}, {\"value\": \"I-geo\", \"prediction\": \"O\", \"num_cases\": 304, \"pct_cases\": 0.05154289589691421}, {\"value\": \"B-gpe\", \"prediction\": \"B-org\", \"num_cases\": 279, \"pct_cases\": 0.02190124813564644}, {\"value\": \"I-org\", \"prediction\": \"B-geo\", \"num_cases\": 272, \"pct_cases\": 0.020109418896939228}, {\"value\": \"B-org\", \"prediction\": \"I-org\", \"num_cases\": 235, \"pct_cases\": 0.01457183605134247}, {\"value\": \"I-tim\", \"prediction\": \"B-tim\", \"num_cases\": 221, \"pct_cases\": 0.04203119056675542}, {\"value\": \"B-gpe\", \"prediction\": \"O\", \"num_cases\": 221, \"pct_cases\": 0.017348300494544312}, {\"value\": \"I-org\", \"prediction\": \"I-per\", \"num_cases\": 214, \"pct_cases\": 0.015821381043915422}, {\"value\": \"B-geo\", \"prediction\": \"I-geo\", \"num_cases\": 213, \"pct_cases\": 0.007073357021884236}, {\"value\": \"B-org\", \"prediction\": \"I-per\", \"num_cases\": 199, \"pct_cases\": 0.012339554783902772}, {\"value\": \"I-per\", \"prediction\": \"B-geo\", \"num_cases\": 182, \"pct_cases\": 0.013145539906103286}, {\"value\": \"B-per\", \"prediction\": \"I-per\", \"num_cases\": 165, \"pct_cases\": 0.012160966981132075}, {\"value\": \"I-per\", \"prediction\": \"I-geo\", \"num_cases\": 137, \"pct_cases\": 0.009895269050198628}, {\"value\": \"B-tim\", \"prediction\": \"B-geo\", \"num_cases\": 124, \"pct_cases\": 0.007599436170864743}, {\"value\": \"B-tim\", \"prediction\": \"B-org\", \"num_cases\": 118, \"pct_cases\": 0.007231721517435803}, {\"value\": \"I-org\", \"prediction\": \"B-per\", \"num_cases\": 116, \"pct_cases\": 0.008576075706047612}, {\"value\": \"B-art\", \"prediction\": \"O\", \"num_cases\": 114, \"pct_cases\": 0.3630573248407643}, {\"value\": \"I-geo\", \"prediction\": \"I-per\", \"num_cases\": 112, \"pct_cases\": 0.018989487962021025}, {\"value\": \"B-eve\", \"prediction\": \"B-eve\", \"num_cases\": 103, \"pct_cases\": 0.42213114754098363}, {\"value\": \"B-geo\", \"prediction\": \"B-tim\", \"num_cases\": 103, \"pct_cases\": 0.0034204496396904992}, {\"value\": \"O\", \"prediction\": \"I-geo\", \"num_cases\": 101, \"pct_cases\": 0.00014217522462981654}, {\"value\": \"B-per\", \"prediction\": \"I-org\", \"num_cases\": 93, \"pct_cases\": 0.00685436320754717}, {\"value\": \"B-geo\", \"prediction\": \"I-per\", \"num_cases\": 88, \"pct_cases\": 0.0029223259057549896}, {\"value\": \"I-per\", \"prediction\": \"B-org\", \"num_cases\": 87, \"pct_cases\": 0.00628385698808234}, {\"value\": \"I-gpe\", \"prediction\": \"I-gpe\", \"num_cases\": 87, \"pct_cases\": 0.5403726708074534}, {\"value\": \"B-art\", \"prediction\": \"B-art\", \"num_cases\": 78, \"pct_cases\": 0.2484076433121019}, {\"value\": \"B-org\", \"prediction\": \"B-gpe\", \"num_cases\": 75, \"pct_cases\": 0.004650585973832703}, {\"value\": \"I-eve\", \"prediction\": \"I-eve\", \"num_cases\": 75, \"pct_cases\": 0.36585365853658536}, {\"value\": \"B-gpe\", \"prediction\": \"I-org\", \"num_cases\": 74, \"pct_cases\": 0.005808933197268232}, {\"value\": \"B-geo\", \"prediction\": \"I-org\", \"num_cases\": 73, \"pct_cases\": 0.00242420217181948}, {\"value\": \"I-art\", \"prediction\": \"I-art\", \"num_cases\": 72, \"pct_cases\": 0.2975206611570248}, {\"value\": \"B-nat\", \"prediction\": \"O\", \"num_cases\": 71, \"pct_cases\": 0.45222929936305734}, {\"value\": \"O\", \"prediction\": \"I-per\", \"num_cases\": 71, \"pct_cases\": 9.994495988828687e-05}, {\"value\": \"B-nat\", \"prediction\": \"B-nat\", \"num_cases\": 64, \"pct_cases\": 0.40764331210191085}, {\"value\": \"I-art\", \"prediction\": \"I-org\", \"num_cases\": 63, \"pct_cases\": 0.2603305785123967}, {\"value\": \"B-art\", \"prediction\": \"B-org\", \"num_cases\": 56, \"pct_cases\": 0.17834394904458598}, {\"value\": \"B-geo\", \"prediction\": \"B-gpe\", \"num_cases\": 52, \"pct_cases\": 0.0017268289443097666}, {\"value\": \"I-eve\", \"prediction\": \"I-org\", \"num_cases\": 52, \"pct_cases\": 0.25365853658536586}, {\"value\": \"O\", \"prediction\": \"B-gpe\", \"num_cases\": 51, \"pct_cases\": 7.179145006060043e-05}, {\"value\": \"I-art\", \"prediction\": \"O\", \"num_cases\": 50, \"pct_cases\": 0.2066115702479339}, {\"value\": \"B-eve\", \"prediction\": \"B-org\", \"num_cases\": 49, \"pct_cases\": 0.20081967213114754}, {\"value\": \"I-geo\", \"prediction\": \"B-org\", \"num_cases\": 42, \"pct_cases\": 0.007121057985757884}, {\"value\": \"I-gpe\", \"prediction\": \"I-geo\", \"num_cases\": 41, \"pct_cases\": 0.2546583850931677}, {\"value\": \"I-tim\", \"prediction\": \"B-geo\", \"num_cases\": 41, \"pct_cases\": 0.007797641688855078}, {\"value\": \"O\", \"prediction\": \"B-nat\", \"num_cases\": 40, \"pct_cases\": 5.6307019655372885e-05}, {\"value\": \"I-tim\", \"prediction\": \"I-org\", \"num_cases\": 33, \"pct_cases\": 0.006276150627615063}, {\"value\": \"B-tim\", \"prediction\": \"B-per\", \"num_cases\": 33, \"pct_cases\": 0.0020224305938591654}, {\"value\": \"B-art\", \"prediction\": \"B-geo\", \"num_cases\": 30, \"pct_cases\": 0.09554140127388536}, {\"value\": \"B-eve\", \"prediction\": \"O\", \"num_cases\": 30, \"pct_cases\": 0.12295081967213115}, {\"value\": \"O\", \"prediction\": \"I-art\", \"num_cases\": 29, \"pct_cases\": 4.0822589250145344e-05}, {\"value\": \"B-gpe\", \"prediction\": \"I-geo\", \"num_cases\": 26, \"pct_cases\": 0.0020409765287699192}, {\"value\": \"O\", \"prediction\": \"B-eve\", \"num_cases\": 25, \"pct_cases\": 3.519188728460805e-05}, {\"value\": \"I-art\", \"prediction\": \"I-geo\", \"num_cases\": 25, \"pct_cases\": 0.10330578512396695}, {\"value\": \"O\", \"prediction\": \"I-eve\", \"num_cases\": 25, \"pct_cases\": 3.519188728460805e-05}, {\"value\": \"I-per\", \"prediction\": \"B-tim\", \"num_cases\": 24, \"pct_cases\": 0.001733477789815818}, {\"value\": \"I-org\", \"prediction\": \"I-tim\", \"num_cases\": 24, \"pct_cases\": 0.0017743604909064026}, {\"value\": \"I-geo\", \"prediction\": \"B-per\", \"num_cases\": 22, \"pct_cases\": 0.003730077992539844}, {\"value\": \"B-org\", \"prediction\": \"B-tim\", \"num_cases\": 21, \"pct_cases\": 0.0013021640726731567}, {\"value\": \"I-per\", \"prediction\": \"B-eve\", \"num_cases\": 21, \"pct_cases\": 0.0015167930660888408}, {\"value\": \"I-org\", \"prediction\": \"B-tim\", \"num_cases\": 21, \"pct_cases\": 0.0015525654295431022}, {\"value\": \"I-nat\", \"prediction\": \"B-nat\", \"num_cases\": 20, \"pct_cases\": 0.45454545454545453}, {\"value\": \"I-eve\", \"prediction\": \"I-tim\", \"num_cases\": 19, \"pct_cases\": 0.09268292682926829}, {\"value\": \"I-eve\", \"prediction\": \"O\", \"num_cases\": 19, \"pct_cases\": 0.09268292682926829}, {\"value\": \"I-tim\", \"prediction\": \"B-org\", \"num_cases\": 19, \"pct_cases\": 0.0036135412704450362}, {\"value\": \"B-org\", \"prediction\": \"B-art\", \"num_cases\": 18, \"pct_cases\": 0.0011161406337198488}, {\"value\": \"B-art\", \"prediction\": \"B-gpe\", \"num_cases\": 17, \"pct_cases\": 0.054140127388535034}, {\"value\": \"O\", \"prediction\": \"B-art\", \"num_cases\": 16, \"pct_cases\": 2.2522807862149155e-05}, {\"value\": \"I-nat\", \"prediction\": \"O\", \"num_cases\": 16, \"pct_cases\": 0.36363636363636365}, {\"value\": \"B-org\", \"prediction\": \"I-geo\", \"num_cases\": 15, \"pct_cases\": 0.0009301171947665406}, {\"value\": \"B-eve\", \"prediction\": \"I-tim\", \"num_cases\": 15, \"pct_cases\": 0.06147540983606557}, {\"value\": \"B-per\", \"prediction\": \"I-geo\", \"num_cases\": 14, \"pct_cases\": 0.0010318396226415094}, {\"value\": \"B-eve\", \"prediction\": \"B-geo\", \"num_cases\": 13, \"pct_cases\": 0.05327868852459016}, {\"value\": \"B-eve\", \"prediction\": \"B-tim\", \"num_cases\": 13, \"pct_cases\": 0.05327868852459016}, {\"value\": \"I-gpe\", \"prediction\": \"I-org\", \"num_cases\": 12, \"pct_cases\": 0.07453416149068323}, {\"value\": \"I-gpe\", \"prediction\": \"B-gpe\", \"num_cases\": 12, \"pct_cases\": 0.07453416149068323}, {\"value\": \"I-eve\", \"prediction\": \"B-eve\", \"num_cases\": 11, \"pct_cases\": 0.05365853658536585}, {\"value\": \"B-tim\", \"prediction\": \"I-per\", \"num_cases\": 11, \"pct_cases\": 0.0006741435312863885}, {\"value\": \"B-geo\", \"prediction\": \"B-nat\", \"num_cases\": 10, \"pct_cases\": 0.0003320824892903397}, {\"value\": \"B-org\", \"prediction\": \"I-tim\", \"num_cases\": 10, \"pct_cases\": 0.0006200781298443603}, {\"value\": \"I-art\", \"prediction\": \"B-org\", \"num_cases\": 10, \"pct_cases\": 0.04132231404958678}, {\"value\": \"B-art\", \"prediction\": \"B-per\", \"num_cases\": 10, \"pct_cases\": 0.03184713375796178}, {\"value\": \"B-gpe\", \"prediction\": \"B-per\", \"num_cases\": 9, \"pct_cases\": 0.0007064918753434335}, {\"value\": \"I-org\", \"prediction\": \"B-gpe\", \"num_cases\": 9, \"pct_cases\": 0.000665385184089901}, {\"value\": \"B-nat\", \"prediction\": \"B-org\", \"num_cases\": 9, \"pct_cases\": 0.05732484076433121}, {\"value\": \"B-per\", \"prediction\": \"B-tim\", \"num_cases\": 9, \"pct_cases\": 0.0006633254716981132}, {\"value\": \"B-gpe\", \"prediction\": \"B-eve\", \"num_cases\": 9, \"pct_cases\": 0.0007064918753434335}, {\"value\": \"B-eve\", \"prediction\": \"B-per\", \"num_cases\": 8, \"pct_cases\": 0.03278688524590164}, {\"value\": \"B-gpe\", \"prediction\": \"B-art\", \"num_cases\": 8, \"pct_cases\": 0.000627992778083052}, {\"value\": \"I-per\", \"prediction\": \"I-tim\", \"num_cases\": 8, \"pct_cases\": 0.000577825929938606}, {\"value\": \"B-org\", \"prediction\": \"I-eve\", \"num_cases\": 8, \"pct_cases\": 0.0004960625038754883}, {\"value\": \"I-tim\", \"prediction\": \"B-per\", \"num_cases\": 8, \"pct_cases\": 0.0015214910612400153}, {\"value\": \"B-geo\", \"prediction\": \"I-tim\", \"num_cases\": 7, \"pct_cases\": 0.0002324577425032378}, {\"value\": \"I-org\", \"prediction\": \"I-eve\", \"num_cases\": 7, \"pct_cases\": 0.0005175218098477007}, {\"value\": \"I-eve\", \"prediction\": \"I-geo\", \"num_cases\": 7, \"pct_cases\": 0.03414634146341464}, {\"value\": \"B-per\", \"prediction\": \"I-tim\", \"num_cases\": 7, \"pct_cases\": 0.0005159198113207547}, {\"value\": \"I-eve\", \"prediction\": \"B-nat\", \"num_cases\": 6, \"pct_cases\": 0.02926829268292683}, {\"value\": \"I-geo\", \"prediction\": \"B-gpe\", \"num_cases\": 6, \"pct_cases\": 0.001017293997965412}, {\"value\": \"I-org\", \"prediction\": \"I-art\", \"num_cases\": 6, \"pct_cases\": 0.00044359012272660064}, {\"value\": \"I-geo\", \"prediction\": \"I-tim\", \"num_cases\": 5, \"pct_cases\": 0.00084774499830451}, {\"value\": \"I-gpe\", \"prediction\": \"O\", \"num_cases\": 5, \"pct_cases\": 0.031055900621118012}, {\"value\": \"I-eve\", \"prediction\": \"B-tim\", \"num_cases\": 5, \"pct_cases\": 0.024390243902439025}, {\"value\": \"I-eve\", \"prediction\": \"B-org\", \"num_cases\": 5, \"pct_cases\": 0.024390243902439025}, {\"value\": \"B-eve\", \"prediction\": \"I-eve\", \"num_cases\": 5, \"pct_cases\": 0.020491803278688523}, {\"value\": \"I-nat\", \"prediction\": \"I-org\", \"num_cases\": 5, \"pct_cases\": 0.11363636363636363}, {\"value\": \"I-art\", \"prediction\": \"I-per\", \"num_cases\": 5, \"pct_cases\": 0.02066115702479339}, {\"value\": \"B-nat\", \"prediction\": \"B-geo\", \"num_cases\": 4, \"pct_cases\": 0.025477707006369428}, {\"value\": \"B-art\", \"prediction\": \"I-org\", \"num_cases\": 4, \"pct_cases\": 0.012738853503184714}, {\"value\": \"B-eve\", \"prediction\": \"I-org\", \"num_cases\": 4, \"pct_cases\": 0.01639344262295082}, {\"value\": \"I-per\", \"prediction\": \"B-gpe\", \"num_cases\": 4, \"pct_cases\": 0.000288912964969303}, {\"value\": \"B-per\", \"prediction\": \"B-eve\", \"num_cases\": 4, \"pct_cases\": 0.00029481132075471697}, {\"value\": \"I-art\", \"prediction\": \"B-art\", \"num_cases\": 4, \"pct_cases\": 0.01652892561983471}, {\"value\": \"B-org\", \"prediction\": \"B-eve\", \"num_cases\": 4, \"pct_cases\": 0.00024803125193774417}, {\"value\": \"I-art\", \"prediction\": \"B-geo\", \"num_cases\": 4, \"pct_cases\": 0.01652892561983471}, {\"value\": \"B-tim\", \"prediction\": \"I-org\", \"num_cases\": 4, \"pct_cases\": 0.00024514310228595945}, {\"value\": \"B-nat\", \"prediction\": \"B-per\", \"num_cases\": 3, \"pct_cases\": 0.01910828025477707}, {\"value\": \"B-geo\", \"prediction\": \"B-art\", \"num_cases\": 3, \"pct_cases\": 9.962474678710192e-05}, {\"value\": \"B-per\", \"prediction\": \"B-art\", \"num_cases\": 3, \"pct_cases\": 0.00022110849056603774}, {\"value\": \"B-tim\", \"prediction\": \"I-geo\", \"num_cases\": 3, \"pct_cases\": 0.00018385732671446958}, {\"value\": \"I-eve\", \"prediction\": \"B-geo\", \"num_cases\": 3, \"pct_cases\": 0.014634146341463415}, {\"value\": \"I-tim\", \"prediction\": \"B-gpe\", \"num_cases\": 3, \"pct_cases\": 0.0005705591479650057}, {\"value\": \"B-art\", \"prediction\": \"B-tim\", \"num_cases\": 3, \"pct_cases\": 0.009554140127388535}, {\"value\": \"I-tim\", \"prediction\": \"I-per\", \"num_cases\": 3, \"pct_cases\": 0.0005705591479650057}, {\"value\": \"I-art\", \"prediction\": \"B-per\", \"num_cases\": 3, \"pct_cases\": 0.012396694214876033}, {\"value\": \"I-art\", \"prediction\": \"I-tim\", \"num_cases\": 2, \"pct_cases\": 0.008264462809917356}, {\"value\": \"I-geo\", \"prediction\": \"B-tim\", \"num_cases\": 2, \"pct_cases\": 0.00033909799932180403}, {\"value\": \"B-eve\", \"prediction\": \"B-nat\", \"num_cases\": 2, \"pct_cases\": 0.00819672131147541}, {\"value\": \"B-gpe\", \"prediction\": \"B-tim\", \"num_cases\": 2, \"pct_cases\": 0.000156998194520763}, {\"value\": \"I-art\", \"prediction\": \"B-tim\", \"num_cases\": 2, \"pct_cases\": 0.008264462809917356}, {\"value\": \"I-tim\", \"prediction\": \"I-geo\", \"num_cases\": 2, \"pct_cases\": 0.0003803727653100038}, {\"value\": \"I-per\", \"prediction\": \"I-art\", \"num_cases\": 2, \"pct_cases\": 0.0001444564824846515}, {\"value\": \"B-tim\", \"prediction\": \"B-nat\", \"num_cases\": 2, \"pct_cases\": 0.00012257155114297973}, {\"value\": \"B-gpe\", \"prediction\": \"I-tim\", \"num_cases\": 2, \"pct_cases\": 0.000156998194520763}, {\"value\": \"B-eve\", \"prediction\": \"B-gpe\", \"num_cases\": 2, \"pct_cases\": 0.00819672131147541}, {\"value\": \"I-eve\", \"prediction\": \"B-per\", \"num_cases\": 2, \"pct_cases\": 0.00975609756097561}, {\"value\": \"B-nat\", \"prediction\": \"B-eve\", \"num_cases\": 2, \"pct_cases\": 0.012738853503184714}, {\"value\": \"I-org\", \"prediction\": \"B-art\", \"num_cases\": 2, \"pct_cases\": 0.0001478633742422002}, {\"value\": \"I-gpe\", \"prediction\": \"B-geo\", \"num_cases\": 2, \"pct_cases\": 0.012422360248447204}, {\"value\": \"I-art\", \"prediction\": \"B-eve\", \"num_cases\": 1, \"pct_cases\": 0.004132231404958678}, {\"value\": \"B-per\", \"prediction\": \"I-art\", \"num_cases\": 1, \"pct_cases\": 7.370283018867924e-05}, {\"value\": \"B-nat\", \"prediction\": \"B-tim\", \"num_cases\": 1, \"pct_cases\": 0.006369426751592357}, {\"value\": \"I-art\", \"prediction\": \"I-eve\", \"num_cases\": 1, \"pct_cases\": 0.004132231404958678}, {\"value\": \"I-tim\", \"prediction\": \"B-nat\", \"num_cases\": 1, \"pct_cases\": 0.0001901863826550019}, {\"value\": \"B-tim\", \"prediction\": \"B-eve\", \"num_cases\": 1, \"pct_cases\": 6.128577557148986e-05}, {\"value\": \"B-tim\", \"prediction\": \"I-eve\", \"num_cases\": 1, \"pct_cases\": 6.128577557148986e-05}, {\"value\": \"I-nat\", \"prediction\": \"I-geo\", \"num_cases\": 1, \"pct_cases\": 0.022727272727272728}, {\"value\": \"I-nat\", \"prediction\": \"I-tim\", \"num_cases\": 1, \"pct_cases\": 0.022727272727272728}, {\"value\": \"I-gpe\", \"prediction\": \"B-org\", \"num_cases\": 1, \"pct_cases\": 0.006211180124223602}, {\"value\": \"B-per\", \"prediction\": \"B-gpe\", \"num_cases\": 1, \"pct_cases\": 7.370283018867924e-05}, {\"value\": \"B-art\", \"prediction\": \"B-eve\", \"num_cases\": 1, \"pct_cases\": 0.0031847133757961785}, {\"value\": \"B-art\", \"prediction\": \"I-tim\", \"num_cases\": 1, \"pct_cases\": 0.0031847133757961785}, {\"value\": \"I-eve\", \"prediction\": \"I-per\", \"num_cases\": 1, \"pct_cases\": 0.004878048780487805}, {\"value\": \"I-gpe\", \"prediction\": \"I-per\", \"num_cases\": 1, \"pct_cases\": 0.006211180124223602}, {\"value\": \"B-nat\", \"prediction\": \"I-org\", \"num_cases\": 1, \"pct_cases\": 0.006369426751592357}, {\"value\": \"B-nat\", \"prediction\": \"B-art\", \"num_cases\": 1, \"pct_cases\": 0.006369426751592357}, {\"value\": \"I-org\", \"prediction\": \"B-eve\", \"num_cases\": 1, \"pct_cases\": 7.39316871211001e-05}, {\"value\": \"B-gpe\", \"prediction\": \"I-gpe\", \"num_cases\": 1, \"pct_cases\": 7.84990972603815e-05}, {\"value\": \"B-gpe\", \"prediction\": \"I-per\", \"num_cases\": 1, \"pct_cases\": 7.84990972603815e-05}, {\"value\": \"B-nat\", \"prediction\": \"I-tim\", \"num_cases\": 1, \"pct_cases\": 0.006369426751592357}, {\"value\": \"O\", \"prediction\": \"I-gpe\", \"num_cases\": 1, \"pct_cases\": 1.4076754913843222e-06}, {\"value\": \"I-nat\", \"prediction\": \"I-nat\", \"num_cases\": 1, \"pct_cases\": 0.022727272727272728}]}}, {\"mode\": \"vega-lite\"});\n",
       "</script>"
      ],
      "text/plain": [
       "alt.Chart(...)"
      ]
     },
     "metadata": {},
     "output_type": "display_data"
    }
   ],
   "source": [
    "# Evaluate train dataset\n",
    "O_value = train_seq.y_dict['O']  # code of 'O' value, to be ignored\n",
    "eval_train = evaluate_corpus(train_seq.seq_list, pred_train, train_seq.y_dict, ignore_tag_code=O_value)"
   ]
  },
  {
   "cell_type": "code",
   "execution_count": 29,
   "metadata": {},
   "outputs": [
    {
     "name": "stdout",
     "output_type": "stream",
     "text": [
      "Accuracy: 0.876\n",
      "Weighted F1 score: 0.847\n",
      "Accuracy (ignore tag excluded): 0.229\n",
      "Weighted F1 score (ignore tag excluded): 0.353\n"
     ]
    },
    {
     "data": {
      "text/html": [
       "\n",
       "<div id=\"altair-viz-fd1763f8516a4e14bbe0638acf5d9c00\"></div>\n",
       "<script type=\"text/javascript\">\n",
       "  var VEGA_DEBUG = (typeof VEGA_DEBUG == \"undefined\") ? {} : VEGA_DEBUG;\n",
       "  (function(spec, embedOpt){\n",
       "    let outputDiv = document.currentScript.previousElementSibling;\n",
       "    if (outputDiv.id !== \"altair-viz-fd1763f8516a4e14bbe0638acf5d9c00\") {\n",
       "      outputDiv = document.getElementById(\"altair-viz-fd1763f8516a4e14bbe0638acf5d9c00\");\n",
       "    }\n",
       "    const paths = {\n",
       "      \"vega\": \"https://cdn.jsdelivr.net/npm//vega@5?noext\",\n",
       "      \"vega-lib\": \"https://cdn.jsdelivr.net/npm//vega-lib?noext\",\n",
       "      \"vega-lite\": \"https://cdn.jsdelivr.net/npm//vega-lite@4.17.0?noext\",\n",
       "      \"vega-embed\": \"https://cdn.jsdelivr.net/npm//vega-embed@6?noext\",\n",
       "    };\n",
       "\n",
       "    function maybeLoadScript(lib, version) {\n",
       "      var key = `${lib.replace(\"-\", \"\")}_version`;\n",
       "      return (VEGA_DEBUG[key] == version) ?\n",
       "        Promise.resolve(paths[lib]) :\n",
       "        new Promise(function(resolve, reject) {\n",
       "          var s = document.createElement('script');\n",
       "          document.getElementsByTagName(\"head\")[0].appendChild(s);\n",
       "          s.async = true;\n",
       "          s.onload = () => {\n",
       "            VEGA_DEBUG[key] = version;\n",
       "            return resolve(paths[lib]);\n",
       "          };\n",
       "          s.onerror = () => reject(`Error loading script: ${paths[lib]}`);\n",
       "          s.src = paths[lib];\n",
       "        });\n",
       "    }\n",
       "\n",
       "    function showError(err) {\n",
       "      outputDiv.innerHTML = `<div class=\"error\" style=\"color:red;\">${err}</div>`;\n",
       "      throw err;\n",
       "    }\n",
       "\n",
       "    function displayChart(vegaEmbed) {\n",
       "      vegaEmbed(outputDiv, spec, embedOpt)\n",
       "        .catch(err => showError(`Javascript Error: ${err.message}<br>This usually means there's a typo in your chart specification. See the javascript console for the full traceback.`));\n",
       "    }\n",
       "\n",
       "    if(typeof define === \"function\" && define.amd) {\n",
       "      requirejs.config({paths});\n",
       "      require([\"vega-embed\"], displayChart, err => showError(`Error loading script: ${err.message}`));\n",
       "    } else {\n",
       "      maybeLoadScript(\"vega\", \"5\")\n",
       "        .then(() => maybeLoadScript(\"vega-lite\", \"4.17.0\"))\n",
       "        .then(() => maybeLoadScript(\"vega-embed\", \"6\"))\n",
       "        .catch(showError)\n",
       "        .then(() => displayChart(vegaEmbed));\n",
       "    }\n",
       "  })({\"config\": {\"view\": {\"continuousWidth\": 400, \"continuousHeight\": 300}}, \"data\": {\"name\": \"data-6a3ed80f5b7207e160d96802a97fd14c\"}, \"mark\": \"circle\", \"encoding\": {\"color\": {\"field\": \"pct_cases\", \"scale\": {\"domain\": [0, 1], \"scheme\": \"redblue\"}, \"type\": \"quantitative\"}, \"size\": {\"field\": \"pct_cases\", \"legend\": {\"title\": \"Percentage of words\"}, \"scale\": {\"domain\": [0, 1]}, \"type\": \"quantitative\"}, \"tooltip\": [{\"field\": \"value\", \"type\": \"nominal\"}, {\"field\": \"prediction\", \"type\": \"nominal\"}, {\"field\": \"pct_cases\", \"format\": \".2%\", \"type\": \"quantitative\"}, {\"field\": \"num_cases\", \"type\": \"quantitative\"}], \"x\": {\"field\": \"prediction\", \"type\": \"ordinal\"}, \"y\": {\"field\": \"value\", \"type\": \"ordinal\"}}, \"$schema\": \"https://vega.github.io/schema/vega-lite/v4.17.0.json\", \"datasets\": {\"data-6a3ed80f5b7207e160d96802a97fd14c\": [{\"value\": \"O\", \"prediction\": \"O\", \"num_cases\": 703675, \"pct_cases\": 0.9923410604338421}, {\"value\": \"B-geo\", \"prediction\": \"O\", \"num_cases\": 22631, \"pct_cases\": 0.7515109251510925}, {\"value\": \"B-tim\", \"prediction\": \"O\", \"num_cases\": 12164, \"pct_cases\": 0.7540760027276672}, {\"value\": \"B-org\", \"prediction\": \"O\", \"num_cases\": 11084, \"pct_cases\": 0.6919283351020663}, {\"value\": \"I-org\", \"prediction\": \"O\", \"num_cases\": 8725, \"pct_cases\": 0.6569535426549206}, {\"value\": \"B-gpe\", \"prediction\": \"O\", \"num_cases\": 8668, \"pct_cases\": 0.6852715629694047}, {\"value\": \"B-per\", \"prediction\": \"O\", \"num_cases\": 7997, \"pct_cases\": 0.5841063472354101}, {\"value\": \"I-per\", \"prediction\": \"O\", \"num_cases\": 7971, \"pct_cases\": 0.576355748373102}, {\"value\": \"B-geo\", \"prediction\": \"B-geo\", \"num_cases\": 6330, \"pct_cases\": 0.2102012353058378}, {\"value\": \"B-per\", \"prediction\": \"B-per\", \"num_cases\": 4331, \"pct_cases\": 0.31633920093492074}, {\"value\": \"I-geo\", \"prediction\": \"O\", \"num_cases\": 4288, \"pct_cases\": 0.7222502947616641}, {\"value\": \"I-per\", \"prediction\": \"I-per\", \"num_cases\": 4164, \"pct_cases\": 0.3010845986984816}, {\"value\": \"B-tim\", \"prediction\": \"B-tim\", \"num_cases\": 3456, \"pct_cases\": 0.21424586200483542}, {\"value\": \"I-tim\", \"prediction\": \"O\", \"num_cases\": 3425, \"pct_cases\": 0.6542502387774594}, {\"value\": \"B-org\", \"prediction\": \"B-org\", \"num_cases\": 3189, \"pct_cases\": 0.1990760971346526}, {\"value\": \"B-gpe\", \"prediction\": \"B-gpe\", \"num_cases\": 2781, \"pct_cases\": 0.21985927741323424}, {\"value\": \"I-org\", \"prediction\": \"I-org\", \"num_cases\": 2407, \"pct_cases\": 0.1812363526842858}, {\"value\": \"I-tim\", \"prediction\": \"I-tim\", \"num_cases\": 1560, \"pct_cases\": 0.2979942693409742}, {\"value\": \"O\", \"prediction\": \"B-org\", \"num_cases\": 1189, \"pct_cases\": 0.0016767591869198681}, {\"value\": \"O\", \"prediction\": \"I-org\", \"num_cases\": 1178, \"pct_cases\": 0.0016612466965446632}, {\"value\": \"I-org\", \"prediction\": \"I-art\", \"num_cases\": 1152, \"pct_cases\": 0.08674045629094194}, {\"value\": \"I-geo\", \"prediction\": \"I-geo\", \"num_cases\": 1072, \"pct_cases\": 0.18056257369041603}, {\"value\": \"I-per\", \"prediction\": \"I-art\", \"num_cases\": 1031, \"pct_cases\": 0.07454808387563268}, {\"value\": \"O\", \"prediction\": \"B-per\", \"num_cases\": 903, \"pct_cases\": 0.0012734344371645424}, {\"value\": \"O\", \"prediction\": \"B-geo\", \"num_cases\": 714, \"pct_cases\": 0.0010069016479905685}, {\"value\": \"B-org\", \"prediction\": \"B-per\", \"num_cases\": 589, \"pct_cases\": 0.03676883700605531}, {\"value\": \"O\", \"prediction\": \"B-tim\", \"num_cases\": 515, \"pct_cases\": 0.0007262665948391355}, {\"value\": \"B-org\", \"prediction\": \"B-geo\", \"num_cases\": 514, \"pct_cases\": 0.03208689681003808}, {\"value\": \"B-per\", \"prediction\": \"I-per\", \"num_cases\": 501, \"pct_cases\": 0.03659338251406033}, {\"value\": \"I-org\", \"prediction\": \"I-per\", \"num_cases\": 493, \"pct_cases\": 0.037120698742564566}, {\"value\": \"O\", \"prediction\": \"I-tim\", \"num_cases\": 474, \"pct_cases\": 0.0006684473125315538}, {\"value\": \"B-geo\", \"prediction\": \"B-org\", \"num_cases\": 443, \"pct_cases\": 0.014710765756790862}, {\"value\": \"B-per\", \"prediction\": \"I-art\", \"num_cases\": 336, \"pct_cases\": 0.024541669710028486}, {\"value\": \"B-org\", \"prediction\": \"B-art\", \"num_cases\": 329, \"pct_cases\": 0.02053811099319558}, {\"value\": \"B-geo\", \"prediction\": \"B-per\", \"num_cases\": 316, \"pct_cases\": 0.010493458192202963}, {\"value\": \"B-gpe\", \"prediction\": \"B-per\", \"num_cases\": 301, \"pct_cases\": 0.023796347537354733}, {\"value\": \"B-gpe\", \"prediction\": \"B-org\", \"num_cases\": 263, \"pct_cases\": 0.020792157482804965}, {\"value\": \"B-art\", \"prediction\": \"O\", \"num_cases\": 251, \"pct_cases\": 0.7917981072555205}, {\"value\": \"B-tim\", \"prediction\": \"I-tim\", \"num_cases\": 239, \"pct_cases\": 0.014816192424524208}, {\"value\": \"I-per\", \"prediction\": \"B-per\", \"num_cases\": 236, \"pct_cases\": 0.017064352856109907}, {\"value\": \"I-per\", \"prediction\": \"I-org\", \"num_cases\": 225, \"pct_cases\": 0.016268980477223426}, {\"value\": \"I-org\", \"prediction\": \"B-org\", \"num_cases\": 218, \"pct_cases\": 0.016414426624501165}, {\"value\": \"B-per\", \"prediction\": \"B-org\", \"num_cases\": 218, \"pct_cases\": 0.015922869038054198}, {\"value\": \"I-geo\", \"prediction\": \"I-per\", \"num_cases\": 208, \"pct_cases\": 0.03503452922351356}, {\"value\": \"B-geo\", \"prediction\": \"I-geo\", \"num_cases\": 194, \"pct_cases\": 0.00644218635850435}, {\"value\": \"B-gpe\", \"prediction\": \"B-art\", \"num_cases\": 190, \"pct_cases\": 0.015020950272748834}, {\"value\": \"I-geo\", \"prediction\": \"I-org\", \"num_cases\": 186, \"pct_cases\": 0.031328954017180395}, {\"value\": \"B-gpe\", \"prediction\": \"B-geo\", \"num_cases\": 175, \"pct_cases\": 0.01383508577753182}, {\"value\": \"B-gpe\", \"prediction\": \"I-geo\", \"num_cases\": 168, \"pct_cases\": 0.013281682346430549}, {\"value\": \"B-nat\", \"prediction\": \"O\", \"num_cases\": 147, \"pct_cases\": 0.84}, {\"value\": \"I-eve\", \"prediction\": \"O\", \"num_cases\": 142, \"pct_cases\": 0.7208121827411168}, {\"value\": \"B-eve\", \"prediction\": \"O\", \"num_cases\": 142, \"pct_cases\": 0.5843621399176955}, {\"value\": \"I-art\", \"prediction\": \"O\", \"num_cases\": 138, \"pct_cases\": 0.6244343891402715}, {\"value\": \"B-org\", \"prediction\": \"I-per\", \"num_cases\": 123, \"pct_cases\": 0.0076783819214682565}, {\"value\": \"I-org\", \"prediction\": \"I-geo\", \"num_cases\": 112, \"pct_cases\": 0.008433099917174912}, {\"value\": \"B-per\", \"prediction\": \"I-org\", \"num_cases\": 112, \"pct_cases\": 0.008180556570009495}, {\"value\": \"I-geo\", \"prediction\": \"B-geo\", \"num_cases\": 109, \"pct_cases\": 0.018359440795014316}, {\"value\": \"O\", \"prediction\": \"I-geo\", \"num_cases\": 100, \"pct_cases\": 0.0001410226397745894}, {\"value\": \"B-per\", \"prediction\": \"B-geo\", \"num_cases\": 99, \"pct_cases\": 0.0072310276824191074}, {\"value\": \"I-gpe\", \"prediction\": \"O\", \"num_cases\": 96, \"pct_cases\": 0.6357615894039735}, {\"value\": \"O\", \"prediction\": \"I-per\", \"num_cases\": 95, \"pct_cases\": 0.00013397150778585995}, {\"value\": \"B-org\", \"prediction\": \"I-org\", \"num_cases\": 89, \"pct_cases\": 0.005555902365940446}, {\"value\": \"I-tim\", \"prediction\": \"I-art\", \"num_cases\": 81, \"pct_cases\": 0.015472779369627506}, {\"value\": \"I-tim\", \"prediction\": \"B-tim\", \"num_cases\": 72, \"pct_cases\": 0.013753581661891117}, {\"value\": \"O\", \"prediction\": \"I-art\", \"num_cases\": 72, \"pct_cases\": 0.00010153630063770437}, {\"value\": \"B-geo\", \"prediction\": \"I-per\", \"num_cases\": 71, \"pct_cases\": 0.002357707378627881}, {\"value\": \"B-per\", \"prediction\": \"B-art\", \"num_cases\": 68, \"pct_cases\": 0.004966766488934337}, {\"value\": \"I-org\", \"prediction\": \"B-geo\", \"num_cases\": 66, \"pct_cases\": 0.004969505308335216}, {\"value\": \"B-tim\", \"prediction\": \"B-org\", \"num_cases\": 61, \"pct_cases\": 0.0037815386522844214}, {\"value\": \"B-eve\", \"prediction\": \"B-eve\", \"num_cases\": 60, \"pct_cases\": 0.24691358024691357}, {\"value\": \"B-tim\", \"prediction\": \"I-art\", \"num_cases\": 58, \"pct_cases\": 0.003595561341516335}, {\"value\": \"I-per\", \"prediction\": \"B-geo\", \"num_cases\": 58, \"pct_cases\": 0.004193781634128706}, {\"value\": \"I-per\", \"prediction\": \"B-org\", \"num_cases\": 56, \"pct_cases\": 0.004049168474331164}, {\"value\": \"I-per\", \"prediction\": \"I-geo\", \"num_cases\": 50, \"pct_cases\": 0.0036153289949385392}, {\"value\": \"B-tim\", \"prediction\": \"B-per\", \"num_cases\": 49, \"pct_cases\": 0.003037629409212076}, {\"value\": \"B-org\", \"prediction\": \"I-art\", \"num_cases\": 44, \"pct_cases\": 0.002746738248330108}, {\"value\": \"I-org\", \"prediction\": \"B-per\", \"num_cases\": 43, \"pct_cases\": 0.0032377080039153678}, {\"value\": \"O\", \"prediction\": \"I-eve\", \"num_cases\": 42, \"pct_cases\": 5.9229508705327555e-05}, {\"value\": \"O\", \"prediction\": \"B-nat\", \"num_cases\": 41, \"pct_cases\": 5.781928230758166e-05}, {\"value\": \"O\", \"prediction\": \"B-gpe\", \"num_cases\": 40, \"pct_cases\": 5.640905590983576e-05}, {\"value\": \"O\", \"prediction\": \"B-art\", \"num_cases\": 40, \"pct_cases\": 5.640905590983576e-05}, {\"value\": \"B-geo\", \"prediction\": \"B-tim\", \"num_cases\": 39, \"pct_cases\": 0.0012950787009364416}, {\"value\": \"I-tim\", \"prediction\": \"I-per\", \"num_cases\": 38, \"pct_cases\": 0.00725883476599809}, {\"value\": \"I-nat\", \"prediction\": \"O\", \"num_cases\": 34, \"pct_cases\": 0.8095238095238095}, {\"value\": \"B-gpe\", \"prediction\": \"I-org\", \"num_cases\": 31, \"pct_cases\": 0.002450786623448494}, {\"value\": \"B-geo\", \"prediction\": \"I-org\", \"num_cases\": 29, \"pct_cases\": 0.0009630072391578668}, {\"value\": \"I-tim\", \"prediction\": \"I-org\", \"num_cases\": 29, \"pct_cases\": 0.0055396370582617}, {\"value\": \"I-geo\", \"prediction\": \"B-org\", \"num_cases\": 29, \"pct_cases\": 0.004884621862893717}, {\"value\": \"O\", \"prediction\": \"B-eve\", \"num_cases\": 28, \"pct_cases\": 3.948633913688503e-05}, {\"value\": \"B-art\", \"prediction\": \"B-org\", \"num_cases\": 28, \"pct_cases\": 0.08832807570977919}, {\"value\": \"I-art\", \"prediction\": \"I-org\", \"num_cases\": 28, \"pct_cases\": 0.12669683257918551}, {\"value\": \"B-gpe\", \"prediction\": \"I-per\", \"num_cases\": 27, \"pct_cases\": 0.002134556091390624}, {\"value\": \"B-tim\", \"prediction\": \"B-geo\", \"num_cases\": 27, \"pct_cases\": 0.0016737957969127767}, {\"value\": \"I-art\", \"prediction\": \"I-art\", \"num_cases\": 27, \"pct_cases\": 0.12217194570135746}, {\"value\": \"B-geo\", \"prediction\": \"B-art\", \"num_cases\": 27, \"pct_cases\": 0.0008965929468021519}, {\"value\": \"I-org\", \"prediction\": \"I-tim\", \"num_cases\": 25, \"pct_cases\": 0.0018823883743693999}, {\"value\": \"B-tim\", \"prediction\": \"I-org\", \"num_cases\": 24, \"pct_cases\": 0.0014878184861446904}, {\"value\": \"I-geo\", \"prediction\": \"I-art\", \"num_cases\": 24, \"pct_cases\": 0.00404244567963618}, {\"value\": \"B-tim\", \"prediction\": \"I-per\", \"num_cases\": 23, \"pct_cases\": 0.001425826049221995}, {\"value\": \"B-gpe\", \"prediction\": \"I-art\", \"num_cases\": 20, \"pct_cases\": 0.001581152660289351}, {\"value\": \"B-tim\", \"prediction\": \"B-art\", \"num_cases\": 20, \"pct_cases\": 0.0012398487384539087}, {\"value\": \"I-per\", \"prediction\": \"B-eve\", \"num_cases\": 19, \"pct_cases\": 0.001373825018076645}, {\"value\": \"B-nat\", \"prediction\": \"B-nat\", \"num_cases\": 17, \"pct_cases\": 0.09714285714285714}, {\"value\": \"B-gpe\", \"prediction\": \"I-tim\", \"num_cases\": 17, \"pct_cases\": 0.0013439797612459484}, {\"value\": \"I-eve\", \"prediction\": \"I-org\", \"num_cases\": 16, \"pct_cases\": 0.08121827411167512}, {\"value\": \"B-org\", \"prediction\": \"B-gpe\", \"num_cases\": 16, \"pct_cases\": 0.0009988139084836755}, {\"value\": \"B-org\", \"prediction\": \"I-tim\", \"num_cases\": 16, \"pct_cases\": 0.0009988139084836755}, {\"value\": \"B-eve\", \"prediction\": \"B-org\", \"num_cases\": 15, \"pct_cases\": 0.06172839506172839}, {\"value\": \"B-geo\", \"prediction\": \"B-gpe\", \"num_cases\": 15, \"pct_cases\": 0.0004981071926678622}, {\"value\": \"I-tim\", \"prediction\": \"B-geo\", \"num_cases\": 15, \"pct_cases\": 0.0028653295128939827}, {\"value\": \"I-eve\", \"prediction\": \"B-eve\", \"num_cases\": 14, \"pct_cases\": 0.07106598984771574}, {\"value\": \"I-org\", \"prediction\": \"I-eve\", \"num_cases\": 14, \"pct_cases\": 0.001054137489646864}, {\"value\": \"I-gpe\", \"prediction\": \"I-per\", \"num_cases\": 14, \"pct_cases\": 0.09271523178807947}, {\"value\": \"I-gpe\", \"prediction\": \"I-gpe\", \"num_cases\": 13, \"pct_cases\": 0.08609271523178808}, {\"value\": \"I-per\", \"prediction\": \"I-tim\", \"num_cases\": 12, \"pct_cases\": 0.0008676789587852494}, {\"value\": \"I-tim\", \"prediction\": \"B-org\", \"num_cases\": 12, \"pct_cases\": 0.002292263610315186}, {\"value\": \"B-per\", \"prediction\": \"I-geo\", \"num_cases\": 12, \"pct_cases\": 0.0008764882039295887}, {\"value\": \"I-gpe\", \"prediction\": \"I-geo\", \"num_cases\": 11, \"pct_cases\": 0.0728476821192053}, {\"value\": \"B-org\", \"prediction\": \"B-tim\", \"num_cases\": 10, \"pct_cases\": 0.0006242586928022972}, {\"value\": \"I-org\", \"prediction\": \"B-art\", \"num_cases\": 10, \"pct_cases\": 0.00075295534974776}, {\"value\": \"I-org\", \"prediction\": \"B-tim\", \"num_cases\": 10, \"pct_cases\": 0.00075295534974776}, {\"value\": \"B-art\", \"prediction\": \"B-art\", \"num_cases\": 10, \"pct_cases\": 0.031545741324921134}, {\"value\": \"I-gpe\", \"prediction\": \"I-art\", \"num_cases\": 9, \"pct_cases\": 0.059602649006622516}, {\"value\": \"B-per\", \"prediction\": \"I-tim\", \"num_cases\": 9, \"pct_cases\": 0.0006573661529471916}, {\"value\": \"B-geo\", \"prediction\": \"I-tim\", \"num_cases\": 9, \"pct_cases\": 0.00029886431560071725}, {\"value\": \"B-art\", \"prediction\": \"B-per\", \"num_cases\": 9, \"pct_cases\": 0.028391167192429023}, {\"value\": \"I-eve\", \"prediction\": \"I-eve\", \"num_cases\": 8, \"pct_cases\": 0.04060913705583756}, {\"value\": \"B-org\", \"prediction\": \"I-geo\", \"num_cases\": 8, \"pct_cases\": 0.0004994069542418378}, {\"value\": \"B-eve\", \"prediction\": \"B-geo\", \"num_cases\": 8, \"pct_cases\": 0.03292181069958848}, {\"value\": \"B-art\", \"prediction\": \"B-geo\", \"num_cases\": 7, \"pct_cases\": 0.022082018927444796}, {\"value\": \"I-geo\", \"prediction\": \"B-per\", \"num_cases\": 7, \"pct_cases\": 0.0011790466565605525}, {\"value\": \"B-nat\", \"prediction\": \"B-org\", \"num_cases\": 7, \"pct_cases\": 0.04}, {\"value\": \"B-org\", \"prediction\": \"B-eve\", \"num_cases\": 7, \"pct_cases\": 0.0004369810849616081}, {\"value\": \"B-tim\", \"prediction\": \"B-eve\", \"num_cases\": 6, \"pct_cases\": 0.0003719546215361726}, {\"value\": \"B-eve\", \"prediction\": \"I-eve\", \"num_cases\": 6, \"pct_cases\": 0.024691358024691357}, {\"value\": \"I-art\", \"prediction\": \"I-geo\", \"num_cases\": 6, \"pct_cases\": 0.027149321266968326}, {\"value\": \"I-art\", \"prediction\": \"I-per\", \"num_cases\": 6, \"pct_cases\": 0.027149321266968326}, {\"value\": \"B-art\", \"prediction\": \"I-org\", \"num_cases\": 5, \"pct_cases\": 0.015772870662460567}, {\"value\": \"B-geo\", \"prediction\": \"I-art\", \"num_cases\": 5, \"pct_cases\": 0.00016603573088928738}, {\"value\": \"I-org\", \"prediction\": \"B-gpe\", \"num_cases\": 5, \"pct_cases\": 0.00037647767487388}, {\"value\": \"I-geo\", \"prediction\": \"I-tim\", \"num_cases\": 5, \"pct_cases\": 0.0008421761832575374}, {\"value\": \"B-per\", \"prediction\": \"B-tim\", \"num_cases\": 5, \"pct_cases\": 0.0003652034183039953}, {\"value\": \"I-art\", \"prediction\": \"B-geo\", \"num_cases\": 4, \"pct_cases\": 0.01809954751131222}, {\"value\": \"I-art\", \"prediction\": \"I-eve\", \"num_cases\": 4, \"pct_cases\": 0.01809954751131222}, {\"value\": \"B-gpe\", \"prediction\": \"B-tim\", \"num_cases\": 4, \"pct_cases\": 0.0003162305320578702}, {\"value\": \"I-eve\", \"prediction\": \"I-tim\", \"num_cases\": 4, \"pct_cases\": 0.02030456852791878}, {\"value\": \"B-gpe\", \"prediction\": \"B-eve\", \"num_cases\": 4, \"pct_cases\": 0.0003162305320578702}, {\"value\": \"I-art\", \"prediction\": \"B-org\", \"num_cases\": 4, \"pct_cases\": 0.01809954751131222}, {\"value\": \"I-gpe\", \"prediction\": \"I-org\", \"num_cases\": 4, \"pct_cases\": 0.026490066225165563}, {\"value\": \"B-geo\", \"prediction\": \"I-eve\", \"num_cases\": 4, \"pct_cases\": 0.0001328285847114299}, {\"value\": \"I-per\", \"prediction\": \"B-tim\", \"num_cases\": 4, \"pct_cases\": 0.00028922631959508316}, {\"value\": \"I-per\", \"prediction\": \"I-eve\", \"num_cases\": 4, \"pct_cases\": 0.00028922631959508316}, {\"value\": \"I-geo\", \"prediction\": \"B-gpe\", \"num_cases\": 4, \"pct_cases\": 0.00067374094660603}, {\"value\": \"B-nat\", \"prediction\": \"B-per\", \"num_cases\": 4, \"pct_cases\": 0.022857142857142857}, {\"value\": \"I-eve\", \"prediction\": \"I-geo\", \"num_cases\": 3, \"pct_cases\": 0.015228426395939087}, {\"value\": \"B-eve\", \"prediction\": \"B-per\", \"num_cases\": 3, \"pct_cases\": 0.012345679012345678}, {\"value\": \"I-nat\", \"prediction\": \"I-org\", \"num_cases\": 3, \"pct_cases\": 0.07142857142857142}, {\"value\": \"B-eve\", \"prediction\": \"I-org\", \"num_cases\": 3, \"pct_cases\": 0.012345679012345678}, {\"value\": \"I-eve\", \"prediction\": \"I-per\", \"num_cases\": 3, \"pct_cases\": 0.015228426395939087}, {\"value\": \"B-art\", \"prediction\": \"I-art\", \"num_cases\": 3, \"pct_cases\": 0.00946372239747634}, {\"value\": \"I-nat\", \"prediction\": \"B-nat\", \"num_cases\": 3, \"pct_cases\": 0.07142857142857142}, {\"value\": \"I-eve\", \"prediction\": \"I-art\", \"num_cases\": 3, \"pct_cases\": 0.015228426395939087}, {\"value\": \"I-geo\", \"prediction\": \"B-tim\", \"num_cases\": 2, \"pct_cases\": 0.000336870473303015}, {\"value\": \"I-gpe\", \"prediction\": \"B-gpe\", \"num_cases\": 2, \"pct_cases\": 0.013245033112582781}, {\"value\": \"I-gpe\", \"prediction\": \"B-geo\", \"num_cases\": 2, \"pct_cases\": 0.013245033112582781}, {\"value\": \"I-eve\", \"prediction\": \"B-tim\", \"num_cases\": 2, \"pct_cases\": 0.01015228426395939}, {\"value\": \"I-geo\", \"prediction\": \"I-eve\", \"num_cases\": 2, \"pct_cases\": 0.000336870473303015}, {\"value\": \"B-tim\", \"prediction\": \"I-geo\", \"num_cases\": 2, \"pct_cases\": 0.00012398487384539087}, {\"value\": \"B-tim\", \"prediction\": \"I-eve\", \"num_cases\": 2, \"pct_cases\": 0.00012398487384539087}, {\"value\": \"B-per\", \"prediction\": \"I-eve\", \"num_cases\": 2, \"pct_cases\": 0.00014608136732159813}, {\"value\": \"B-eve\", \"prediction\": \"B-tim\", \"num_cases\": 2, \"pct_cases\": 0.00823045267489712}, {\"value\": \"I-eve\", \"prediction\": \"B-org\", \"num_cases\": 2, \"pct_cases\": 0.01015228426395939}, {\"value\": \"B-art\", \"prediction\": \"B-gpe\", \"num_cases\": 1, \"pct_cases\": 0.0031545741324921135}, {\"value\": \"I-art\", \"prediction\": \"B-per\", \"num_cases\": 1, \"pct_cases\": 0.004524886877828055}, {\"value\": \"B-art\", \"prediction\": \"I-tim\", \"num_cases\": 1, \"pct_cases\": 0.0031545741324921135}, {\"value\": \"B-art\", \"prediction\": \"B-eve\", \"num_cases\": 1, \"pct_cases\": 0.0031545741324921135}, {\"value\": \"B-art\", \"prediction\": \"I-eve\", \"num_cases\": 1, \"pct_cases\": 0.0031545741324921135}, {\"value\": \"I-nat\", \"prediction\": \"I-per\", \"num_cases\": 1, \"pct_cases\": 0.023809523809523808}, {\"value\": \"I-tim\", \"prediction\": \"B-art\", \"num_cases\": 1, \"pct_cases\": 0.00019102196752626553}, {\"value\": \"I-art\", \"prediction\": \"I-tim\", \"num_cases\": 1, \"pct_cases\": 0.004524886877828055}, {\"value\": \"I-art\", \"prediction\": \"B-eve\", \"num_cases\": 1, \"pct_cases\": 0.004524886877828055}, {\"value\": \"I-art\", \"prediction\": \"B-tim\", \"num_cases\": 1, \"pct_cases\": 0.004524886877828055}, {\"value\": \"B-geo\", \"prediction\": \"B-nat\", \"num_cases\": 1, \"pct_cases\": 3.320714617785747e-05}, {\"value\": \"I-tim\", \"prediction\": \"I-geo\", \"num_cases\": 1, \"pct_cases\": 0.00019102196752626553}, {\"value\": \"B-per\", \"prediction\": \"B-eve\", \"num_cases\": 1, \"pct_cases\": 7.304068366079907e-05}, {\"value\": \"I-org\", \"prediction\": \"B-eve\", \"num_cases\": 1, \"pct_cases\": 7.529553497477599e-05}, {\"value\": \"I-geo\", \"prediction\": \"B-art\", \"num_cases\": 1, \"pct_cases\": 0.0001684352366515075}, {\"value\": \"I-tim\", \"prediction\": \"I-eve\", \"num_cases\": 1, \"pct_cases\": 0.00019102196752626553}, {\"value\": \"B-org\", \"prediction\": \"I-eve\", \"num_cases\": 1, \"pct_cases\": 6.242586928022972e-05}, {\"value\": \"B-eve\", \"prediction\": \"B-gpe\", \"num_cases\": 1, \"pct_cases\": 0.00411522633744856}, {\"value\": \"B-eve\", \"prediction\": \"I-per\", \"num_cases\": 1, \"pct_cases\": 0.00411522633744856}, {\"value\": \"B-eve\", \"prediction\": \"I-tim\", \"num_cases\": 1, \"pct_cases\": 0.00411522633744856}, {\"value\": \"B-eve\", \"prediction\": \"B-art\", \"num_cases\": 1, \"pct_cases\": 0.00411522633744856}, {\"value\": \"I-nat\", \"prediction\": \"I-nat\", \"num_cases\": 1, \"pct_cases\": 0.023809523809523808}]}}, {\"mode\": \"vega-lite\"});\n",
       "</script>"
      ],
      "text/plain": [
       "alt.Chart(...)"
      ]
     },
     "metadata": {},
     "output_type": "display_data"
    }
   ],
   "source": [
    "# Evaluate test dataset\n",
    "eval_test = evaluate_corpus(test_seq.seq_list, pred_test, test_seq.y_dict, ignore_tag_code=O_value)"
   ]
  },
  {
   "cell_type": "markdown",
   "metadata": {},
   "source": [
    "## Run the \"tiny test\""
   ]
  },
  {
   "cell_type": "code",
   "execution_count": 30,
   "metadata": {},
   "outputs": [],
   "source": [
    "def predict_sentence(p):\n",
    "    # Create a seq object with empty tags\n",
    "    new_seq = skseq.sequences.sequence.Sequence(x=p.split(), y=[int(0) for w in p.split()])\n",
    "    return sp.viterbi_decode(new_seq)[0].to_words(train_seq, only_tag_translation=True)"
   ]
  },
  {
   "cell_type": "code",
   "execution_count": 31,
   "metadata": {},
   "outputs": [
    {
     "data": {
      "text/plain": [
       "'The/O programmers/O from/O Barcelona/B-geo might/O write/O a/O sentence/O without/O a/O spell/B-art checker./I-art '"
      ]
     },
     "execution_count": 31,
     "metadata": {},
     "output_type": "execute_result"
    }
   ],
   "source": [
    "predict_sentence(\"The programmers from Barcelona might write a sentence without a spell checker.\")"
   ]
  },
  {
   "cell_type": "code",
   "execution_count": 32,
   "metadata": {},
   "outputs": [
    {
     "data": {
      "text/plain": [
       "'The/O programmers/O from/O Barchelona/O cannot/O write/O a/O sentence/O without/O a/O spell/B-art checker./I-art '"
      ]
     },
     "execution_count": 32,
     "metadata": {},
     "output_type": "execute_result"
    }
   ],
   "source": [
    "predict_sentence(\"The programmers from Barchelona cannot write a sentence without a spell checker.\")"
   ]
  },
  {
   "cell_type": "code",
   "execution_count": 33,
   "metadata": {},
   "outputs": [
    {
     "data": {
      "text/plain": [
       "'Jack/B-per London/B-geo went/O to/O Parris./O '"
      ]
     },
     "execution_count": 33,
     "metadata": {},
     "output_type": "execute_result"
    }
   ],
   "source": [
    "predict_sentence(\"Jack London went to Parris.\")"
   ]
  },
  {
   "cell_type": "code",
   "execution_count": 34,
   "metadata": {},
   "outputs": [
    {
     "data": {
      "text/plain": [
       "'Jack/B-per London/B-geo went/O to/O Paris./O '"
      ]
     },
     "execution_count": 34,
     "metadata": {},
     "output_type": "execute_result"
    }
   ],
   "source": [
    "predict_sentence(\"Jack London went to Paris.\")"
   ]
  },
  {
   "cell_type": "code",
   "execution_count": 35,
   "metadata": {},
   "outputs": [
    {
     "data": {
      "text/plain": [
       "'Bill/B-per gates/O and/O Steve/B-per jobs/O never/O though/O Microsoft/B-org would/O become/O such/O a/O big/O company./O '"
      ]
     },
     "execution_count": 35,
     "metadata": {},
     "output_type": "execute_result"
    }
   ],
   "source": [
    "predict_sentence(\"Bill gates and Steve jobs never though Microsoft would become such a big company.\")"
   ]
  },
  {
   "cell_type": "code",
   "execution_count": 36,
   "metadata": {},
   "outputs": [
    {
     "data": {
      "text/plain": [
       "'Bill/B-per Gates/I-per and/O Steve/B-per Jobs/I-per never/O though/O Microsof/O would/O become/O such/O a/O big/O company./O '"
      ]
     },
     "execution_count": 36,
     "metadata": {},
     "output_type": "execute_result"
    }
   ],
   "source": [
    "predict_sentence(\"Bill Gates and Steve Jobs never though Microsof would become such a big company.\")"
   ]
  },
  {
   "cell_type": "code",
   "execution_count": 37,
   "metadata": {},
   "outputs": [
    {
     "data": {
      "text/plain": [
       "'The/O president/O of/O U.S.A/O though/O they/O could/O win/O the/O war./O '"
      ]
     },
     "execution_count": 37,
     "metadata": {},
     "output_type": "execute_result"
    }
   ],
   "source": [
    "predict_sentence(\"The president of U.S.A though they could win the war.\")"
   ]
  },
  {
   "cell_type": "code",
   "execution_count": 38,
   "metadata": {},
   "outputs": [
    {
     "data": {
      "text/plain": [
       "'The/O president/O of/O the/O United/B-geo States/I-geo of/O America/B-geo though/O they/O could/O win/O the/O war./O '"
      ]
     },
     "execution_count": 38,
     "metadata": {},
     "output_type": "execute_result"
    }
   ],
   "source": [
    "predict_sentence(\"The president of the United States of America though they could win the war.\")"
   ]
  },
  {
   "cell_type": "code",
   "execution_count": 39,
   "metadata": {},
   "outputs": [
    {
     "data": {
      "text/plain": [
       "'The/O king/O of/O Saudi/B-geo Arabia/I-geo wanted/O total/O control./O '"
      ]
     },
     "execution_count": 39,
     "metadata": {},
     "output_type": "execute_result"
    }
   ],
   "source": [
    "predict_sentence(\"The king of Saudi Arabia wanted total control.\")"
   ]
  },
  {
   "cell_type": "code",
   "execution_count": 40,
   "metadata": {},
   "outputs": [
    {
     "data": {
      "text/plain": [
       "'Robin/O does/O not/O want/O to/O go/O to/O Saudi/B-art Arabia./I-art '"
      ]
     },
     "execution_count": 40,
     "metadata": {},
     "output_type": "execute_result"
    }
   ],
   "source": [
    "predict_sentence(\"Robin does not want to go to Saudi Arabia.\")"
   ]
  },
  {
   "cell_type": "code",
   "execution_count": 41,
   "metadata": {},
   "outputs": [
    {
     "data": {
      "text/plain": [
       "'Apple/O is/O a/O great/O company./O '"
      ]
     },
     "execution_count": 41,
     "metadata": {},
     "output_type": "execute_result"
    }
   ],
   "source": [
    "predict_sentence(\"Apple is a great company.\")"
   ]
  },
  {
   "cell_type": "code",
   "execution_count": 42,
   "metadata": {},
   "outputs": [
    {
     "data": {
      "text/plain": [
       "'I/O really/O love/O apples/O and/O oranges./O '"
      ]
     },
     "execution_count": 42,
     "metadata": {},
     "output_type": "execute_result"
    }
   ],
   "source": [
    "predict_sentence(\"I really love apples and oranges.\")"
   ]
  },
  {
   "cell_type": "code",
   "execution_count": 43,
   "metadata": {},
   "outputs": [
    {
     "data": {
      "text/plain": [
       "'Alice/O and/O Henry/B-per went/O to/O the/O Microsoft/B-org store/O to/O buy/O a/O new/O computer/O during/O their/O trip/O to/O New/B-org York./I-org '"
      ]
     },
     "execution_count": 43,
     "metadata": {},
     "output_type": "execute_result"
    }
   ],
   "source": [
    "predict_sentence(\"Alice and Henry went to the Microsoft store to buy a new computer during their trip to New York.\")"
   ]
  }
 ],
 "metadata": {
  "kernelspec": {
   "display_name": "Python 3",
   "language": "python",
   "name": "python3"
  },
  "language_info": {
   "codemirror_mode": {
    "name": "ipython",
    "version": 3
   },
   "file_extension": ".py",
   "mimetype": "text/x-python",
   "name": "python",
   "nbconvert_exporter": "python",
   "pygments_lexer": "ipython3",
   "version": "3.8.13"
  },
  "toc": {
   "base_numbering": 1,
   "nav_menu": {},
   "number_sections": true,
   "sideBar": true,
   "skip_h1_title": false,
   "title_cell": "Table of Contents",
   "title_sidebar": "Contents",
   "toc_cell": false,
   "toc_position": {},
   "toc_section_display": true,
   "toc_window_display": false
  }
 },
 "nbformat": 4,
 "nbformat_minor": 4
}
