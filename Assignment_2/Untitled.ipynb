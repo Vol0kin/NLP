{
 "cells": [
  {
   "cell_type": "markdown",
   "id": "6db5d688-110c-439a-8c91-59915174ae12",
   "metadata": {},
   "source": [
    "* Accuracy on the train set and test set but taking into account only tags that are not “O”.\n",
    "* Confusion matrix on the train and test set.\n",
    "* F-score (weighted version, see https://scikit-learn.org/stable/modules/generated/\n",
    "sklearn.metrics.f1_score.html)\n",
    "* The predictions for the TINY TEST (look below) and the accuracy in such dataset."
   ]
  },
  {
   "cell_type": "code",
   "execution_count": null,
   "id": "ed4ad14b-3e07-4985-a360-2bd60151bda1",
   "metadata": {},
   "outputs": [],
   "source": [
    "from sklearn.metrics import confusion_matrix\n",
    "from sklearn.metrics import f1_score\n",
    "\n",
    "f1_score(y_test, np.zeros(len(y_test))+2, average='weighted')\n",
    "confusion_matrix(y_test, yhat_test)"
   ]
  }
 ],
 "metadata": {
  "kernelspec": {
   "display_name": "Python 3",
   "language": "python",
   "name": "python3"
  },
  "language_info": {
   "codemirror_mode": {
    "name": "ipython",
    "version": 3
   },
   "file_extension": ".py",
   "mimetype": "text/x-python",
   "name": "python",
   "nbconvert_exporter": "python",
   "pygments_lexer": "ipython3",
   "version": "3.8.13"
  }
 },
 "nbformat": 4,
 "nbformat_minor": 5
}
