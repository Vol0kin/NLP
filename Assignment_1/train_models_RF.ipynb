{
 "cells": [
  {
   "cell_type": "markdown",
   "metadata": {},
   "source": [
    "# Quora Question pairs\n",
    "\n",
    "\n",
    "Today it's a preparation for delivery 1.\n",
    "\n",
    "\n",
    "The objective of today is to build a solution for:\n",
    "\n",
    "https://www.kaggle.com/c/quora-question-pairs/overview\n",
    "\n",
    "You might even make a late submission to kaggle to know how well you would have done in the competition.\n",
    "\n"
   ]
  },
  {
   "cell_type": "code",
   "execution_count": 3,
   "metadata": {
    "ExecuteTime": {
     "end_time": "2022-03-08T21:04:55.286475Z",
     "start_time": "2022-03-08T21:04:51.190162Z"
    }
   },
   "outputs": [],
   "source": [
    "import pandas as pd\n",
    "import scipy\n",
    "import sklearn\n",
    "from sklearn import *\n",
    "import numpy as np\n",
    "import os"
   ]
  },
  {
   "cell_type": "code",
   "execution_count": 4,
   "metadata": {
    "ExecuteTime": {
     "end_time": "2022-03-08T21:06:43.784914Z",
     "start_time": "2022-03-08T21:06:42.802201Z"
    },
    "scrolled": true
   },
   "outputs": [],
   "source": [
    "# use this to train and VALIDATE your solution\n",
    "df = pd.read_csv(\"./quora_train_data.csv\")"
   ]
  },
  {
   "cell_type": "code",
   "execution_count": 5,
   "metadata": {
    "ExecuteTime": {
     "end_time": "2022-03-08T21:06:44.009386Z",
     "start_time": "2022-03-08T21:06:43.892777Z"
    }
   },
   "outputs": [],
   "source": [
    "train_df, valid_df = sklearn.model_selection.train_test_split(df, test_size=0.05, random_state=123)"
   ]
  },
  {
   "cell_type": "markdown",
   "metadata": {},
   "source": [
    "# Improving feature vectors:\n",
    "\n",
    "Build a Similarity metric between documents using the tf-idf vectors of the documents.\n",
    "\n",
    "Build a class from scratch that can learn a tf-idf feature representation.\n",
    "\n",
    "First we are going to train a Word2Vec model, so that it better fits our problem."
   ]
  },
  {
   "cell_type": "code",
   "execution_count": 6,
   "metadata": {},
   "outputs": [],
   "source": [
    "from utils import TfIdfEmbeddingVectorizer\n",
    "\n",
    "#train the vectorizer on all the words in the train \n",
    "all_questions = list(train_df[\"question1\"]) + list(train_df[\"question2\"])\n",
    "vectorizer = TfIdfEmbeddingVectorizer().fit(all_questions)\n",
    "\n",
    "X_train = np.c_[\n",
    "    vectorizer.transform(train_df['question1']),\n",
    "    vectorizer.transform(train_df['question2'])\n",
    "]\n",
    "X_test = np.c_[\n",
    "    vectorizer.transform(test_df['question1']),\n",
    "    vectorizer.transform(test_df['question2'])\n",
    "]\n",
    "\n",
    "y_train = train_df['is_duplicate']\n",
    "y_test = test_df['is_duplicate']"
   ]
  },
  {
   "cell_type": "code",
   "execution_count": null,
   "metadata": {
    "scrolled": true
   },
   "outputs": [
    {
     "name": "stdout",
     "output_type": "stream",
     "text": [
      "[13:15:43] INFO: /Users/runner/miniforge3/conda-bld/xgboost-split_1645117948562/work/src/tree/updater_prune.cc:101: tree pruning end, 126 extra nodes, 0 pruned nodes, max_depth=6\n",
      "[13:16:04] INFO: /Users/runner/miniforge3/conda-bld/xgboost-split_1645117948562/work/src/tree/updater_prune.cc:101: tree pruning end, 124 extra nodes, 0 pruned nodes, max_depth=6\n",
      "[13:16:23] INFO: /Users/runner/miniforge3/conda-bld/xgboost-split_1645117948562/work/src/tree/updater_prune.cc:101: tree pruning end, 126 extra nodes, 0 pruned nodes, max_depth=6\n",
      "[13:16:41] INFO: /Users/runner/miniforge3/conda-bld/xgboost-split_1645117948562/work/src/tree/updater_prune.cc:101: tree pruning end, 124 extra nodes, 0 pruned nodes, max_depth=6\n",
      "[13:16:56] INFO: /Users/runner/miniforge3/conda-bld/xgboost-split_1645117948562/work/src/tree/updater_prune.cc:101: tree pruning end, 112 extra nodes, 0 pruned nodes, max_depth=6\n",
      "[13:17:13] INFO: /Users/runner/miniforge3/conda-bld/xgboost-split_1645117948562/work/src/tree/updater_prune.cc:101: tree pruning end, 126 extra nodes, 0 pruned nodes, max_depth=6\n",
      "[13:17:29] INFO: /Users/runner/miniforge3/conda-bld/xgboost-split_1645117948562/work/src/tree/updater_prune.cc:101: tree pruning end, 126 extra nodes, 0 pruned nodes, max_depth=6\n",
      "[13:17:45] INFO: /Users/runner/miniforge3/conda-bld/xgboost-split_1645117948562/work/src/tree/updater_prune.cc:101: tree pruning end, 122 extra nodes, 0 pruned nodes, max_depth=6\n"
     ]
    },
    {
     "name": "stderr",
     "output_type": "stream",
     "text": [
      "Exception ignored on calling ctypes callback function: <function _log_callback at 0x171cab430>\n",
      "Traceback (most recent call last):\n",
      "  File \"/usr/local/Caskroom/miniconda/base/lib/python3.9/site-packages/xgboost/core.py\", line 143, in _log_callback\n",
      "    def _log_callback(msg: bytes) -> None:\n",
      "KeyboardInterrupt: \n"
     ]
    },
    {
     "name": "stdout",
     "output_type": "stream",
     "text": [
      "[13:18:21] INFO: /Users/runner/miniforge3/conda-bld/xgboost-split_1645117948562/work/src/tree/updater_prune.cc:101: tree pruning end, 126 extra nodes, 0 pruned nodes, max_depth=6\n",
      "[13:18:40] INFO: /Users/runner/miniforge3/conda-bld/xgboost-split_1645117948562/work/src/tree/updater_prune.cc:101: tree pruning end, 126 extra nodes, 0 pruned nodes, max_depth=6\n"
     ]
    },
    {
     "name": "stderr",
     "output_type": "stream",
     "text": [
      "Exception ignored on calling ctypes callback function: <function _log_callback at 0x171cab430>\n",
      "Traceback (most recent call last):\n",
      "  File \"/usr/local/Caskroom/miniconda/base/lib/python3.9/site-packages/xgboost/core.py\", line 143, in _log_callback\n",
      "    def _log_callback(msg: bytes) -> None:\n",
      "KeyboardInterrupt: \n",
      "Exception ignored on calling ctypes callback function: <function _log_callback at 0x171cab430>\n",
      "Traceback (most recent call last):\n",
      "  File \"/usr/local/Caskroom/miniconda/base/lib/python3.9/site-packages/xgboost/core.py\", line 143, in _log_callback\n",
      "    def _log_callback(msg: bytes) -> None:\n",
      "KeyboardInterrupt: \n"
     ]
    }
   ],
   "source": [
    "import xgboost as xgb\n",
    "import pickle\n",
    "\n",
    "classifiers = {\n",
    "    'XGBoost': xgb.XGBRegressor(random_state=123, verbosity=2),\n",
    "    'Random Forest': ensemble.RandomForestClassifier(random_state=123, verbose=True),\n",
    "    'SVM': svm.SVC(random_state=123, verbose=True)\n",
    "}\n",
    "\n",
    "for clf in classifiers.values():\n",
    "    clf.fit(X_train, y_train)\n",
    "    \n",
    "with open('tfidf_classifiers.pkl', 'wb') as file:\n",
    "    print('Saving classifiers...')\n",
    "    cPickle.dump(classifiers, file)\n",
    "    \n",
    "for name, clf in classifiers.items():\n",
    "    y_hat = clf.predict()\n",
    "    print(name + ':')\n",
    "    print(metrics.classification_report(y_test, y_hat) + '\\n')"
   ]
  }
 ],
 "metadata": {
  "kernelspec": {
   "display_name": "Python 3 (ipykernel)",
   "language": "python",
   "name": "python3"
  },
  "language_info": {
   "codemirror_mode": {
    "name": "ipython",
    "version": 3
   },
   "file_extension": ".py",
   "mimetype": "text/x-python",
   "name": "python",
   "nbconvert_exporter": "python",
   "pygments_lexer": "ipython3",
   "version": "3.9.7"
  },
  "toc": {
   "base_numbering": 1,
   "nav_menu": {},
   "number_sections": true,
   "sideBar": true,
   "skip_h1_title": false,
   "title_cell": "Table of Contents",
   "title_sidebar": "Contents",
   "toc_cell": false,
   "toc_position": {},
   "toc_section_display": true,
   "toc_window_display": false
  },
  "varInspector": {
   "cols": {
    "lenName": 16,
    "lenType": 16,
    "lenVar": 40
   },
   "kernels_config": {
    "python": {
     "delete_cmd_postfix": "",
     "delete_cmd_prefix": "del ",
     "library": "var_list.py",
     "varRefreshCmd": "print(var_dic_list())"
    },
    "r": {
     "delete_cmd_postfix": ") ",
     "delete_cmd_prefix": "rm(",
     "library": "var_list.r",
     "varRefreshCmd": "cat(var_dic_list()) "
    }
   },
   "types_to_exclude": [
    "module",
    "function",
    "builtin_function_or_method",
    "instance",
    "_Feature"
   ],
   "window_display": false
  }
 },
 "nbformat": 4,
 "nbformat_minor": 2
}
