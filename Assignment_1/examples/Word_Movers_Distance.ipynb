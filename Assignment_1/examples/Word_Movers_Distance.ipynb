{
 "cells": [
  {
   "cell_type": "code",
   "execution_count": 1,
   "id": "34e041dd",
   "metadata": {},
   "outputs": [],
   "source": [
    "import numpy as np\n",
    "import pandas as pd\n",
    "from utils import *\n",
    "from gensim.models import KeyedVectors"
   ]
  },
  {
   "cell_type": "code",
   "execution_count": 2,
   "id": "855934f0",
   "metadata": {},
   "outputs": [],
   "source": [
    "train_df = pd.read_csv(\"./quora_train_data.csv\")\n",
    "model = KeyedVectors.load(EmbeddingType.WORD2VEC)"
   ]
  },
  {
   "cell_type": "code",
   "execution_count": 3,
   "id": "7f1d1fd5",
   "metadata": {},
   "outputs": [],
   "source": [
    "# IMPORTANT: Vectorize the function so that it can be applied to arrays\n",
    "vector_word_movers_distance = np.vectorize(word_movers_distance)"
   ]
  },
  {
   "cell_type": "code",
   "execution_count": 4,
   "id": "e7767ba9",
   "metadata": {},
   "outputs": [],
   "source": [
    "q1_train = preprocess(train_df[\"question1\"])\n",
    "q2_train = preprocess(train_df[\"question2\"])\n",
    "is_duplicate = train_df['is_duplicate']"
   ]
  },
  {
   "cell_type": "code",
   "execution_count": 5,
   "id": "8b27b870",
   "metadata": {},
   "outputs": [
    {
     "name": "stderr",
     "output_type": "stream",
     "text": [
      "/home/volokin/PythonEnvironments/ds-38/lib/python3.8/site-packages/numpy/lib/function_base.py:2195: VisibleDeprecationWarning: Creating an ndarray from ragged nested sequences (which is a list-or-tuple of lists-or-tuples-or ndarrays with different lengths or shapes) is deprecated. If you meant to do this, you must specify 'dtype=object' when creating the ndarray.\n",
      "  args = [asarray(arg) for arg in args]\n"
     ]
    }
   ],
   "source": [
    "distances = vector_word_movers_distance(q1_train, q2_train, model)"
   ]
  },
  {
   "cell_type": "code",
   "execution_count": 6,
   "id": "86ac86ea",
   "metadata": {},
   "outputs": [
    {
     "name": "stdout",
     "output_type": "stream",
     "text": [
      "0.7332462334521129 1\n",
      "0.4779630316680651 1\n",
      "1.355823339481601 0\n",
      "2.5853415256713976 0\n",
      "1.4559924439627665 1\n",
      "2.70798776514474 0\n",
      "1.3722422452436456 1\n",
      "2.622113830335169 0\n",
      "1.5915567454413444 0\n",
      "0.24911687032612623 0\n",
      "0.6701897879701852 1\n",
      "1.3132630430550067 0\n",
      "1.82739356882688 0\n",
      "1.1944354000649928 0\n",
      "1.8715893253247184 0\n",
      "2.094802456949794 1\n",
      "1.2533084696536414 1\n",
      "0.7555487332092456 1\n",
      "2.1165680410531325 0\n",
      "1.0214959740067044 1\n",
      "0.4859069750277488 0\n",
      "1.68556280701852 0\n",
      "2.51378498709575 0\n",
      "0.686658713046789 0\n",
      "2.195025205895233 0\n",
      "0.5457834844742788 1\n",
      "0.4635660764281939 0\n",
      "1.6077623351518542 1\n",
      "0.17696281414457873 0\n",
      "0.46255701780319214 1\n"
     ]
    }
   ],
   "source": [
    "for d, y in zip(distances[:30], is_duplicate[:30]):\n",
    "    print(d, y)"
   ]
  },
  {
   "cell_type": "code",
   "execution_count": null,
   "id": "c9ab17d8",
   "metadata": {},
   "outputs": [],
   "source": []
  }
 ],
 "metadata": {
  "kernelspec": {
   "display_name": "Python 3 (ipykernel)",
   "language": "python",
   "name": "python3"
  },
  "language_info": {
   "codemirror_mode": {
    "name": "ipython",
    "version": 3
   },
   "file_extension": ".py",
   "mimetype": "text/x-python",
   "name": "python",
   "nbconvert_exporter": "python",
   "pygments_lexer": "ipython3",
   "version": "3.8.13"
  }
 },
 "nbformat": 4,
 "nbformat_minor": 5
}
