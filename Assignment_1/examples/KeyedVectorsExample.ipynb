{
 "cells": [
  {
   "cell_type": "code",
   "execution_count": 1,
   "id": "5d751239",
   "metadata": {},
   "outputs": [],
   "source": [
    "import numpy as np\n",
    "from gensim.models import KeyedVectors"
   ]
  },
  {
   "cell_type": "markdown",
   "id": "c2a1b29f",
   "metadata": {},
   "source": [
    "### Create and save a KeyedVectors model"
   ]
  },
  {
   "cell_type": "code",
   "execution_count": 2,
   "id": "313bf204",
   "metadata": {},
   "outputs": [],
   "source": [
    "embeddings = np.random.uniform(size=(5, 50))\n",
    "words = ['antler', 'squirrel', 'bush', 'bear', 'pine']"
   ]
  },
  {
   "cell_type": "code",
   "execution_count": 3,
   "id": "ef1fa136",
   "metadata": {},
   "outputs": [],
   "source": [
    "# Create new model specifying the embedding's size\n",
    "model = KeyedVectors(embeddings.shape[1])"
   ]
  },
  {
   "cell_type": "code",
   "execution_count": 4,
   "id": "4bf7a670",
   "metadata": {},
   "outputs": [],
   "source": [
    "# Add words and embeddings\n",
    "model.add_vectors(words, embeddings)"
   ]
  },
  {
   "cell_type": "code",
   "execution_count": 5,
   "id": "4cdde4dc",
   "metadata": {},
   "outputs": [
    {
     "data": {
      "text/plain": [
       "array([0.75723475, 0.09302799, 0.5604329 , 0.22974879, 0.6422034 ,\n",
       "       0.8170946 , 0.69095504, 0.366405  , 0.19024968, 0.3411132 ,\n",
       "       0.09207077, 0.38992363, 0.1873398 , 0.85517347, 0.84785354,\n",
       "       0.36311343, 0.62223566, 0.6588975 , 0.968463  , 0.3596041 ,\n",
       "       0.21812174, 0.00519917, 0.7712455 , 0.9983466 , 0.69227546,\n",
       "       0.9023724 , 0.36496618, 0.5790431 , 0.95538956, 0.78216404,\n",
       "       0.6966301 , 0.75165457, 0.4544694 , 0.9978966 , 0.33199686,\n",
       "       0.66810673, 0.00859203, 0.05177771, 0.39556232, 0.52294767,\n",
       "       0.05147663, 0.77162164, 0.2651441 , 0.02735216, 0.10373967,\n",
       "       0.32470044, 0.7581051 , 0.7701278 , 0.5167657 , 0.58312374],\n",
       "      dtype=float32)"
      ]
     },
     "execution_count": 5,
     "metadata": {},
     "output_type": "execute_result"
    }
   ],
   "source": [
    "model['antler']"
   ]
  },
  {
   "cell_type": "code",
   "execution_count": 6,
   "id": "6212ccaa",
   "metadata": {},
   "outputs": [
    {
     "data": {
      "text/plain": [
       "{'antler': 0, 'squirrel': 1, 'bush': 2, 'bear': 3, 'pine': 4}"
      ]
     },
     "execution_count": 6,
     "metadata": {},
     "output_type": "execute_result"
    }
   ],
   "source": [
    "model.key_to_index"
   ]
  },
  {
   "cell_type": "code",
   "execution_count": 7,
   "id": "c5a21846",
   "metadata": {},
   "outputs": [],
   "source": [
    "model.save('kv_example.kv')"
   ]
  },
  {
   "cell_type": "markdown",
   "id": "f33a4a23",
   "metadata": {},
   "source": [
    "### Load the saved model"
   ]
  },
  {
   "cell_type": "code",
   "execution_count": 8,
   "id": "cbae1c60",
   "metadata": {},
   "outputs": [],
   "source": [
    "model2 = KeyedVectors.load('kv_example.kv')"
   ]
  },
  {
   "cell_type": "code",
   "execution_count": 9,
   "id": "18d3fe2a",
   "metadata": {},
   "outputs": [
    {
     "data": {
      "text/plain": [
       "array([0.75723475, 0.09302799, 0.5604329 , 0.22974879, 0.6422034 ,\n",
       "       0.8170946 , 0.69095504, 0.366405  , 0.19024968, 0.3411132 ,\n",
       "       0.09207077, 0.38992363, 0.1873398 , 0.85517347, 0.84785354,\n",
       "       0.36311343, 0.62223566, 0.6588975 , 0.968463  , 0.3596041 ,\n",
       "       0.21812174, 0.00519917, 0.7712455 , 0.9983466 , 0.69227546,\n",
       "       0.9023724 , 0.36496618, 0.5790431 , 0.95538956, 0.78216404,\n",
       "       0.6966301 , 0.75165457, 0.4544694 , 0.9978966 , 0.33199686,\n",
       "       0.66810673, 0.00859203, 0.05177771, 0.39556232, 0.52294767,\n",
       "       0.05147663, 0.77162164, 0.2651441 , 0.02735216, 0.10373967,\n",
       "       0.32470044, 0.7581051 , 0.7701278 , 0.5167657 , 0.58312374],\n",
       "      dtype=float32)"
      ]
     },
     "execution_count": 9,
     "metadata": {},
     "output_type": "execute_result"
    }
   ],
   "source": [
    "model2['antler']"
   ]
  },
  {
   "cell_type": "code",
   "execution_count": 10,
   "id": "280feea8",
   "metadata": {},
   "outputs": [
    {
     "data": {
      "text/plain": [
       "{'antler': 0, 'squirrel': 1, 'bush': 2, 'bear': 3, 'pine': 4}"
      ]
     },
     "execution_count": 10,
     "metadata": {},
     "output_type": "execute_result"
    }
   ],
   "source": [
    "model2.key_to_index"
   ]
  }
 ],
 "metadata": {
  "kernelspec": {
   "display_name": "Python 3 (ipykernel)",
   "language": "python",
   "name": "python3"
  },
  "language_info": {
   "codemirror_mode": {
    "name": "ipython",
    "version": 3
   },
   "file_extension": ".py",
   "mimetype": "text/x-python",
   "name": "python",
   "nbconvert_exporter": "python",
   "pygments_lexer": "ipython3",
   "version": "3.8.13"
  }
 },
 "nbformat": 4,
 "nbformat_minor": 5
}
