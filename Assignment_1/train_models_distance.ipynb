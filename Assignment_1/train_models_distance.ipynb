{
 "cells": [
  {
   "cell_type": "markdown",
   "metadata": {},
   "source": [
    "# Quora Question pairs\n",
    "\n",
    "\n",
    "Today it's a preparation for delivery 1.\n",
    "\n",
    "\n",
    "The objective of today is to build a solution for:\n",
    "\n",
    "https://www.kaggle.com/c/quora-question-pairs/overview\n",
    "\n",
    "You might even make a late submission to kaggle to know how well you would have done in the competition.\n",
    "\n"
   ]
  },
  {
   "cell_type": "code",
   "execution_count": 1,
   "metadata": {
    "ExecuteTime": {
     "end_time": "2022-03-08T21:06:43.784914Z",
     "start_time": "2022-03-08T21:06:42.802201Z"
    },
    "scrolled": true
   },
   "outputs": [],
   "source": [
    "import pandas as pd\n",
    "import scipy\n",
    "import sklearn\n",
    "from sklearn import *\n",
    "import numpy as np\n",
    "import os\n",
    "\n",
    "df = pd.read_csv(\"./quora_train_data.csv\")\n",
    "train, valid = sklearn.model_selection.train_test_split(df, test_size=0.05, random_state=123)"
   ]
  },
  {
   "cell_type": "markdown",
   "metadata": {},
   "source": [
    "# Improving feature vectors:\n",
    "Build a Similarity metric between documents using the tf-idf vectors of the documents.\n",
    "\n",
    "Build a class from scratch that can learn a tf-idf feature representation."
   ]
  },
  {
   "cell_type": "code",
   "execution_count": 2,
   "metadata": {},
   "outputs": [],
   "source": [
    "from utils import TfIdfCustomVectorizer, TfIdfEmbeddingVectorizer, preprocess\n",
    "from gensim.models import Word2Vec"
   ]
  },
  {
   "cell_type": "markdown",
   "metadata": {},
   "source": [
    "First we are going to train a Word2Vec model, so that it better fits our problem."
   ]
  },
  {
   "cell_type": "code",
   "execution_count": 3,
   "metadata": {},
   "outputs": [],
   "source": [
    "all_questions = list(train[\"question1\"]) + list(train[\"question2\"])"
   ]
  },
  {
   "cell_type": "code",
   "execution_count": 4,
   "metadata": {
    "scrolled": true
   },
   "outputs": [],
   "source": [
    "from utils import TfIdfEmbeddingVectorizer\n",
    "\n",
    "vectorizer = TfIdfEmbeddingVectorizer().fit(all_questions)\n",
    "\n",
    "X_train_q1 = vectorizer.transform(train['question1'])\n",
    "X_train_q2 = vectorizer.transform(train['question2'])"
   ]
  },
  {
   "cell_type": "code",
   "execution_count": 24,
   "metadata": {},
   "outputs": [],
   "source": [
    "X_valid_q1 = vectorizer.transform(valid['question1'])\n",
    "X_valid_q2 = vectorizer.transform(valid['question2'])"
   ]
  },
  {
   "cell_type": "code",
   "execution_count": 15,
   "metadata": {
    "scrolled": true
   },
   "outputs": [],
   "source": [
    "def cosine(X, Y):\n",
    "    norm = (np.linalg.norm(X, axis=1) * np.linalg.norm(Y, axis=1))\n",
    "    return 1 - np.einsum('ij,ij->i', X, Y) / np.where(norm==0, 1, norm)\n",
    "\n",
    "def manhattan(X, Y):\n",
    "    return np.linalg.norm(X - Y, ord=1, axis=1)\n",
    "\n",
    "def euclid(X, Y):\n",
    "    return np.linalg.norm(X - Y, ord=2, axis=1)\n",
    "\n",
    "X_train_dist_cos = cosine(X_train_q1, X_train_q2)\n",
    "X_train_dist_man = manhattan(X_train_q1, X_train_q2)\n",
    "X_train_dist_euc = euclid(X_train_q1, X_train_q2)"
   ]
  },
  {
   "cell_type": "code",
   "execution_count": 25,
   "metadata": {},
   "outputs": [],
   "source": [
    "X_valid_dist_cos = cosine(X_valid_q1, X_valid_q2)\n",
    "X_valid_dist_man = manhattan(X_valid_q1, X_valid_q2)\n",
    "X_valid_dist_euc = euclid(X_valid_q1, X_valid_q2)"
   ]
  },
  {
   "cell_type": "code",
   "execution_count": 27,
   "metadata": {},
   "outputs": [],
   "source": [
    "from matplotlib import pyplot as plt\n",
    "\n",
    "def tpr_fpr(p, dist, y_true):\n",
    "    accurate = y_true == (dist < p)\n",
    "    tpr = accurate[y_true == 1].mean()\n",
    "    fpr = 1 - accurate[y_true == 0].mean()\n",
    "    return tpr, fpr\n",
    "\n",
    "y = valid['is_duplicate'].to_numpy()\n",
    "roc_cos = [tpr_fpr(p, X_valid_dist_cos, y) for p in np.linspace(0, 1, 1000)]\n",
    "roc_man = [tpr_fpr(p, X_valid_dist_man, y) for p in np.linspace(0, X_valid_dist_man.max(), 1000)]\n",
    "roc_euc = [tpr_fpr(p, X_valid_dist_euc, y) for p in np.linspace(0, X_valid_dist_euc.max(), 1000)]"
   ]
  },
  {
   "cell_type": "code",
   "execution_count": 39,
   "metadata": {
    "scrolled": false
   },
   "outputs": [
    {
     "data": {
      "image/png": "[encoded data removed]",
      "text/plain": [
       "<Figure size 432x288 with 1 Axes>"
      ]
     },
     "metadata": {
      "needs_background": "light"
     },
     "output_type": "display_data"
    }
   ],
   "source": [
    "plt.plot([0,1],[0,1], '--')\n",
    "\n",
    "tpr, fpr = zip(*roc_cos)\n",
    "plt.plot(fpr, tpr, label='cosine ({:.4f})'.format(metrics.auc(fpr, tpr)))\n",
    "\n",
    "tpr, fpr = zip(*roc_man)\n",
    "plt.plot(fpr, tpr, label='manhattan ({:.4f})'.format(metrics.auc(fpr, tpr)))\n",
    "\n",
    "tpr, fpr = zip(*roc_euc)\n",
    "plt.plot(fpr, tpr, label='euclidean ({:.4f})'.format(metrics.auc(fpr, tpr)))\n",
    "\n",
    "plt.xlabel('False positive rate')\n",
    "plt.ylabel('True positive rate')\n",
    "plt.title('ROC for distance measures')\n",
    "plt.legend(title='measure (AUC)')\n",
    "plt.savefig('img/roc.pdf')"
   ]
  },
  {
   "cell_type": "code",
   "execution_count": 19,
   "metadata": {},
   "outputs": [
    {
     "data": {
      "text/plain": [
       "0.7416772167128238"
      ]
     },
     "execution_count": 19,
     "metadata": {},
     "output_type": "execute_result"
    }
   ],
   "source": [
    "tpr, fpr = zip(*roc_euc)\n",
    "metrics.auc(fpr, tpr)"
   ]
  },
  {
   "cell_type": "code",
   "execution_count": 30,
   "metadata": {},
   "outputs": [],
   "source": [
    "vals = [(y == (X_valid_dist_cos < p)).mean() for p in np.linspace(0, 1, 1000)]"
   ]
  },
  {
   "cell_type": "code",
   "execution_count": 31,
   "metadata": {},
   "outputs": [
    {
     "data": {
      "text/plain": [
       "0.666955231263913"
      ]
     },
     "execution_count": 31,
     "metadata": {},
     "output_type": "execute_result"
    }
   ],
   "source": [
    "max(vals)"
   ]
  }
 ],
 "metadata": {
  "kernelspec": {
   "display_name": "Python 3 (ipykernel)",
   "language": "python",
   "name": "python3"
  },
  "language_info": {
   "codemirror_mode": {
    "name": "ipython",
    "version": 3
   },
   "file_extension": ".py",
   "mimetype": "text/x-python",
   "name": "python",
   "nbconvert_exporter": "python",
   "pygments_lexer": "ipython3",
   "version": "3.9.7"
  },
  "toc": {
   "base_numbering": 1,
   "nav_menu": {},
   "number_sections": true,
   "sideBar": true,
   "skip_h1_title": false,
   "title_cell": "Table of Contents",
   "title_sidebar": "Contents",
   "toc_cell": false,
   "toc_position": {},
   "toc_section_display": true,
   "toc_window_display": false
  },
  "varInspector": {
   "cols": {
    "lenName": 16,
    "lenType": 16,
    "lenVar": 40
   },
   "kernels_config": {
    "python": {
     "delete_cmd_postfix": "",
     "delete_cmd_prefix": "del ",
     "library": "var_list.py",
     "varRefreshCmd": "print(var_dic_list())"
    },
    "r": {
     "delete_cmd_postfix": ") ",
     "delete_cmd_prefix": "rm(",
     "library": "var_list.r",
     "varRefreshCmd": "cat(var_dic_list()) "
    }
   },
   "types_to_exclude": [
    "module",
    "function",
    "builtin_function_or_method",
    "instance",
    "_Feature"
   ],
   "window_display": false
  }
 },
 "nbformat": 4,
 "nbformat_minor": 2
}
